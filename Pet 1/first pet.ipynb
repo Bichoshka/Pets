{
 "cells": [
  {
   "cell_type": "markdown",
   "id": "45777938",
   "metadata": {},
   "source": [
    "# Исследование данных о фильмах"
   ]
  },
  {
   "cell_type": "code",
   "execution_count": 101,
   "id": "b4a1a7a8",
   "metadata": {},
   "outputs": [],
   "source": [
    "import pandas as pd\n",
    "import numpy as np\n",
    "import matplotlib.pyplot as plt\n",
    "import seaborn as sns"
   ]
  },
  {
   "cell_type": "markdown",
   "id": "e0061d49",
   "metadata": {},
   "source": [
    "## Открытие файлов и знакомство с ними"
   ]
  },
  {
   "cell_type": "markdown",
   "id": "e63b048d",
   "metadata": {},
   "source": [
    "У нас имеются следующие данные в двух датасетах:  \n",
    "•\ttitle — название фильма;  \n",
    "•\tpuNumber — номер прокатного удостоверения;  \n",
    "•\tshow_start_date — дата премьеры фильма;  \n",
    "•\ttype — тип фильма;  \n",
    "•\tfilm_studio — студия-производитель;  \n",
    "•\tproduction_country — страна-производитель;  \n",
    "•\tdirector — режиссёр;  \n",
    "•\tproducer — продюсер;  \n",
    "•\tage_restriction — возрастная категория;  \n",
    "•\trefundable_support — объём возвратных средств государственной поддержки;  \n",
    "•\tnonrefundable_support — объём невозвратных средств государственной поддержки;  \n",
    "•\tfinancing_source — источник государственного финансирования;  \n",
    "•\tbudget — общий бюджет фильма;  \n",
    "•\tratings — рейтинг фильма на КиноПоиске;  \n",
    "•\tgenres — жанр фильма.  \n",
    "•\tbox_office — сборы в рублях.  \n",
    "\n",
    "    Задача: объединить датасеты в один, ознакомившись с их содержимым наметить вектор дальнейшей работы."
   ]
  },
  {
   "cell_type": "code",
   "execution_count": 102,
   "id": "0d59f28c",
   "metadata": {},
   "outputs": [
    {
     "name": "stdout",
     "output_type": "stream",
     "text": [
      "<class 'pandas.core.frame.DataFrame'>\n",
      "RangeIndex: 7486 entries, 0 to 7485\n",
      "Data columns (total 15 columns):\n",
      " #   Column                 Non-Null Count  Dtype  \n",
      "---  ------                 --------------  -----  \n",
      " 0   title                  7486 non-null   object \n",
      " 1   puNumber               7486 non-null   object \n",
      " 2   show_start_date        7486 non-null   object \n",
      " 3   type                   7486 non-null   object \n",
      " 4   film_studio            7468 non-null   object \n",
      " 5   production_country     7484 non-null   object \n",
      " 6   director               7477 non-null   object \n",
      " 7   producer               6918 non-null   object \n",
      " 8   age_restriction        7486 non-null   object \n",
      " 9   refundable_support     332 non-null    float64\n",
      " 10  nonrefundable_support  332 non-null    float64\n",
      " 11  budget                 332 non-null    float64\n",
      " 12  financing_source       332 non-null    object \n",
      " 13  ratings                6519 non-null   object \n",
      " 14  genres                 6510 non-null   object \n",
      "dtypes: float64(3), object(12)\n",
      "memory usage: 877.4+ KB\n"
     ]
    }
   ],
   "source": [
    "try: \n",
    "    a = pd.read_csv('/datasets/mkrf_movies.csv')\n",
    "    b = pd.read_csv('/datasets/mkrf_shows.csv')\n",
    "except:\n",
    "    a = pd.read_csv('datasets/mkrf_movies.csv')\n",
    "    b = pd.read_csv('datasets/mkrf_shows.csv')   \n",
    "pd.set_option('display.max_columns', None)\n",
    "a.info()"
   ]
  },
  {
   "cell_type": "code",
   "execution_count": 103,
   "id": "f4e6725a",
   "metadata": {},
   "outputs": [
    {
     "name": "stdout",
     "output_type": "stream",
     "text": [
      "<class 'pandas.core.frame.DataFrame'>\n",
      "RangeIndex: 3158 entries, 0 to 3157\n",
      "Data columns (total 2 columns):\n",
      " #   Column      Non-Null Count  Dtype  \n",
      "---  ------      --------------  -----  \n",
      " 0   puNumber    3158 non-null   int64  \n",
      " 1   box_office  3158 non-null   float64\n",
      "dtypes: float64(1), int64(1)\n",
      "memory usage: 49.5 KB\n"
     ]
    }
   ],
   "source": [
    "b.info()"
   ]
  },
  {
   "cell_type": "markdown",
   "id": "943ea974",
   "metadata": {},
   "source": [
    "Итак, попробуем объединить два датафрейма в один для удобства дальнейшей работы. Как видно из общей информации, сначала стоит привести puNumber к одному типу, а потому уже склеить по нему. "
   ]
  },
  {
   "cell_type": "code",
   "execution_count": 104,
   "id": "f2fcfd2a",
   "metadata": {},
   "outputs": [],
   "source": [
    "b['puNumber'] = b['puNumber'].astype(str)\n",
    "df = a.merge(b, on='puNumber', how='left')"
   ]
  },
  {
   "cell_type": "code",
   "execution_count": 105,
   "id": "51e3efbd",
   "metadata": {
    "scrolled": false
   },
   "outputs": [],
   "source": [
    "#приведём названия колонок к нижнему регистру\n",
    "df.columns= df.columns.str.lower()"
   ]
  },
  {
   "cell_type": "code",
   "execution_count": 106,
   "id": "4df0b26f",
   "metadata": {},
   "outputs": [
    {
     "data": {
      "text/html": [
       "<div>\n",
       "<style scoped>\n",
       "    .dataframe tbody tr th:only-of-type {\n",
       "        vertical-align: middle;\n",
       "    }\n",
       "\n",
       "    .dataframe tbody tr th {\n",
       "        vertical-align: top;\n",
       "    }\n",
       "\n",
       "    .dataframe thead th {\n",
       "        text-align: right;\n",
       "    }\n",
       "</style>\n",
       "<table border=\"1\" class=\"dataframe\">\n",
       "  <thead>\n",
       "    <tr style=\"text-align: right;\">\n",
       "      <th></th>\n",
       "      <th>title</th>\n",
       "      <th>punumber</th>\n",
       "      <th>show_start_date</th>\n",
       "      <th>type</th>\n",
       "      <th>film_studio</th>\n",
       "      <th>production_country</th>\n",
       "      <th>director</th>\n",
       "      <th>producer</th>\n",
       "      <th>age_restriction</th>\n",
       "      <th>refundable_support</th>\n",
       "      <th>nonrefundable_support</th>\n",
       "      <th>budget</th>\n",
       "      <th>financing_source</th>\n",
       "      <th>ratings</th>\n",
       "      <th>genres</th>\n",
       "      <th>box_office</th>\n",
       "    </tr>\n",
       "  </thead>\n",
       "  <tbody>\n",
       "    <tr>\n",
       "      <th>0</th>\n",
       "      <td>Открытый простор</td>\n",
       "      <td>221048915</td>\n",
       "      <td>2015-11-27T12:00:00.000Z</td>\n",
       "      <td>Художественный</td>\n",
       "      <td>Тачстоун Пикчерз, Кобальт Пикчерз, Бикон Пикче...</td>\n",
       "      <td>США</td>\n",
       "      <td>Кевин Костнер</td>\n",
       "      <td>Дэвид Валдес, Кевин Костнер, Джейк Эбертс</td>\n",
       "      <td>«18+» - запрещено для детей</td>\n",
       "      <td>NaN</td>\n",
       "      <td>NaN</td>\n",
       "      <td>NaN</td>\n",
       "      <td>NaN</td>\n",
       "      <td>7.2</td>\n",
       "      <td>боевик,драма,мелодрама</td>\n",
       "      <td>NaN</td>\n",
       "    </tr>\n",
       "    <tr>\n",
       "      <th>1</th>\n",
       "      <td>Особо важное задание</td>\n",
       "      <td>111013716</td>\n",
       "      <td>2016-09-13T12:00:00.000Z</td>\n",
       "      <td>Художественный</td>\n",
       "      <td>Киностудия \"Мосфильм\"</td>\n",
       "      <td>СССР</td>\n",
       "      <td>Е.Матвеев</td>\n",
       "      <td>NaN</td>\n",
       "      <td>«6+» - для детей старше 6 лет</td>\n",
       "      <td>NaN</td>\n",
       "      <td>NaN</td>\n",
       "      <td>NaN</td>\n",
       "      <td>NaN</td>\n",
       "      <td>6.6</td>\n",
       "      <td>драма,военный</td>\n",
       "      <td>NaN</td>\n",
       "    </tr>\n",
       "    <tr>\n",
       "      <th>2</th>\n",
       "      <td>Особо опасен</td>\n",
       "      <td>221038416</td>\n",
       "      <td>2016-10-10T12:00:00.000Z</td>\n",
       "      <td>Художественный</td>\n",
       "      <td>Юниверсал Пикчерз, Кикстарт Продакшнз, Марк Пл...</td>\n",
       "      <td>США</td>\n",
       "      <td>Тимур Бекмамбетов</td>\n",
       "      <td>Джим Лемли, Джейсон Нетер, Марк Е.Платт, Яйн Смит</td>\n",
       "      <td>«18+» - запрещено для детей</td>\n",
       "      <td>NaN</td>\n",
       "      <td>NaN</td>\n",
       "      <td>NaN</td>\n",
       "      <td>NaN</td>\n",
       "      <td>6.8</td>\n",
       "      <td>фантастика,боевик,триллер</td>\n",
       "      <td>NaN</td>\n",
       "    </tr>\n",
       "    <tr>\n",
       "      <th>3</th>\n",
       "      <td>Особо опасен</td>\n",
       "      <td>221026916</td>\n",
       "      <td>2016-06-10T12:00:00.000Z</td>\n",
       "      <td>Художественный</td>\n",
       "      <td>Юниверсал Пикчерз, Кикстарт Продакшнз, Марк Пл...</td>\n",
       "      <td>США</td>\n",
       "      <td>Тимур Бекмамбетов</td>\n",
       "      <td>Джим Лемли, Джейсон Нетер, Марк Е.Платт, Яйн Смит</td>\n",
       "      <td>«18+» - запрещено для детей</td>\n",
       "      <td>NaN</td>\n",
       "      <td>NaN</td>\n",
       "      <td>NaN</td>\n",
       "      <td>NaN</td>\n",
       "      <td>6.8</td>\n",
       "      <td>фантастика,боевик,триллер</td>\n",
       "      <td>NaN</td>\n",
       "    </tr>\n",
       "    <tr>\n",
       "      <th>4</th>\n",
       "      <td>Особо опасен</td>\n",
       "      <td>221030815</td>\n",
       "      <td>2015-07-29T12:00:00.000Z</td>\n",
       "      <td>Художественный</td>\n",
       "      <td>Юниверсал Пикчерз, Кикстарт Продакшнз, Марк Пл...</td>\n",
       "      <td>США</td>\n",
       "      <td>Тимур Бекмамбетов</td>\n",
       "      <td>Джим Лемли, Джейсон Нетер, Марк Е.Платт, Яйн Смит</td>\n",
       "      <td>«18+» - запрещено для детей</td>\n",
       "      <td>NaN</td>\n",
       "      <td>NaN</td>\n",
       "      <td>NaN</td>\n",
       "      <td>NaN</td>\n",
       "      <td>6.8</td>\n",
       "      <td>фантастика,боевик,триллер</td>\n",
       "      <td>NaN</td>\n",
       "    </tr>\n",
       "    <tr>\n",
       "      <th>5</th>\n",
       "      <td>Остановился поезд</td>\n",
       "      <td>111013816</td>\n",
       "      <td>2016-09-13T12:00:00.000Z</td>\n",
       "      <td>Художественный</td>\n",
       "      <td>Киностудия \"Мосфильм\"</td>\n",
       "      <td>СССР</td>\n",
       "      <td>В.Абдрашитов</td>\n",
       "      <td>NaN</td>\n",
       "      <td>«6+» - для детей старше 6 лет</td>\n",
       "      <td>NaN</td>\n",
       "      <td>NaN</td>\n",
       "      <td>NaN</td>\n",
       "      <td>NaN</td>\n",
       "      <td>7.7</td>\n",
       "      <td>драма</td>\n",
       "      <td>NaN</td>\n",
       "    </tr>\n",
       "    <tr>\n",
       "      <th>6</th>\n",
       "      <td>Любовь и голуби</td>\n",
       "      <td>111007013</td>\n",
       "      <td>2013-10-18T12:00:00.000Z</td>\n",
       "      <td>Художественный</td>\n",
       "      <td>Киностудия \"Мосфильм\"</td>\n",
       "      <td>СССР</td>\n",
       "      <td>В.Меньшов</td>\n",
       "      <td>NaN</td>\n",
       "      <td>«12+» - для детей старше 12 лет</td>\n",
       "      <td>NaN</td>\n",
       "      <td>NaN</td>\n",
       "      <td>NaN</td>\n",
       "      <td>NaN</td>\n",
       "      <td>8.3</td>\n",
       "      <td>мелодрама,комедия</td>\n",
       "      <td>2700.0</td>\n",
       "    </tr>\n",
       "    <tr>\n",
       "      <th>7</th>\n",
       "      <td>Любовь и сигареты</td>\n",
       "      <td>221074614</td>\n",
       "      <td>2014-12-29T12:00:00.000Z</td>\n",
       "      <td>Художественный</td>\n",
       "      <td>Юнайтед Артистс, Грин Стрит Филмз, Айкон Интер...</td>\n",
       "      <td>США</td>\n",
       "      <td>Джон Туртурро</td>\n",
       "      <td>Джон Пенотти, Джон Туртурро</td>\n",
       "      <td>«18+» - запрещено для детей</td>\n",
       "      <td>NaN</td>\n",
       "      <td>NaN</td>\n",
       "      <td>NaN</td>\n",
       "      <td>NaN</td>\n",
       "      <td>6.6</td>\n",
       "      <td>мюзикл,мелодрама,комедия</td>\n",
       "      <td>NaN</td>\n",
       "    </tr>\n",
       "    <tr>\n",
       "      <th>8</th>\n",
       "      <td>Отпетые мошенники.</td>\n",
       "      <td>121011416</td>\n",
       "      <td>2016-05-05T12:00:00.000Z</td>\n",
       "      <td>Художественный</td>\n",
       "      <td>Пульсар Продюксьон, ТФ1 Фильм</td>\n",
       "      <td>Франция</td>\n",
       "      <td>Эрик Беснард</td>\n",
       "      <td>Патрис Леду</td>\n",
       "      <td>«18+» - запрещено для детей</td>\n",
       "      <td>NaN</td>\n",
       "      <td>NaN</td>\n",
       "      <td>NaN</td>\n",
       "      <td>NaN</td>\n",
       "      <td>8.0</td>\n",
       "      <td>комедия,криминал</td>\n",
       "      <td>NaN</td>\n",
       "    </tr>\n",
       "    <tr>\n",
       "      <th>9</th>\n",
       "      <td>Отпуск за свой счет</td>\n",
       "      <td>111019114</td>\n",
       "      <td>2014-12-01T12:00:00.000Z</td>\n",
       "      <td>Художественный</td>\n",
       "      <td>Киностудия \"Мосфильм\", Телевидение ВНР</td>\n",
       "      <td>СССР, Венгрия</td>\n",
       "      <td>В.Титов</td>\n",
       "      <td>NaN</td>\n",
       "      <td>«12+» - для детей старше 12 лет</td>\n",
       "      <td>NaN</td>\n",
       "      <td>NaN</td>\n",
       "      <td>NaN</td>\n",
       "      <td>NaN</td>\n",
       "      <td>7.8</td>\n",
       "      <td>мелодрама,комедия</td>\n",
       "      <td>NaN</td>\n",
       "    </tr>\n",
       "  </tbody>\n",
       "</table>\n",
       "</div>"
      ],
      "text/plain": [
       "                  title   punumber           show_start_date            type  \\\n",
       "0      Открытый простор  221048915  2015-11-27T12:00:00.000Z  Художественный   \n",
       "1  Особо важное задание  111013716  2016-09-13T12:00:00.000Z  Художественный   \n",
       "2          Особо опасен  221038416  2016-10-10T12:00:00.000Z  Художественный   \n",
       "3          Особо опасен  221026916  2016-06-10T12:00:00.000Z  Художественный   \n",
       "4          Особо опасен  221030815  2015-07-29T12:00:00.000Z  Художественный   \n",
       "5     Остановился поезд  111013816  2016-09-13T12:00:00.000Z  Художественный   \n",
       "6       Любовь и голуби  111007013  2013-10-18T12:00:00.000Z  Художественный   \n",
       "7     Любовь и сигареты  221074614  2014-12-29T12:00:00.000Z  Художественный   \n",
       "8    Отпетые мошенники.  121011416  2016-05-05T12:00:00.000Z  Художественный   \n",
       "9   Отпуск за свой счет  111019114  2014-12-01T12:00:00.000Z  Художественный   \n",
       "\n",
       "                                         film_studio production_country  \\\n",
       "0  Тачстоун Пикчерз, Кобальт Пикчерз, Бикон Пикче...                США   \n",
       "1                              Киностудия \"Мосфильм\"               СССР   \n",
       "2  Юниверсал Пикчерз, Кикстарт Продакшнз, Марк Пл...                США   \n",
       "3  Юниверсал Пикчерз, Кикстарт Продакшнз, Марк Пл...                США   \n",
       "4  Юниверсал Пикчерз, Кикстарт Продакшнз, Марк Пл...                США   \n",
       "5                              Киностудия \"Мосфильм\"               СССР   \n",
       "6                              Киностудия \"Мосфильм\"               СССР   \n",
       "7  Юнайтед Артистс, Грин Стрит Филмз, Айкон Интер...                США   \n",
       "8                     Пульсар Продюксьон, ТФ1 Фильм             Франция   \n",
       "9             Киностудия \"Мосфильм\", Телевидение ВНР      СССР, Венгрия   \n",
       "\n",
       "            director                                           producer  \\\n",
       "0      Кевин Костнер          Дэвид Валдес, Кевин Костнер, Джейк Эбертс   \n",
       "1          Е.Матвеев                                                NaN   \n",
       "2  Тимур Бекмамбетов  Джим Лемли, Джейсон Нетер, Марк Е.Платт, Яйн Смит   \n",
       "3  Тимур Бекмамбетов  Джим Лемли, Джейсон Нетер, Марк Е.Платт, Яйн Смит   \n",
       "4  Тимур Бекмамбетов  Джим Лемли, Джейсон Нетер, Марк Е.Платт, Яйн Смит   \n",
       "5       В.Абдрашитов                                                NaN   \n",
       "6          В.Меньшов                                                NaN   \n",
       "7      Джон Туртурро                        Джон Пенотти, Джон Туртурро   \n",
       "8       Эрик Беснард                                        Патрис Леду   \n",
       "9            В.Титов                                                NaN   \n",
       "\n",
       "                   age_restriction  refundable_support  nonrefundable_support  \\\n",
       "0      «18+» - запрещено для детей                 NaN                    NaN   \n",
       "1    «6+» - для детей старше 6 лет                 NaN                    NaN   \n",
       "2      «18+» - запрещено для детей                 NaN                    NaN   \n",
       "3      «18+» - запрещено для детей                 NaN                    NaN   \n",
       "4      «18+» - запрещено для детей                 NaN                    NaN   \n",
       "5    «6+» - для детей старше 6 лет                 NaN                    NaN   \n",
       "6  «12+» - для детей старше 12 лет                 NaN                    NaN   \n",
       "7      «18+» - запрещено для детей                 NaN                    NaN   \n",
       "8      «18+» - запрещено для детей                 NaN                    NaN   \n",
       "9  «12+» - для детей старше 12 лет                 NaN                    NaN   \n",
       "\n",
       "   budget financing_source ratings                     genres  box_office  \n",
       "0     NaN              NaN     7.2     боевик,драма,мелодрама         NaN  \n",
       "1     NaN              NaN     6.6              драма,военный         NaN  \n",
       "2     NaN              NaN     6.8  фантастика,боевик,триллер         NaN  \n",
       "3     NaN              NaN     6.8  фантастика,боевик,триллер         NaN  \n",
       "4     NaN              NaN     6.8  фантастика,боевик,триллер         NaN  \n",
       "5     NaN              NaN     7.7                      драма         NaN  \n",
       "6     NaN              NaN     8.3          мелодрама,комедия      2700.0  \n",
       "7     NaN              NaN     6.6   мюзикл,мелодрама,комедия         NaN  \n",
       "8     NaN              NaN     8.0           комедия,криминал         NaN  \n",
       "9     NaN              NaN     7.8          мелодрама,комедия         NaN  "
      ]
     },
     "execution_count": 106,
     "metadata": {},
     "output_type": "execute_result"
    }
   ],
   "source": [
    "df.head(10)"
   ]
  },
  {
   "cell_type": "code",
   "execution_count": 107,
   "id": "ccd6c31a",
   "metadata": {
    "scrolled": false
   },
   "outputs": [
    {
     "data": {
      "text/plain": [
       "True"
      ]
     },
     "execution_count": 107,
     "metadata": {},
     "output_type": "execute_result"
    }
   ],
   "source": [
    "len(a) == len(df)"
   ]
  },
  {
   "cell_type": "code",
   "execution_count": 108,
   "id": "4b5b6654",
   "metadata": {
    "scrolled": true
   },
   "outputs": [
    {
     "data": {
      "text/plain": [
       "True"
      ]
     },
     "execution_count": 108,
     "metadata": {},
     "output_type": "execute_result"
    }
   ],
   "source": [
    "len(b) == df.box_office.value_counts().sum()"
   ]
  },
  {
   "cell_type": "markdown",
   "id": "8d4055dd",
   "metadata": {},
   "source": [
    "Первая проверка на одинаковую длину фреймов. Если это так, то мы не посоздавали дубликатов, а корректно внесли значения в уже имеющуюся таблицу.   \n",
    "    \n",
    "\n",
    "Вторая проверка на соотношение длин второго фрейма и заполненных значений итогового. Всё верно — ни один фильм не упущен.  \n",
    "    \n",
    "Ниже идут две визуальные проверки: сначала фильмы из фрейма b выводятся как есть, дальше в таком же виде сортируется итоговый фрейм и выводятся нужные колонки. Кажется, всё приклеилось правильно =)"
   ]
  },
  {
   "cell_type": "code",
   "execution_count": 120,
   "id": "11b1849f",
   "metadata": {},
   "outputs": [
    {
     "data": {
      "text/html": [
       "<div>\n",
       "<style scoped>\n",
       "    .dataframe tbody tr th:only-of-type {\n",
       "        vertical-align: middle;\n",
       "    }\n",
       "\n",
       "    .dataframe tbody tr th {\n",
       "        vertical-align: top;\n",
       "    }\n",
       "\n",
       "    .dataframe thead th {\n",
       "        text-align: right;\n",
       "    }\n",
       "</style>\n",
       "<table border=\"1\" class=\"dataframe\">\n",
       "  <thead>\n",
       "    <tr style=\"text-align: right;\">\n",
       "      <th></th>\n",
       "      <th>puNumber</th>\n",
       "      <th>box_office</th>\n",
       "    </tr>\n",
       "  </thead>\n",
       "  <tbody>\n",
       "    <tr>\n",
       "      <th>0</th>\n",
       "      <td>111000113</td>\n",
       "      <td>2.450000e+03</td>\n",
       "    </tr>\n",
       "    <tr>\n",
       "      <th>1</th>\n",
       "      <td>111000115</td>\n",
       "      <td>6.104000e+04</td>\n",
       "    </tr>\n",
       "    <tr>\n",
       "      <th>2</th>\n",
       "      <td>111000116</td>\n",
       "      <td>1.530300e+08</td>\n",
       "    </tr>\n",
       "    <tr>\n",
       "      <th>3</th>\n",
       "      <td>111000117</td>\n",
       "      <td>1.226096e+07</td>\n",
       "    </tr>\n",
       "    <tr>\n",
       "      <th>4</th>\n",
       "      <td>111000118</td>\n",
       "      <td>1.636841e+08</td>\n",
       "    </tr>\n",
       "  </tbody>\n",
       "</table>\n",
       "</div>"
      ],
      "text/plain": [
       "    puNumber    box_office\n",
       "0  111000113  2.450000e+03\n",
       "1  111000115  6.104000e+04\n",
       "2  111000116  1.530300e+08\n",
       "3  111000117  1.226096e+07\n",
       "4  111000118  1.636841e+08"
      ]
     },
     "execution_count": 120,
     "metadata": {},
     "output_type": "execute_result"
    }
   ],
   "source": [
    "b.head()"
   ]
  },
  {
   "cell_type": "code",
   "execution_count": 124,
   "id": "bc8b3471",
   "metadata": {},
   "outputs": [
    {
     "data": {
      "text/html": [
       "<div>\n",
       "<style scoped>\n",
       "    .dataframe tbody tr th:only-of-type {\n",
       "        vertical-align: middle;\n",
       "    }\n",
       "\n",
       "    .dataframe tbody tr th {\n",
       "        vertical-align: top;\n",
       "    }\n",
       "\n",
       "    .dataframe thead th {\n",
       "        text-align: right;\n",
       "    }\n",
       "</style>\n",
       "<table border=\"1\" class=\"dataframe\">\n",
       "  <thead>\n",
       "    <tr style=\"text-align: right;\">\n",
       "      <th></th>\n",
       "      <th>punumber</th>\n",
       "      <th>box_office</th>\n",
       "    </tr>\n",
       "  </thead>\n",
       "  <tbody>\n",
       "    <tr>\n",
       "      <th>1128</th>\n",
       "      <td>111000113</td>\n",
       "      <td>2.450000e+03</td>\n",
       "    </tr>\n",
       "    <tr>\n",
       "      <th>2397</th>\n",
       "      <td>111000115</td>\n",
       "      <td>6.104000e+04</td>\n",
       "    </tr>\n",
       "    <tr>\n",
       "      <th>3136</th>\n",
       "      <td>111000116</td>\n",
       "      <td>1.530300e+08</td>\n",
       "    </tr>\n",
       "    <tr>\n",
       "      <th>3670</th>\n",
       "      <td>111000117</td>\n",
       "      <td>1.226096e+07</td>\n",
       "    </tr>\n",
       "    <tr>\n",
       "      <th>5693</th>\n",
       "      <td>111000118</td>\n",
       "      <td>1.636841e+08</td>\n",
       "    </tr>\n",
       "  </tbody>\n",
       "</table>\n",
       "</div>"
      ],
      "text/plain": [
       "       punumber    box_office\n",
       "1128  111000113  2.450000e+03\n",
       "2397  111000115  6.104000e+04\n",
       "3136  111000116  1.530300e+08\n",
       "3670  111000117  1.226096e+07\n",
       "5693  111000118  1.636841e+08"
      ]
     },
     "execution_count": 124,
     "metadata": {},
     "output_type": "execute_result"
    }
   ],
   "source": [
    "df[df['box_office'].notna()].sort_values(by='punumber').head()[['punumber', 'box_office']]"
   ]
  },
  {
   "cell_type": "markdown",
   "id": "484bdee9",
   "metadata": {},
   "source": [
    "##  Предобработка данных"
   ]
  },
  {
   "cell_type": "markdown",
   "id": "0958ab25",
   "metadata": {},
   "source": [
    "### Замена типов данных"
   ]
  },
  {
   "cell_type": "code",
   "execution_count": 8,
   "id": "8ad0f19b",
   "metadata": {},
   "outputs": [],
   "source": [
    "df['punumber'] = pd.to_numeric(df['punumber'], errors='coerce')"
   ]
  },
  {
   "cell_type": "code",
   "execution_count": 9,
   "id": "34d0f512",
   "metadata": {},
   "outputs": [
    {
     "data": {
      "text/html": [
       "<div>\n",
       "<style scoped>\n",
       "    .dataframe tbody tr th:only-of-type {\n",
       "        vertical-align: middle;\n",
       "    }\n",
       "\n",
       "    .dataframe tbody tr th {\n",
       "        vertical-align: top;\n",
       "    }\n",
       "\n",
       "    .dataframe thead th {\n",
       "        text-align: right;\n",
       "    }\n",
       "</style>\n",
       "<table border=\"1\" class=\"dataframe\">\n",
       "  <thead>\n",
       "    <tr style=\"text-align: right;\">\n",
       "      <th></th>\n",
       "      <th>title</th>\n",
       "      <th>punumber</th>\n",
       "      <th>show_start_date</th>\n",
       "      <th>type</th>\n",
       "      <th>film_studio</th>\n",
       "      <th>production_country</th>\n",
       "      <th>director</th>\n",
       "      <th>producer</th>\n",
       "      <th>age_restriction</th>\n",
       "      <th>refundable_support</th>\n",
       "      <th>nonrefundable_support</th>\n",
       "      <th>budget</th>\n",
       "      <th>financing_source</th>\n",
       "      <th>ratings</th>\n",
       "      <th>genres</th>\n",
       "      <th>box_office</th>\n",
       "    </tr>\n",
       "  </thead>\n",
       "  <tbody>\n",
       "    <tr>\n",
       "      <th>1797</th>\n",
       "      <td>Курбан-роман. (История с жертвой)</td>\n",
       "      <td>NaN</td>\n",
       "      <td>2014-05-15T12:00:00.000Z</td>\n",
       "      <td>Художественный</td>\n",
       "      <td>ФОНД \"ИННОВАЦИЯ\"</td>\n",
       "      <td>Россия</td>\n",
       "      <td>С.Юзеев</td>\n",
       "      <td>М.Галицкая</td>\n",
       "      <td>«12+» - для детей старше 12 лет</td>\n",
       "      <td>NaN</td>\n",
       "      <td>NaN</td>\n",
       "      <td>NaN</td>\n",
       "      <td>NaN</td>\n",
       "      <td>NaN</td>\n",
       "      <td>NaN</td>\n",
       "      <td>NaN</td>\n",
       "    </tr>\n",
       "  </tbody>\n",
       "</table>\n",
       "</div>"
      ],
      "text/plain": [
       "                                  title  punumber           show_start_date  \\\n",
       "1797  Курбан-роман. (История с жертвой)       NaN  2014-05-15T12:00:00.000Z   \n",
       "\n",
       "                type       film_studio production_country director  \\\n",
       "1797  Художественный  ФОНД \"ИННОВАЦИЯ\"             Россия  С.Юзеев   \n",
       "\n",
       "        producer                  age_restriction  refundable_support  \\\n",
       "1797  М.Галицкая  «12+» - для детей старше 12 лет                 NaN   \n",
       "\n",
       "      nonrefundable_support  budget financing_source ratings genres  \\\n",
       "1797                    NaN     NaN              NaN     NaN    NaN   \n",
       "\n",
       "      box_office  \n",
       "1797         NaN  "
      ]
     },
     "execution_count": 9,
     "metadata": {},
     "output_type": "execute_result"
    }
   ],
   "source": [
    "df[pd.isnull(df['punumber'])]"
   ]
  },
  {
   "cell_type": "markdown",
   "id": "ee28bca2",
   "metadata": {},
   "source": [
    "Проигнорировав ошибку (заменив её NaN) при изменении формата, мы потеряли всего одно значение. К тому же, в этой строке нет \n",
    "и многих других данных. Удалим её, а потом приведём форма времени к удобному для работы:"
   ]
  },
  {
   "cell_type": "code",
   "execution_count": 10,
   "id": "46e22b90",
   "metadata": {},
   "outputs": [],
   "source": [
    "df.drop(labels=list(df[df['punumber'].isna()].index), inplace=True)\n",
    "df.reset_index()\n",
    "df['punumber'] = df['punumber'].astype(int);"
   ]
  },
  {
   "cell_type": "code",
   "execution_count": 11,
   "id": "c671b4bc",
   "metadata": {},
   "outputs": [
    {
     "data": {
      "text/plain": [
       "6519"
      ]
     },
     "execution_count": 11,
     "metadata": {},
     "output_type": "execute_result"
    }
   ],
   "source": [
    "df['show_start_date'] = pd.to_datetime(df['show_start_date']).dt.date\n",
    "df['show_start_date'] = pd.to_datetime(df['show_start_date'], format='%Y-%m-%d')\n",
    "df['ratings'].value_counts().sum()"
   ]
  },
  {
   "cell_type": "code",
   "execution_count": 12,
   "id": "d472ffe0",
   "metadata": {},
   "outputs": [
    {
     "data": {
      "text/plain": [
       "6490"
      ]
     },
     "execution_count": 12,
     "metadata": {},
     "output_type": "execute_result"
    }
   ],
   "source": [
    "df['ratings'] = pd.to_numeric(df['ratings'], errors='coerce')\n",
    "df['ratings'].value_counts().sum()"
   ]
  },
  {
   "cell_type": "markdown",
   "id": "e4aadb76",
   "metadata": {},
   "source": [
    "При переводе рейтинга в числовой формат потеряны 29 значений. Это вполне можно игнорировать. "
   ]
  },
  {
   "cell_type": "code",
   "execution_count": 13,
   "id": "78720f6a",
   "metadata": {},
   "outputs": [
    {
     "data": {
      "text/plain": [
       "title                            object\n",
       "punumber                          int32\n",
       "show_start_date          datetime64[ns]\n",
       "type                             object\n",
       "film_studio                      object\n",
       "production_country               object\n",
       "director                         object\n",
       "producer                         object\n",
       "age_restriction                  object\n",
       "refundable_support              float64\n",
       "nonrefundable_support           float64\n",
       "budget                          float64\n",
       "financing_source                 object\n",
       "ratings                         float64\n",
       "genres                           object\n",
       "box_office                      float64\n",
       "dtype: object"
      ]
     },
     "execution_count": 13,
     "metadata": {},
     "output_type": "execute_result"
    }
   ],
   "source": [
    "df.dtypes"
   ]
  },
  {
   "cell_type": "markdown",
   "id": "6815bb90",
   "metadata": {},
   "source": [
    "Типы данных приведены к нужным форматам, все оставшиеся object столбцы - категориальные."
   ]
  },
  {
   "cell_type": "markdown",
   "id": "07ba1b92",
   "metadata": {},
   "source": [
    "### Добавление новых столбцов"
   ]
  },
  {
   "cell_type": "code",
   "execution_count": 14,
   "id": "92afaca1",
   "metadata": {},
   "outputs": [],
   "source": [
    "#добавляем столбец с процентной долей господдержки от общего бюджета\n",
    "df['support_percent'] = round((df['refundable_support'] + df['nonrefundable_support'])/df['budget']  * 100)\n",
    "#df[df['support_percent'].isna() == False]"
   ]
  },
  {
   "cell_type": "code",
   "execution_count": 15,
   "id": "1cbbc6a1",
   "metadata": {},
   "outputs": [],
   "source": [
    "#добавляем столбец с годом выпуска\n",
    "df['year'] = df['show_start_date'].dt.year"
   ]
  },
  {
   "cell_type": "code",
   "execution_count": 16,
   "id": "c0a8622f",
   "metadata": {},
   "outputs": [],
   "source": [
    "#данные о жанрах переводятся в формат списка для последующего обращения по индексу\n",
    "df['genres'] = df['genres'].str.split(',')"
   ]
  },
  {
   "cell_type": "code",
   "execution_count": 17,
   "id": "aa3d04c4",
   "metadata": {},
   "outputs": [],
   "source": [
    "#функция возвращает первый жанр из списка, при ошибках выдаёт 0\n",
    "def genre_typer(row):\n",
    "    try:\n",
    "        a = row['genres'][0]\n",
    "        return a\n",
    "    except:\n",
    "        return 0"
   ]
  },
  {
   "cell_type": "code",
   "execution_count": 18,
   "id": "02978e33",
   "metadata": {},
   "outputs": [],
   "source": [
    "#применяем функцию\n",
    "df['main_genre'] = df.apply(genre_typer, axis=1)"
   ]
  },
  {
   "cell_type": "code",
   "execution_count": 19,
   "id": "6164b11f",
   "metadata": {},
   "outputs": [
    {
     "data": {
      "text/html": [
       "<div>\n",
       "<style scoped>\n",
       "    .dataframe tbody tr th:only-of-type {\n",
       "        vertical-align: middle;\n",
       "    }\n",
       "\n",
       "    .dataframe tbody tr th {\n",
       "        vertical-align: top;\n",
       "    }\n",
       "\n",
       "    .dataframe thead th {\n",
       "        text-align: right;\n",
       "    }\n",
       "</style>\n",
       "<table border=\"1\" class=\"dataframe\">\n",
       "  <thead>\n",
       "    <tr style=\"text-align: right;\">\n",
       "      <th></th>\n",
       "      <th>genres</th>\n",
       "      <th>main_genre</th>\n",
       "    </tr>\n",
       "  </thead>\n",
       "  <tbody>\n",
       "    <tr>\n",
       "      <th>0</th>\n",
       "      <td>[боевик, драма, мелодрама]</td>\n",
       "      <td>боевик</td>\n",
       "    </tr>\n",
       "    <tr>\n",
       "      <th>1</th>\n",
       "      <td>[драма, военный]</td>\n",
       "      <td>драма</td>\n",
       "    </tr>\n",
       "    <tr>\n",
       "      <th>2</th>\n",
       "      <td>[фантастика, боевик, триллер]</td>\n",
       "      <td>фантастика</td>\n",
       "    </tr>\n",
       "    <tr>\n",
       "      <th>3</th>\n",
       "      <td>[фантастика, боевик, триллер]</td>\n",
       "      <td>фантастика</td>\n",
       "    </tr>\n",
       "    <tr>\n",
       "      <th>4</th>\n",
       "      <td>[фантастика, боевик, триллер]</td>\n",
       "      <td>фантастика</td>\n",
       "    </tr>\n",
       "    <tr>\n",
       "      <th>...</th>\n",
       "      <td>...</td>\n",
       "      <td>...</td>\n",
       "    </tr>\n",
       "    <tr>\n",
       "      <th>7481</th>\n",
       "      <td>NaN</td>\n",
       "      <td>0</td>\n",
       "    </tr>\n",
       "    <tr>\n",
       "      <th>7482</th>\n",
       "      <td>[боевик, триллер]</td>\n",
       "      <td>боевик</td>\n",
       "    </tr>\n",
       "    <tr>\n",
       "      <th>7483</th>\n",
       "      <td>NaN</td>\n",
       "      <td>0</td>\n",
       "    </tr>\n",
       "    <tr>\n",
       "      <th>7484</th>\n",
       "      <td>NaN</td>\n",
       "      <td>0</td>\n",
       "    </tr>\n",
       "    <tr>\n",
       "      <th>7485</th>\n",
       "      <td>[комедия, вестерн]</td>\n",
       "      <td>комедия</td>\n",
       "    </tr>\n",
       "  </tbody>\n",
       "</table>\n",
       "<p>7485 rows × 2 columns</p>\n",
       "</div>"
      ],
      "text/plain": [
       "                             genres  main_genre\n",
       "0        [боевик, драма, мелодрама]      боевик\n",
       "1                  [драма, военный]       драма\n",
       "2     [фантастика, боевик, триллер]  фантастика\n",
       "3     [фантастика, боевик, триллер]  фантастика\n",
       "4     [фантастика, боевик, триллер]  фантастика\n",
       "...                             ...         ...\n",
       "7481                            NaN           0\n",
       "7482              [боевик, триллер]      боевик\n",
       "7483                            NaN           0\n",
       "7484                            NaN           0\n",
       "7485             [комедия, вестерн]     комедия\n",
       "\n",
       "[7485 rows x 2 columns]"
      ]
     },
     "execution_count": 19,
     "metadata": {},
     "output_type": "execute_result"
    }
   ],
   "source": [
    "#работает как часы\n",
    "df[['genres', 'main_genre']]"
   ]
  },
  {
   "cell_type": "markdown",
   "id": "79c656ec",
   "metadata": {},
   "source": [
    "### Проверка дубликатов"
   ]
  },
  {
   "cell_type": "code",
   "execution_count": 20,
   "id": "deb60cca",
   "metadata": {},
   "outputs": [
    {
     "data": {
      "text/html": [
       "<div>\n",
       "<style scoped>\n",
       "    .dataframe tbody tr th:only-of-type {\n",
       "        vertical-align: middle;\n",
       "    }\n",
       "\n",
       "    .dataframe tbody tr th {\n",
       "        vertical-align: top;\n",
       "    }\n",
       "\n",
       "    .dataframe thead th {\n",
       "        text-align: right;\n",
       "    }\n",
       "</style>\n",
       "<table border=\"1\" class=\"dataframe\">\n",
       "  <thead>\n",
       "    <tr style=\"text-align: right;\">\n",
       "      <th></th>\n",
       "      <th>title</th>\n",
       "      <th>punumber</th>\n",
       "      <th>show_start_date</th>\n",
       "      <th>type</th>\n",
       "      <th>film_studio</th>\n",
       "      <th>production_country</th>\n",
       "      <th>director</th>\n",
       "      <th>producer</th>\n",
       "      <th>age_restriction</th>\n",
       "      <th>refundable_support</th>\n",
       "      <th>nonrefundable_support</th>\n",
       "      <th>budget</th>\n",
       "      <th>financing_source</th>\n",
       "      <th>ratings</th>\n",
       "      <th>genres</th>\n",
       "      <th>box_office</th>\n",
       "      <th>support_percent</th>\n",
       "      <th>year</th>\n",
       "      <th>main_genre</th>\n",
       "    </tr>\n",
       "  </thead>\n",
       "  <tbody>\n",
       "    <tr>\n",
       "      <th>2</th>\n",
       "      <td>Особо опасен</td>\n",
       "      <td>221038416</td>\n",
       "      <td>2016-10-10</td>\n",
       "      <td>Художественный</td>\n",
       "      <td>Юниверсал Пикчерз, Кикстарт Продакшнз, Марк Пл...</td>\n",
       "      <td>США</td>\n",
       "      <td>Тимур Бекмамбетов</td>\n",
       "      <td>Джим Лемли, Джейсон Нетер, Марк Е.Платт, Яйн Смит</td>\n",
       "      <td>«18+» - запрещено для детей</td>\n",
       "      <td>NaN</td>\n",
       "      <td>NaN</td>\n",
       "      <td>NaN</td>\n",
       "      <td>NaN</td>\n",
       "      <td>6.8</td>\n",
       "      <td>[фантастика, боевик, триллер]</td>\n",
       "      <td>NaN</td>\n",
       "      <td>NaN</td>\n",
       "      <td>2016</td>\n",
       "      <td>фантастика</td>\n",
       "    </tr>\n",
       "    <tr>\n",
       "      <th>3</th>\n",
       "      <td>Особо опасен</td>\n",
       "      <td>221026916</td>\n",
       "      <td>2016-06-10</td>\n",
       "      <td>Художественный</td>\n",
       "      <td>Юниверсал Пикчерз, Кикстарт Продакшнз, Марк Пл...</td>\n",
       "      <td>США</td>\n",
       "      <td>Тимур Бекмамбетов</td>\n",
       "      <td>Джим Лемли, Джейсон Нетер, Марк Е.Платт, Яйн Смит</td>\n",
       "      <td>«18+» - запрещено для детей</td>\n",
       "      <td>NaN</td>\n",
       "      <td>NaN</td>\n",
       "      <td>NaN</td>\n",
       "      <td>NaN</td>\n",
       "      <td>6.8</td>\n",
       "      <td>[фантастика, боевик, триллер]</td>\n",
       "      <td>NaN</td>\n",
       "      <td>NaN</td>\n",
       "      <td>2016</td>\n",
       "      <td>фантастика</td>\n",
       "    </tr>\n",
       "    <tr>\n",
       "      <th>4</th>\n",
       "      <td>Особо опасен</td>\n",
       "      <td>221030815</td>\n",
       "      <td>2015-07-29</td>\n",
       "      <td>Художественный</td>\n",
       "      <td>Юниверсал Пикчерз, Кикстарт Продакшнз, Марк Пл...</td>\n",
       "      <td>США</td>\n",
       "      <td>Тимур Бекмамбетов</td>\n",
       "      <td>Джим Лемли, Джейсон Нетер, Марк Е.Платт, Яйн Смит</td>\n",
       "      <td>«18+» - запрещено для детей</td>\n",
       "      <td>NaN</td>\n",
       "      <td>NaN</td>\n",
       "      <td>NaN</td>\n",
       "      <td>NaN</td>\n",
       "      <td>6.8</td>\n",
       "      <td>[фантастика, боевик, триллер]</td>\n",
       "      <td>NaN</td>\n",
       "      <td>NaN</td>\n",
       "      <td>2015</td>\n",
       "      <td>фантастика</td>\n",
       "    </tr>\n",
       "    <tr>\n",
       "      <th>12</th>\n",
       "      <td>Малышка на миллион /По мотивам рассказов Ф.Х.Т...</td>\n",
       "      <td>221011415</td>\n",
       "      <td>2015-04-03</td>\n",
       "      <td>Художественный</td>\n",
       "      <td>Уорнер Бразерс, Лейкшор Интертейнмент, Малпасо...</td>\n",
       "      <td>США</td>\n",
       "      <td>Клинт Иствуд</td>\n",
       "      <td>Клинт Иствуд, Том Розенберг, Альберт С.Рудди, ...</td>\n",
       "      <td>«16+» - для детей старше 16 лет</td>\n",
       "      <td>NaN</td>\n",
       "      <td>NaN</td>\n",
       "      <td>NaN</td>\n",
       "      <td>NaN</td>\n",
       "      <td>8.1</td>\n",
       "      <td>[драма, спорт]</td>\n",
       "      <td>NaN</td>\n",
       "      <td>NaN</td>\n",
       "      <td>2015</td>\n",
       "      <td>драма</td>\n",
       "    </tr>\n",
       "    <tr>\n",
       "      <th>26</th>\n",
       "      <td>Оружейный барон</td>\n",
       "      <td>221012515</td>\n",
       "      <td>2015-04-03</td>\n",
       "      <td>Художественный</td>\n",
       "      <td>Вэ И Пэ Медиенфондс 3, Асендант Пикчерз, Сатур...</td>\n",
       "      <td>США - Франция - Турция</td>\n",
       "      <td>Эндрю Никкол</td>\n",
       "      <td>Норман Голуайтли, Энди Грош, Николас Кейдж, Эн...</td>\n",
       "      <td>«18+» - запрещено для детей</td>\n",
       "      <td>NaN</td>\n",
       "      <td>NaN</td>\n",
       "      <td>NaN</td>\n",
       "      <td>NaN</td>\n",
       "      <td>7.7</td>\n",
       "      <td>[боевик, драма, криминал]</td>\n",
       "      <td>NaN</td>\n",
       "      <td>NaN</td>\n",
       "      <td>2015</td>\n",
       "      <td>боевик</td>\n",
       "    </tr>\n",
       "  </tbody>\n",
       "</table>\n",
       "</div>"
      ],
      "text/plain": [
       "                                                title   punumber  \\\n",
       "2                                        Особо опасен  221038416   \n",
       "3                                        Особо опасен  221026916   \n",
       "4                                        Особо опасен  221030815   \n",
       "12  Малышка на миллион /По мотивам рассказов Ф.Х.Т...  221011415   \n",
       "26                                    Оружейный барон  221012515   \n",
       "\n",
       "   show_start_date            type  \\\n",
       "2       2016-10-10  Художественный   \n",
       "3       2016-06-10  Художественный   \n",
       "4       2015-07-29  Художественный   \n",
       "12      2015-04-03  Художественный   \n",
       "26      2015-04-03  Художественный   \n",
       "\n",
       "                                          film_studio      production_country  \\\n",
       "2   Юниверсал Пикчерз, Кикстарт Продакшнз, Марк Пл...                     США   \n",
       "3   Юниверсал Пикчерз, Кикстарт Продакшнз, Марк Пл...                     США   \n",
       "4   Юниверсал Пикчерз, Кикстарт Продакшнз, Марк Пл...                     США   \n",
       "12  Уорнер Бразерс, Лейкшор Интертейнмент, Малпасо...                     США   \n",
       "26  Вэ И Пэ Медиенфондс 3, Асендант Пикчерз, Сатур...  США - Франция - Турция   \n",
       "\n",
       "             director                                           producer  \\\n",
       "2   Тимур Бекмамбетов  Джим Лемли, Джейсон Нетер, Марк Е.Платт, Яйн Смит   \n",
       "3   Тимур Бекмамбетов  Джим Лемли, Джейсон Нетер, Марк Е.Платт, Яйн Смит   \n",
       "4   Тимур Бекмамбетов  Джим Лемли, Джейсон Нетер, Марк Е.Платт, Яйн Смит   \n",
       "12       Клинт Иствуд  Клинт Иствуд, Том Розенберг, Альберт С.Рудди, ...   \n",
       "26       Эндрю Никкол  Норман Голуайтли, Энди Грош, Николас Кейдж, Эн...   \n",
       "\n",
       "                    age_restriction  refundable_support  \\\n",
       "2       «18+» - запрещено для детей                 NaN   \n",
       "3       «18+» - запрещено для детей                 NaN   \n",
       "4       «18+» - запрещено для детей                 NaN   \n",
       "12  «16+» - для детей старше 16 лет                 NaN   \n",
       "26      «18+» - запрещено для детей                 NaN   \n",
       "\n",
       "    nonrefundable_support  budget financing_source  ratings  \\\n",
       "2                     NaN     NaN              NaN      6.8   \n",
       "3                     NaN     NaN              NaN      6.8   \n",
       "4                     NaN     NaN              NaN      6.8   \n",
       "12                    NaN     NaN              NaN      8.1   \n",
       "26                    NaN     NaN              NaN      7.7   \n",
       "\n",
       "                           genres  box_office  support_percent  year  \\\n",
       "2   [фантастика, боевик, триллер]         NaN              NaN  2016   \n",
       "3   [фантастика, боевик, триллер]         NaN              NaN  2016   \n",
       "4   [фантастика, боевик, триллер]         NaN              NaN  2015   \n",
       "12                 [драма, спорт]         NaN              NaN  2015   \n",
       "26      [боевик, драма, криминал]         NaN              NaN  2015   \n",
       "\n",
       "    main_genre  \n",
       "2   фантастика  \n",
       "3   фантастика  \n",
       "4   фантастика  \n",
       "12       драма  \n",
       "26      боевик  "
      ]
     },
     "execution_count": 20,
     "metadata": {},
     "output_type": "execute_result"
    }
   ],
   "source": [
    "#проверка данных на дубликаты\n",
    "df[df['title'].duplicated(keep=False)==True].head()"
   ]
  },
  {
   "cell_type": "markdown",
   "id": "73af9bdc",
   "metadata": {},
   "source": [
    "Очевидно, что фильмы попадают в список неоднократно при получении нескольких прокатных удостоверений. Это вполне \n",
    "может произойти при прокате в кинотеатре одной компанией, последующей демонстрации фильма в эфире телеканала, с дальнейшим переходом прав на показ ещё одному каналу.  \n",
    "Стоит выбрать только самые ранние даты, совпадающие с премьерными показами, тем более, что кроме даты и номера прокатного удостоверения ничего не меняется: очевидно, что сохраняется как режиссёр и страна производства вместе с жанром, так и первично выданные возрастные категории и рейтинг кинокритиков. "
   ]
  },
  {
   "cell_type": "code",
   "execution_count": 21,
   "id": "340d6605",
   "metadata": {},
   "outputs": [
    {
     "data": {
      "text/html": [
       "<div>\n",
       "<style scoped>\n",
       "    .dataframe tbody tr th:only-of-type {\n",
       "        vertical-align: middle;\n",
       "    }\n",
       "\n",
       "    .dataframe tbody tr th {\n",
       "        vertical-align: top;\n",
       "    }\n",
       "\n",
       "    .dataframe thead th {\n",
       "        text-align: right;\n",
       "    }\n",
       "</style>\n",
       "<table border=\"1\" class=\"dataframe\">\n",
       "  <thead>\n",
       "    <tr style=\"text-align: right;\">\n",
       "      <th></th>\n",
       "      <th>title</th>\n",
       "      <th>punumber</th>\n",
       "      <th>show_start_date</th>\n",
       "      <th>type</th>\n",
       "      <th>film_studio</th>\n",
       "      <th>production_country</th>\n",
       "      <th>director</th>\n",
       "      <th>producer</th>\n",
       "      <th>age_restriction</th>\n",
       "      <th>refundable_support</th>\n",
       "      <th>nonrefundable_support</th>\n",
       "      <th>budget</th>\n",
       "      <th>financing_source</th>\n",
       "      <th>ratings</th>\n",
       "      <th>genres</th>\n",
       "      <th>box_office</th>\n",
       "      <th>support_percent</th>\n",
       "      <th>year</th>\n",
       "      <th>main_genre</th>\n",
       "    </tr>\n",
       "  </thead>\n",
       "  <tbody>\n",
       "    <tr>\n",
       "      <th>0</th>\n",
       "      <td>Открытый простор</td>\n",
       "      <td>221048915</td>\n",
       "      <td>2015-11-27</td>\n",
       "      <td>Художественный</td>\n",
       "      <td>Тачстоун Пикчерз, Кобальт Пикчерз, Бикон Пикче...</td>\n",
       "      <td>США</td>\n",
       "      <td>Кевин Костнер</td>\n",
       "      <td>Дэвид Валдес, Кевин Костнер, Джейк Эбертс</td>\n",
       "      <td>«18+» - запрещено для детей</td>\n",
       "      <td>NaN</td>\n",
       "      <td>NaN</td>\n",
       "      <td>NaN</td>\n",
       "      <td>NaN</td>\n",
       "      <td>7.2</td>\n",
       "      <td>[боевик, драма, мелодрама]</td>\n",
       "      <td>NaN</td>\n",
       "      <td>NaN</td>\n",
       "      <td>2015</td>\n",
       "      <td>боевик</td>\n",
       "    </tr>\n",
       "    <tr>\n",
       "      <th>1</th>\n",
       "      <td>Особо важное задание</td>\n",
       "      <td>111013716</td>\n",
       "      <td>2016-09-13</td>\n",
       "      <td>Художественный</td>\n",
       "      <td>Киностудия \"Мосфильм\"</td>\n",
       "      <td>СССР</td>\n",
       "      <td>Е.Матвеев</td>\n",
       "      <td>NaN</td>\n",
       "      <td>«6+» - для детей старше 6 лет</td>\n",
       "      <td>NaN</td>\n",
       "      <td>NaN</td>\n",
       "      <td>NaN</td>\n",
       "      <td>NaN</td>\n",
       "      <td>6.6</td>\n",
       "      <td>[драма, военный]</td>\n",
       "      <td>NaN</td>\n",
       "      <td>NaN</td>\n",
       "      <td>2016</td>\n",
       "      <td>драма</td>\n",
       "    </tr>\n",
       "    <tr>\n",
       "      <th>2</th>\n",
       "      <td>Особо опасен</td>\n",
       "      <td>221030815</td>\n",
       "      <td>2015-07-29</td>\n",
       "      <td>Художественный</td>\n",
       "      <td>Юниверсал Пикчерз, Кикстарт Продакшнз, Марк Пл...</td>\n",
       "      <td>США</td>\n",
       "      <td>Тимур Бекмамбетов</td>\n",
       "      <td>Джим Лемли, Джейсон Нетер, Марк Е.Платт, Яйн Смит</td>\n",
       "      <td>«18+» - запрещено для детей</td>\n",
       "      <td>NaN</td>\n",
       "      <td>NaN</td>\n",
       "      <td>NaN</td>\n",
       "      <td>NaN</td>\n",
       "      <td>6.8</td>\n",
       "      <td>[фантастика, боевик, триллер]</td>\n",
       "      <td>NaN</td>\n",
       "      <td>NaN</td>\n",
       "      <td>2015</td>\n",
       "      <td>фантастика</td>\n",
       "    </tr>\n",
       "    <tr>\n",
       "      <th>3</th>\n",
       "      <td>Остановился поезд</td>\n",
       "      <td>111013816</td>\n",
       "      <td>2016-09-13</td>\n",
       "      <td>Художественный</td>\n",
       "      <td>Киностудия \"Мосфильм\"</td>\n",
       "      <td>СССР</td>\n",
       "      <td>В.Абдрашитов</td>\n",
       "      <td>NaN</td>\n",
       "      <td>«6+» - для детей старше 6 лет</td>\n",
       "      <td>NaN</td>\n",
       "      <td>NaN</td>\n",
       "      <td>NaN</td>\n",
       "      <td>NaN</td>\n",
       "      <td>7.7</td>\n",
       "      <td>[драма]</td>\n",
       "      <td>NaN</td>\n",
       "      <td>NaN</td>\n",
       "      <td>2016</td>\n",
       "      <td>драма</td>\n",
       "    </tr>\n",
       "    <tr>\n",
       "      <th>4</th>\n",
       "      <td>Любовь и голуби</td>\n",
       "      <td>111007013</td>\n",
       "      <td>2013-10-18</td>\n",
       "      <td>Художественный</td>\n",
       "      <td>Киностудия \"Мосфильм\"</td>\n",
       "      <td>СССР</td>\n",
       "      <td>В.Меньшов</td>\n",
       "      <td>NaN</td>\n",
       "      <td>«12+» - для детей старше 12 лет</td>\n",
       "      <td>NaN</td>\n",
       "      <td>NaN</td>\n",
       "      <td>NaN</td>\n",
       "      <td>NaN</td>\n",
       "      <td>8.3</td>\n",
       "      <td>[мелодрама, комедия]</td>\n",
       "      <td>2700.0</td>\n",
       "      <td>NaN</td>\n",
       "      <td>2013</td>\n",
       "      <td>мелодрама</td>\n",
       "    </tr>\n",
       "    <tr>\n",
       "      <th>...</th>\n",
       "      <td>...</td>\n",
       "      <td>...</td>\n",
       "      <td>...</td>\n",
       "      <td>...</td>\n",
       "      <td>...</td>\n",
       "      <td>...</td>\n",
       "      <td>...</td>\n",
       "      <td>...</td>\n",
       "      <td>...</td>\n",
       "      <td>...</td>\n",
       "      <td>...</td>\n",
       "      <td>...</td>\n",
       "      <td>...</td>\n",
       "      <td>...</td>\n",
       "      <td>...</td>\n",
       "      <td>...</td>\n",
       "      <td>...</td>\n",
       "      <td>...</td>\n",
       "      <td>...</td>\n",
       "    </tr>\n",
       "    <tr>\n",
       "      <th>6766</th>\n",
       "      <td>Сад художника: Американский импрессионизм</td>\n",
       "      <td>126008019</td>\n",
       "      <td>2019-12-23</td>\n",
       "      <td>Прочие</td>\n",
       "      <td>Севен Артс Продакшнз</td>\n",
       "      <td>Великобритания</td>\n",
       "      <td>Фил Грабски</td>\n",
       "      <td>Фил Грабски</td>\n",
       "      <td>«12+» - для детей старше 12 лет</td>\n",
       "      <td>NaN</td>\n",
       "      <td>NaN</td>\n",
       "      <td>NaN</td>\n",
       "      <td>NaN</td>\n",
       "      <td>NaN</td>\n",
       "      <td>NaN</td>\n",
       "      <td>NaN</td>\n",
       "      <td>NaN</td>\n",
       "      <td>2019</td>\n",
       "      <td>0</td>\n",
       "    </tr>\n",
       "    <tr>\n",
       "      <th>6767</th>\n",
       "      <td>Звериная ярость</td>\n",
       "      <td>121037819</td>\n",
       "      <td>2019-12-24</td>\n",
       "      <td>Художественный</td>\n",
       "      <td>Дэниел Гродник Продакшнз, Вандерфилм Медиа Кор...</td>\n",
       "      <td>США</td>\n",
       "      <td>Ник Пауэлл</td>\n",
       "      <td>Джефф Боулер, Дэниэл Гродник, Луильо Руис, Брэ...</td>\n",
       "      <td>«16+» - для детей старше 16 лет</td>\n",
       "      <td>NaN</td>\n",
       "      <td>NaN</td>\n",
       "      <td>NaN</td>\n",
       "      <td>NaN</td>\n",
       "      <td>5.4</td>\n",
       "      <td>[боевик, триллер]</td>\n",
       "      <td>NaN</td>\n",
       "      <td>NaN</td>\n",
       "      <td>2019</td>\n",
       "      <td>боевик</td>\n",
       "    </tr>\n",
       "    <tr>\n",
       "      <th>6768</th>\n",
       "      <td>Щенячий патруль: Скорей спешим на помощь!</td>\n",
       "      <td>124010819</td>\n",
       "      <td>2019-12-28</td>\n",
       "      <td>Художественный</td>\n",
       "      <td>Никелодеон Анимейшн Студиос, Спин Мастер</td>\n",
       "      <td>США - Канада</td>\n",
       "      <td>Чарльз Е.Бастьен</td>\n",
       "      <td>Дженнифер Додж</td>\n",
       "      <td>«0+» - для любой зрительской аудитории</td>\n",
       "      <td>NaN</td>\n",
       "      <td>NaN</td>\n",
       "      <td>NaN</td>\n",
       "      <td>NaN</td>\n",
       "      <td>NaN</td>\n",
       "      <td>NaN</td>\n",
       "      <td>NaN</td>\n",
       "      <td>NaN</td>\n",
       "      <td>2019</td>\n",
       "      <td>0</td>\n",
       "    </tr>\n",
       "    <tr>\n",
       "      <th>6769</th>\n",
       "      <td>Машины песенки. Серия \"Испанские мотивы\"</td>\n",
       "      <td>124010619</td>\n",
       "      <td>2019-12-30</td>\n",
       "      <td>Анимационный</td>\n",
       "      <td>Анимаккорд Лтд., ООО Студия \"АНИМАККОРД\"</td>\n",
       "      <td>Республика Кипр, Россия</td>\n",
       "      <td>А.Беляев</td>\n",
       "      <td>Д.Ловейко</td>\n",
       "      <td>«0+» - для любой зрительской аудитории</td>\n",
       "      <td>NaN</td>\n",
       "      <td>NaN</td>\n",
       "      <td>NaN</td>\n",
       "      <td>NaN</td>\n",
       "      <td>NaN</td>\n",
       "      <td>NaN</td>\n",
       "      <td>NaN</td>\n",
       "      <td>NaN</td>\n",
       "      <td>2019</td>\n",
       "      <td>0</td>\n",
       "    </tr>\n",
       "    <tr>\n",
       "      <th>6770</th>\n",
       "      <td>Машины песенки. Серия \"Когда цветут кактусы\"</td>\n",
       "      <td>124010719</td>\n",
       "      <td>2019-12-30</td>\n",
       "      <td>Анимационный</td>\n",
       "      <td>Анимаккорд Лтд., ООО Студия \"АНИМАККОРД\"</td>\n",
       "      <td>Республика Кипр, Россия</td>\n",
       "      <td>И.Трусов</td>\n",
       "      <td>Д.Ловейко</td>\n",
       "      <td>«0+» - для любой зрительской аудитории</td>\n",
       "      <td>NaN</td>\n",
       "      <td>NaN</td>\n",
       "      <td>NaN</td>\n",
       "      <td>NaN</td>\n",
       "      <td>6.3</td>\n",
       "      <td>[комедия, вестерн]</td>\n",
       "      <td>NaN</td>\n",
       "      <td>NaN</td>\n",
       "      <td>2019</td>\n",
       "      <td>комедия</td>\n",
       "    </tr>\n",
       "  </tbody>\n",
       "</table>\n",
       "<p>6771 rows × 19 columns</p>\n",
       "</div>"
      ],
      "text/plain": [
       "                                             title   punumber show_start_date  \\\n",
       "0                                 Открытый простор  221048915      2015-11-27   \n",
       "1                             Особо важное задание  111013716      2016-09-13   \n",
       "2                                     Особо опасен  221030815      2015-07-29   \n",
       "3                                Остановился поезд  111013816      2016-09-13   \n",
       "4                                  Любовь и голуби  111007013      2013-10-18   \n",
       "...                                            ...        ...             ...   \n",
       "6766     Сад художника: Американский импрессионизм  126008019      2019-12-23   \n",
       "6767                               Звериная ярость  121037819      2019-12-24   \n",
       "6768     Щенячий патруль: Скорей спешим на помощь!  124010819      2019-12-28   \n",
       "6769      Машины песенки. Серия \"Испанские мотивы\"  124010619      2019-12-30   \n",
       "6770  Машины песенки. Серия \"Когда цветут кактусы\"  124010719      2019-12-30   \n",
       "\n",
       "                 type                                        film_studio  \\\n",
       "0      Художественный  Тачстоун Пикчерз, Кобальт Пикчерз, Бикон Пикче...   \n",
       "1      Художественный                              Киностудия \"Мосфильм\"   \n",
       "2      Художественный  Юниверсал Пикчерз, Кикстарт Продакшнз, Марк Пл...   \n",
       "3      Художественный                              Киностудия \"Мосфильм\"   \n",
       "4      Художественный                              Киностудия \"Мосфильм\"   \n",
       "...               ...                                                ...   \n",
       "6766           Прочие                               Севен Артс Продакшнз   \n",
       "6767   Художественный  Дэниел Гродник Продакшнз, Вандерфилм Медиа Кор...   \n",
       "6768   Художественный           Никелодеон Анимейшн Студиос, Спин Мастер   \n",
       "6769     Анимационный           Анимаккорд Лтд., ООО Студия \"АНИМАККОРД\"   \n",
       "6770     Анимационный           Анимаккорд Лтд., ООО Студия \"АНИМАККОРД\"   \n",
       "\n",
       "           production_country           director  \\\n",
       "0                         США      Кевин Костнер   \n",
       "1                        СССР          Е.Матвеев   \n",
       "2                         США  Тимур Бекмамбетов   \n",
       "3                        СССР       В.Абдрашитов   \n",
       "4                        СССР          В.Меньшов   \n",
       "...                       ...                ...   \n",
       "6766           Великобритания        Фил Грабски   \n",
       "6767                      США         Ник Пауэлл   \n",
       "6768             США - Канада   Чарльз Е.Бастьен   \n",
       "6769  Республика Кипр, Россия           А.Беляев   \n",
       "6770  Республика Кипр, Россия           И.Трусов   \n",
       "\n",
       "                                               producer  \\\n",
       "0             Дэвид Валдес, Кевин Костнер, Джейк Эбертс   \n",
       "1                                                   NaN   \n",
       "2     Джим Лемли, Джейсон Нетер, Марк Е.Платт, Яйн Смит   \n",
       "3                                                   NaN   \n",
       "4                                                   NaN   \n",
       "...                                                 ...   \n",
       "6766                                        Фил Грабски   \n",
       "6767  Джефф Боулер, Дэниэл Гродник, Луильо Руис, Брэ...   \n",
       "6768                                     Дженнифер Додж   \n",
       "6769                                          Д.Ловейко   \n",
       "6770                                          Д.Ловейко   \n",
       "\n",
       "                             age_restriction  refundable_support  \\\n",
       "0                «18+» - запрещено для детей                 NaN   \n",
       "1              «6+» - для детей старше 6 лет                 NaN   \n",
       "2                «18+» - запрещено для детей                 NaN   \n",
       "3              «6+» - для детей старше 6 лет                 NaN   \n",
       "4            «12+» - для детей старше 12 лет                 NaN   \n",
       "...                                      ...                 ...   \n",
       "6766         «12+» - для детей старше 12 лет                 NaN   \n",
       "6767         «16+» - для детей старше 16 лет                 NaN   \n",
       "6768  «0+» - для любой зрительской аудитории                 NaN   \n",
       "6769  «0+» - для любой зрительской аудитории                 NaN   \n",
       "6770  «0+» - для любой зрительской аудитории                 NaN   \n",
       "\n",
       "      nonrefundable_support  budget financing_source  ratings  \\\n",
       "0                       NaN     NaN              NaN      7.2   \n",
       "1                       NaN     NaN              NaN      6.6   \n",
       "2                       NaN     NaN              NaN      6.8   \n",
       "3                       NaN     NaN              NaN      7.7   \n",
       "4                       NaN     NaN              NaN      8.3   \n",
       "...                     ...     ...              ...      ...   \n",
       "6766                    NaN     NaN              NaN      NaN   \n",
       "6767                    NaN     NaN              NaN      5.4   \n",
       "6768                    NaN     NaN              NaN      NaN   \n",
       "6769                    NaN     NaN              NaN      NaN   \n",
       "6770                    NaN     NaN              NaN      6.3   \n",
       "\n",
       "                             genres  box_office  support_percent  year  \\\n",
       "0        [боевик, драма, мелодрама]         NaN              NaN  2015   \n",
       "1                  [драма, военный]         NaN              NaN  2016   \n",
       "2     [фантастика, боевик, триллер]         NaN              NaN  2015   \n",
       "3                           [драма]         NaN              NaN  2016   \n",
       "4              [мелодрама, комедия]      2700.0              NaN  2013   \n",
       "...                             ...         ...              ...   ...   \n",
       "6766                            NaN         NaN              NaN  2019   \n",
       "6767              [боевик, триллер]         NaN              NaN  2019   \n",
       "6768                            NaN         NaN              NaN  2019   \n",
       "6769                            NaN         NaN              NaN  2019   \n",
       "6770             [комедия, вестерн]         NaN              NaN  2019   \n",
       "\n",
       "      main_genre  \n",
       "0         боевик  \n",
       "1          драма  \n",
       "2     фантастика  \n",
       "3          драма  \n",
       "4      мелодрама  \n",
       "...          ...  \n",
       "6766           0  \n",
       "6767      боевик  \n",
       "6768           0  \n",
       "6769           0  \n",
       "6770     комедия  \n",
       "\n",
       "[6771 rows x 19 columns]"
      ]
     },
     "execution_count": 21,
     "metadata": {},
     "output_type": "execute_result"
    }
   ],
   "source": [
    "#отсортируем все фильмы по дате выпуска и будем удалять любые дубликаты после первого\n",
    "drop = df.sort_values(by='show_start_date').drop_duplicates(subset='title', keep='first')\n",
    "drop = drop.sort_index().reset_index().drop(columns='index')\n",
    "drop"
   ]
  },
  {
   "cell_type": "code",
   "execution_count": 145,
   "id": "330ceb89",
   "metadata": {},
   "outputs": [
    {
     "data": {
      "text/plain": [
       "741"
      ]
     },
     "execution_count": 145,
     "metadata": {},
     "output_type": "execute_result"
    }
   ],
   "source": [
    "len(df) - len(drop)"
   ]
  },
  {
   "cell_type": "code",
   "execution_count": 146,
   "id": "4f7a2092",
   "metadata": {},
   "outputs": [
    {
     "data": {
      "text/plain": [
       "221054410    2\n",
       "221048915    1\n",
       "114000211    1\n",
       "111002411    1\n",
       "111002211    1\n",
       "            ..\n",
       "121011715    1\n",
       "114000715    1\n",
       "111007815    1\n",
       "111004515    1\n",
       "124010719    1\n",
       "Name: punumber, Length: 6744, dtype: int64"
      ]
     },
     "execution_count": 146,
     "metadata": {},
     "output_type": "execute_result"
    }
   ],
   "source": [
    "drop.punumber.value_counts()"
   ]
  },
  {
   "cell_type": "code",
   "execution_count": 147,
   "id": "51d75518",
   "metadata": {},
   "outputs": [
    {
     "data": {
      "text/html": [
       "<div>\n",
       "<style scoped>\n",
       "    .dataframe tbody tr th:only-of-type {\n",
       "        vertical-align: middle;\n",
       "    }\n",
       "\n",
       "    .dataframe tbody tr th {\n",
       "        vertical-align: top;\n",
       "    }\n",
       "\n",
       "    .dataframe thead th {\n",
       "        text-align: right;\n",
       "    }\n",
       "</style>\n",
       "<table border=\"1\" class=\"dataframe\">\n",
       "  <thead>\n",
       "    <tr style=\"text-align: right;\">\n",
       "      <th></th>\n",
       "      <th>title</th>\n",
       "      <th>punumber</th>\n",
       "      <th>show_start_date</th>\n",
       "      <th>type</th>\n",
       "      <th>film_studio</th>\n",
       "      <th>production_country</th>\n",
       "      <th>director</th>\n",
       "      <th>producer</th>\n",
       "      <th>age_restriction</th>\n",
       "      <th>refundable_support</th>\n",
       "      <th>nonrefundable_support</th>\n",
       "      <th>budget</th>\n",
       "      <th>financing_source</th>\n",
       "      <th>ratings</th>\n",
       "      <th>genres</th>\n",
       "      <th>box_office</th>\n",
       "      <th>support_percent</th>\n",
       "      <th>year</th>\n",
       "      <th>main_genre</th>\n",
       "      <th>production_country_list</th>\n",
       "    </tr>\n",
       "  </thead>\n",
       "  <tbody>\n",
       "    <tr>\n",
       "      <th>4445</th>\n",
       "      <td>Анализируй это!</td>\n",
       "      <td>221054410</td>\n",
       "      <td>2010-05-25</td>\n",
       "      <td>Художественный</td>\n",
       "      <td>Уорнер Бразерс, Вилладж Роудшоу Филмз ЛТД</td>\n",
       "      <td>США-Австралия</td>\n",
       "      <td>ХЭрольд Рэмис</td>\n",
       "      <td>Джейн Розенталь, Пола Уейнстейн</td>\n",
       "      <td>«16+» - для детей старше 16 лет</td>\n",
       "      <td>NaN</td>\n",
       "      <td>NaN</td>\n",
       "      <td>NaN</td>\n",
       "      <td>NaN</td>\n",
       "      <td>7.4</td>\n",
       "      <td>[комедия, криминал]</td>\n",
       "      <td>NaN</td>\n",
       "      <td>NaN</td>\n",
       "      <td>2010</td>\n",
       "      <td>комедия</td>\n",
       "      <td>[США, Австралия]</td>\n",
       "    </tr>\n",
       "    <tr>\n",
       "      <th>4446</th>\n",
       "      <td>Анализируй то!</td>\n",
       "      <td>221054410</td>\n",
       "      <td>2010-05-25</td>\n",
       "      <td>Художественный</td>\n",
       "      <td>Уорнер Бразерс, Виллидж Роадшоу Пикчерз, Эн-Пи...</td>\n",
       "      <td>США</td>\n",
       "      <td>Гарольд Реймис</td>\n",
       "      <td>Джейн Розенталь, Паул Уэйнстейн</td>\n",
       "      <td>«12+» - для детей старше 12 лет</td>\n",
       "      <td>NaN</td>\n",
       "      <td>NaN</td>\n",
       "      <td>NaN</td>\n",
       "      <td>NaN</td>\n",
       "      <td>6.8</td>\n",
       "      <td>[комедия, криминал]</td>\n",
       "      <td>NaN</td>\n",
       "      <td>NaN</td>\n",
       "      <td>2010</td>\n",
       "      <td>комедия</td>\n",
       "      <td>[США]</td>\n",
       "    </tr>\n",
       "  </tbody>\n",
       "</table>\n",
       "</div>"
      ],
      "text/plain": [
       "                title   punumber show_start_date            type  \\\n",
       "4445  Анализируй это!  221054410      2010-05-25  Художественный   \n",
       "4446   Анализируй то!  221054410      2010-05-25  Художественный   \n",
       "\n",
       "                                            film_studio production_country  \\\n",
       "4445          Уорнер Бразерс, Вилладж Роудшоу Филмз ЛТД      США-Австралия   \n",
       "4446  Уорнер Бразерс, Виллидж Роадшоу Пикчерз, Эн-Пи...                США   \n",
       "\n",
       "            director                         producer  \\\n",
       "4445   ХЭрольд Рэмис  Джейн Розенталь, Пола Уейнстейн   \n",
       "4446  Гарольд Реймис  Джейн Розенталь, Паул Уэйнстейн   \n",
       "\n",
       "                      age_restriction  refundable_support  \\\n",
       "4445  «16+» - для детей старше 16 лет                 NaN   \n",
       "4446  «12+» - для детей старше 12 лет                 NaN   \n",
       "\n",
       "      nonrefundable_support  budget financing_source  ratings  \\\n",
       "4445                    NaN     NaN              NaN      7.4   \n",
       "4446                    NaN     NaN              NaN      6.8   \n",
       "\n",
       "                   genres  box_office  support_percent  year main_genre  \\\n",
       "4445  [комедия, криминал]         NaN              NaN  2010    комедия   \n",
       "4446  [комедия, криминал]         NaN              NaN  2010    комедия   \n",
       "\n",
       "     production_country_list  \n",
       "4445        [США, Австралия]  \n",
       "4446                   [США]  "
      ]
     },
     "execution_count": 147,
     "metadata": {},
     "output_type": "execute_result"
    }
   ],
   "source": [
    "drop[drop['punumber'] == 221054410]"
   ]
  },
  {
   "cell_type": "markdown",
   "id": "afac75ca",
   "metadata": {},
   "source": [
    "Начну с конца: естественно, у нас есть неполные дубликаты. Выше я уже обращал внимание на оные в колонке с названиями фильмов, думая, как это могло получиться. Разумеется, неуники также есть практически во всех остальных колонках.\n",
    "    \n",
    "Потеряна 741 строка. Это около 10% данных, что довольно много, впрочем, всё это мы приравняли к полным дубликатам, так что за потери можно не считать =)\n",
    "    \n",
    "Также вручную найден странный дубль в номере прокатного удостоверения. Это один и тот же фильм, там видны проблемы в записи режиссёра и продюссера, почему-то разные категории и страны с рейтингом. Не очень понятно, какой из вариантов предпочтительнее, к тому же, он всего один такой, посему точечно аннигилировать его по индексу не будем, оставив всё как есть    "
   ]
  },
  {
   "cell_type": "markdown",
   "id": "ef538261",
   "metadata": {},
   "source": [
    "### Заполнение пропусков"
   ]
  },
  {
   "cell_type": "code",
   "execution_count": 22,
   "id": "3a7d7c8e",
   "metadata": {},
   "outputs": [
    {
     "name": "stdout",
     "output_type": "stream",
     "text": [
      "<class 'pandas.core.frame.DataFrame'>\n",
      "RangeIndex: 6771 entries, 0 to 6770\n",
      "Data columns (total 19 columns):\n",
      " #   Column                 Non-Null Count  Dtype         \n",
      "---  ------                 --------------  -----         \n",
      " 0   title                  6771 non-null   object        \n",
      " 1   punumber               6771 non-null   int32         \n",
      " 2   show_start_date        6771 non-null   datetime64[ns]\n",
      " 3   type                   6771 non-null   object        \n",
      " 4   film_studio            6754 non-null   object        \n",
      " 5   production_country     6769 non-null   object        \n",
      " 6   director               6762 non-null   object        \n",
      " 7   producer               6212 non-null   object        \n",
      " 8   age_restriction        6771 non-null   object        \n",
      " 9   refundable_support     329 non-null    float64       \n",
      " 10  nonrefundable_support  329 non-null    float64       \n",
      " 11  budget                 329 non-null    float64       \n",
      " 12  financing_source       329 non-null    object        \n",
      " 13  ratings                5785 non-null   float64       \n",
      " 14  genres                 5805 non-null   object        \n",
      " 15  box_office             3103 non-null   float64       \n",
      " 16  support_percent        329 non-null    float64       \n",
      " 17  year                   6771 non-null   int64         \n",
      " 18  main_genre             6771 non-null   object        \n",
      "dtypes: datetime64[ns](1), float64(6), int32(1), int64(1), object(10)\n",
      "memory usage: 978.7+ KB\n"
     ]
    }
   ],
   "source": [
    "drop.info()"
   ]
  },
  {
   "cell_type": "markdown",
   "id": "a188c012",
   "metadata": {},
   "source": [
    "По большому счёту, мы не можем адекватно обработать пропуски в этих данных.  \n",
    "Наша таблица теперь состоит из 6771 уникальных строк.  \n",
    "Можно безболезненно дропнуть строки с пропусками в production_country и director, а также film_studio.\n",
    "\n",
    "Мы потеряем очень мало значений."
   ]
  },
  {
   "cell_type": "code",
   "execution_count": 23,
   "id": "405de5ec",
   "metadata": {},
   "outputs": [],
   "source": [
    "drop = drop.dropna(subset=['production_country', 'director', 'film_studio']).reset_index().drop(columns='index')"
   ]
  },
  {
   "cell_type": "code",
   "execution_count": 24,
   "id": "16006827",
   "metadata": {},
   "outputs": [
    {
     "name": "stdout",
     "output_type": "stream",
     "text": [
      "<class 'pandas.core.frame.DataFrame'>\n",
      "RangeIndex: 6745 entries, 0 to 6744\n",
      "Data columns (total 19 columns):\n",
      " #   Column                 Non-Null Count  Dtype         \n",
      "---  ------                 --------------  -----         \n",
      " 0   title                  6745 non-null   object        \n",
      " 1   punumber               6745 non-null   int32         \n",
      " 2   show_start_date        6745 non-null   datetime64[ns]\n",
      " 3   type                   6745 non-null   object        \n",
      " 4   film_studio            6745 non-null   object        \n",
      " 5   production_country     6745 non-null   object        \n",
      " 6   director               6745 non-null   object        \n",
      " 7   producer               6190 non-null   object        \n",
      " 8   age_restriction        6745 non-null   object        \n",
      " 9   refundable_support     329 non-null    float64       \n",
      " 10  nonrefundable_support  329 non-null    float64       \n",
      " 11  budget                 329 non-null    float64       \n",
      " 12  financing_source       329 non-null    object        \n",
      " 13  ratings                5777 non-null   float64       \n",
      " 14  genres                 5797 non-null   object        \n",
      " 15  box_office             3100 non-null   float64       \n",
      " 16  support_percent        329 non-null    float64       \n",
      " 17  year                   6745 non-null   int64         \n",
      " 18  main_genre             6745 non-null   object        \n",
      "dtypes: datetime64[ns](1), float64(6), int32(1), int64(1), object(10)\n",
      "memory usage: 975.0+ KB\n"
     ]
    }
   ],
   "source": [
    "drop.info()"
   ]
  },
  {
   "cell_type": "code",
   "execution_count": 25,
   "id": "374c0063",
   "metadata": {},
   "outputs": [
    {
     "data": {
      "text/plain": [
       "True"
      ]
     },
     "execution_count": 25,
     "metadata": {},
     "output_type": "execute_result"
    }
   ],
   "source": [
    "#количество уникальных фильмов равняется длине фрейма, следовательно, каждый фильм встречается лишь 1 раз\n",
    "drop['title'].value_counts().count() == len(drop['title'])"
   ]
  },
  {
   "cell_type": "markdown",
   "id": "e330bc66",
   "metadata": {},
   "source": [
    "Собственно, данные о господдержке у нас из исходного фрейма, там мы дополнять и менять ничего не будем априорно.\n",
    "    \n",
    "Выискивать информацию о сборах — не самое простое и необходимое занятие, а применить хоть какие-то методики для рассчёта мы здесь не можем. \n",
    "    \n",
    "Около пятисот нанов в продюссерском составе можно тоже оставить как есть, они нам не критичны.\n",
    "\n",
    "В итоге, это как минимум сложно заполнить, ведь нет никакой взаимосвязи между соседними строками. Здесь вряд ли хорошо покажут себя даже импутеры склеарна и КНН."
   ]
  },
  {
   "cell_type": "markdown",
   "id": "794f8c3a",
   "metadata": {},
   "source": [
    "### Изучение категориальных значений"
   ]
  },
  {
   "cell_type": "code",
   "execution_count": 26,
   "id": "f17cddfc",
   "metadata": {},
   "outputs": [
    {
     "data": {
      "text/html": [
       "<div>\n",
       "<style scoped>\n",
       "    .dataframe tbody tr th:only-of-type {\n",
       "        vertical-align: middle;\n",
       "    }\n",
       "\n",
       "    .dataframe tbody tr th {\n",
       "        vertical-align: top;\n",
       "    }\n",
       "\n",
       "    .dataframe thead th {\n",
       "        text-align: right;\n",
       "    }\n",
       "</style>\n",
       "<table border=\"1\" class=\"dataframe\">\n",
       "  <thead>\n",
       "    <tr style=\"text-align: right;\">\n",
       "      <th></th>\n",
       "      <th>title</th>\n",
       "      <th>punumber</th>\n",
       "      <th>show_start_date</th>\n",
       "      <th>type</th>\n",
       "      <th>film_studio</th>\n",
       "      <th>production_country</th>\n",
       "      <th>director</th>\n",
       "      <th>producer</th>\n",
       "      <th>age_restriction</th>\n",
       "      <th>refundable_support</th>\n",
       "      <th>nonrefundable_support</th>\n",
       "      <th>budget</th>\n",
       "      <th>financing_source</th>\n",
       "      <th>ratings</th>\n",
       "      <th>genres</th>\n",
       "      <th>box_office</th>\n",
       "      <th>support_percent</th>\n",
       "      <th>year</th>\n",
       "      <th>main_genre</th>\n",
       "    </tr>\n",
       "  </thead>\n",
       "  <tbody>\n",
       "    <tr>\n",
       "      <th>0</th>\n",
       "      <td>Открытый простор</td>\n",
       "      <td>221048915</td>\n",
       "      <td>2015-11-27</td>\n",
       "      <td>Художественный</td>\n",
       "      <td>Тачстоун Пикчерз, Кобальт Пикчерз, Бикон Пикче...</td>\n",
       "      <td>США</td>\n",
       "      <td>Кевин Костнер</td>\n",
       "      <td>Дэвид Валдес, Кевин Костнер, Джейк Эбертс</td>\n",
       "      <td>«18+» - запрещено для детей</td>\n",
       "      <td>NaN</td>\n",
       "      <td>NaN</td>\n",
       "      <td>NaN</td>\n",
       "      <td>NaN</td>\n",
       "      <td>7.2</td>\n",
       "      <td>[боевик, драма, мелодрама]</td>\n",
       "      <td>NaN</td>\n",
       "      <td>NaN</td>\n",
       "      <td>2015</td>\n",
       "      <td>боевик</td>\n",
       "    </tr>\n",
       "    <tr>\n",
       "      <th>1</th>\n",
       "      <td>Особо важное задание</td>\n",
       "      <td>111013716</td>\n",
       "      <td>2016-09-13</td>\n",
       "      <td>Художественный</td>\n",
       "      <td>Киностудия \"Мосфильм\"</td>\n",
       "      <td>СССР</td>\n",
       "      <td>Е.Матвеев</td>\n",
       "      <td>NaN</td>\n",
       "      <td>«6+» - для детей старше 6 лет</td>\n",
       "      <td>NaN</td>\n",
       "      <td>NaN</td>\n",
       "      <td>NaN</td>\n",
       "      <td>NaN</td>\n",
       "      <td>6.6</td>\n",
       "      <td>[драма, военный]</td>\n",
       "      <td>NaN</td>\n",
       "      <td>NaN</td>\n",
       "      <td>2016</td>\n",
       "      <td>драма</td>\n",
       "    </tr>\n",
       "    <tr>\n",
       "      <th>2</th>\n",
       "      <td>Особо опасен</td>\n",
       "      <td>221030815</td>\n",
       "      <td>2015-07-29</td>\n",
       "      <td>Художественный</td>\n",
       "      <td>Юниверсал Пикчерз, Кикстарт Продакшнз, Марк Пл...</td>\n",
       "      <td>США</td>\n",
       "      <td>Тимур Бекмамбетов</td>\n",
       "      <td>Джим Лемли, Джейсон Нетер, Марк Е.Платт, Яйн Смит</td>\n",
       "      <td>«18+» - запрещено для детей</td>\n",
       "      <td>NaN</td>\n",
       "      <td>NaN</td>\n",
       "      <td>NaN</td>\n",
       "      <td>NaN</td>\n",
       "      <td>6.8</td>\n",
       "      <td>[фантастика, боевик, триллер]</td>\n",
       "      <td>NaN</td>\n",
       "      <td>NaN</td>\n",
       "      <td>2015</td>\n",
       "      <td>фантастика</td>\n",
       "    </tr>\n",
       "    <tr>\n",
       "      <th>3</th>\n",
       "      <td>Остановился поезд</td>\n",
       "      <td>111013816</td>\n",
       "      <td>2016-09-13</td>\n",
       "      <td>Художественный</td>\n",
       "      <td>Киностудия \"Мосфильм\"</td>\n",
       "      <td>СССР</td>\n",
       "      <td>В.Абдрашитов</td>\n",
       "      <td>NaN</td>\n",
       "      <td>«6+» - для детей старше 6 лет</td>\n",
       "      <td>NaN</td>\n",
       "      <td>NaN</td>\n",
       "      <td>NaN</td>\n",
       "      <td>NaN</td>\n",
       "      <td>7.7</td>\n",
       "      <td>[драма]</td>\n",
       "      <td>NaN</td>\n",
       "      <td>NaN</td>\n",
       "      <td>2016</td>\n",
       "      <td>драма</td>\n",
       "    </tr>\n",
       "    <tr>\n",
       "      <th>4</th>\n",
       "      <td>Любовь и голуби</td>\n",
       "      <td>111007013</td>\n",
       "      <td>2013-10-18</td>\n",
       "      <td>Художественный</td>\n",
       "      <td>Киностудия \"Мосфильм\"</td>\n",
       "      <td>СССР</td>\n",
       "      <td>В.Меньшов</td>\n",
       "      <td>NaN</td>\n",
       "      <td>«12+» - для детей старше 12 лет</td>\n",
       "      <td>NaN</td>\n",
       "      <td>NaN</td>\n",
       "      <td>NaN</td>\n",
       "      <td>NaN</td>\n",
       "      <td>8.3</td>\n",
       "      <td>[мелодрама, комедия]</td>\n",
       "      <td>2700.0</td>\n",
       "      <td>NaN</td>\n",
       "      <td>2013</td>\n",
       "      <td>мелодрама</td>\n",
       "    </tr>\n",
       "    <tr>\n",
       "      <th>5</th>\n",
       "      <td>Любовь и сигареты</td>\n",
       "      <td>221074614</td>\n",
       "      <td>2014-12-29</td>\n",
       "      <td>Художественный</td>\n",
       "      <td>Юнайтед Артистс, Грин Стрит Филмз, Айкон Интер...</td>\n",
       "      <td>США</td>\n",
       "      <td>Джон Туртурро</td>\n",
       "      <td>Джон Пенотти, Джон Туртурро</td>\n",
       "      <td>«18+» - запрещено для детей</td>\n",
       "      <td>NaN</td>\n",
       "      <td>NaN</td>\n",
       "      <td>NaN</td>\n",
       "      <td>NaN</td>\n",
       "      <td>6.6</td>\n",
       "      <td>[мюзикл, мелодрама, комедия]</td>\n",
       "      <td>NaN</td>\n",
       "      <td>NaN</td>\n",
       "      <td>2014</td>\n",
       "      <td>мюзикл</td>\n",
       "    </tr>\n",
       "    <tr>\n",
       "      <th>6</th>\n",
       "      <td>Отпетые мошенники.</td>\n",
       "      <td>121011416</td>\n",
       "      <td>2016-05-05</td>\n",
       "      <td>Художественный</td>\n",
       "      <td>Пульсар Продюксьон, ТФ1 Фильм</td>\n",
       "      <td>Франция</td>\n",
       "      <td>Эрик Беснард</td>\n",
       "      <td>Патрис Леду</td>\n",
       "      <td>«18+» - запрещено для детей</td>\n",
       "      <td>NaN</td>\n",
       "      <td>NaN</td>\n",
       "      <td>NaN</td>\n",
       "      <td>NaN</td>\n",
       "      <td>8.0</td>\n",
       "      <td>[комедия, криминал]</td>\n",
       "      <td>NaN</td>\n",
       "      <td>NaN</td>\n",
       "      <td>2016</td>\n",
       "      <td>комедия</td>\n",
       "    </tr>\n",
       "  </tbody>\n",
       "</table>\n",
       "</div>"
      ],
      "text/plain": [
       "                  title   punumber show_start_date            type  \\\n",
       "0      Открытый простор  221048915      2015-11-27  Художественный   \n",
       "1  Особо важное задание  111013716      2016-09-13  Художественный   \n",
       "2          Особо опасен  221030815      2015-07-29  Художественный   \n",
       "3     Остановился поезд  111013816      2016-09-13  Художественный   \n",
       "4       Любовь и голуби  111007013      2013-10-18  Художественный   \n",
       "5     Любовь и сигареты  221074614      2014-12-29  Художественный   \n",
       "6    Отпетые мошенники.  121011416      2016-05-05  Художественный   \n",
       "\n",
       "                                         film_studio production_country  \\\n",
       "0  Тачстоун Пикчерз, Кобальт Пикчерз, Бикон Пикче...                США   \n",
       "1                              Киностудия \"Мосфильм\"               СССР   \n",
       "2  Юниверсал Пикчерз, Кикстарт Продакшнз, Марк Пл...                США   \n",
       "3                              Киностудия \"Мосфильм\"               СССР   \n",
       "4                              Киностудия \"Мосфильм\"               СССР   \n",
       "5  Юнайтед Артистс, Грин Стрит Филмз, Айкон Интер...                США   \n",
       "6                     Пульсар Продюксьон, ТФ1 Фильм             Франция   \n",
       "\n",
       "            director                                           producer  \\\n",
       "0      Кевин Костнер          Дэвид Валдес, Кевин Костнер, Джейк Эбертс   \n",
       "1          Е.Матвеев                                                NaN   \n",
       "2  Тимур Бекмамбетов  Джим Лемли, Джейсон Нетер, Марк Е.Платт, Яйн Смит   \n",
       "3       В.Абдрашитов                                                NaN   \n",
       "4          В.Меньшов                                                NaN   \n",
       "5      Джон Туртурро                        Джон Пенотти, Джон Туртурро   \n",
       "6       Эрик Беснард                                        Патрис Леду   \n",
       "\n",
       "                   age_restriction  refundable_support  nonrefundable_support  \\\n",
       "0      «18+» - запрещено для детей                 NaN                    NaN   \n",
       "1    «6+» - для детей старше 6 лет                 NaN                    NaN   \n",
       "2      «18+» - запрещено для детей                 NaN                    NaN   \n",
       "3    «6+» - для детей старше 6 лет                 NaN                    NaN   \n",
       "4  «12+» - для детей старше 12 лет                 NaN                    NaN   \n",
       "5      «18+» - запрещено для детей                 NaN                    NaN   \n",
       "6      «18+» - запрещено для детей                 NaN                    NaN   \n",
       "\n",
       "   budget financing_source  ratings                         genres  \\\n",
       "0     NaN              NaN      7.2     [боевик, драма, мелодрама]   \n",
       "1     NaN              NaN      6.6               [драма, военный]   \n",
       "2     NaN              NaN      6.8  [фантастика, боевик, триллер]   \n",
       "3     NaN              NaN      7.7                        [драма]   \n",
       "4     NaN              NaN      8.3           [мелодрама, комедия]   \n",
       "5     NaN              NaN      6.6   [мюзикл, мелодрама, комедия]   \n",
       "6     NaN              NaN      8.0            [комедия, криминал]   \n",
       "\n",
       "   box_office  support_percent  year  main_genre  \n",
       "0         NaN              NaN  2015      боевик  \n",
       "1         NaN              NaN  2016       драма  \n",
       "2         NaN              NaN  2015  фантастика  \n",
       "3         NaN              NaN  2016       драма  \n",
       "4      2700.0              NaN  2013   мелодрама  \n",
       "5         NaN              NaN  2014      мюзикл  \n",
       "6         NaN              NaN  2016     комедия  "
      ]
     },
     "execution_count": 26,
     "metadata": {},
     "output_type": "execute_result"
    }
   ],
   "source": [
    "drop.head(7)"
   ]
  },
  {
   "cell_type": "markdown",
   "id": "bc9835a3",
   "metadata": {},
   "source": [
    "#### Типы"
   ]
  },
  {
   "cell_type": "code",
   "execution_count": 27,
   "id": "83cb807e",
   "metadata": {},
   "outputs": [
    {
     "data": {
      "text/plain": [
       "Художественный                3923\n",
       " Художественный               1345\n",
       "Анимационный                   766\n",
       "Прочие                         385\n",
       "Документальный                 275\n",
       "Научно-популярный               49\n",
       " Анимационный                    1\n",
       "Музыкально-развлекательный       1\n",
       "Name: type, dtype: int64"
      ]
     },
     "execution_count": 27,
     "metadata": {},
     "output_type": "execute_result"
    }
   ],
   "source": [
    "drop['type'].value_counts()"
   ]
  },
  {
   "cell_type": "code",
   "execution_count": 28,
   "id": "7edd139c",
   "metadata": {},
   "outputs": [],
   "source": [
    "drop['type'] = drop['type'].str.replace(' ', '')\n",
    "drop['type'] = drop['type'].str.replace('Музыкально-развлекательный', 'Прочие')"
   ]
  },
  {
   "cell_type": "code",
   "execution_count": 29,
   "id": "4904a6b5",
   "metadata": {},
   "outputs": [
    {
     "data": {
      "text/plain": [
       "Художественный       5268\n",
       "Анимационный          767\n",
       "Прочие                386\n",
       "Документальный        275\n",
       "Научно-популярный      49\n",
       "Name: type, dtype: int64"
      ]
     },
     "execution_count": 29,
     "metadata": {},
     "output_type": "execute_result"
    }
   ],
   "source": [
    "drop['type'].value_counts()"
   ]
  },
  {
   "cell_type": "markdown",
   "id": "8a807b9d",
   "metadata": {},
   "source": [
    "Жанры приведены к общему формату (убраны пробелы в начале). Единственный фильм в музыкальном жанре записан в раздел \"Прочие\" \n",
    "во избежание излишней дробности категорий."
   ]
  },
  {
   "cell_type": "markdown",
   "id": "d9aac909",
   "metadata": {},
   "source": [
    "#### Страны"
   ]
  },
  {
   "cell_type": "code",
   "execution_count": 30,
   "id": "60b74377",
   "metadata": {},
   "outputs": [
    {
     "data": {
      "text/plain": [
       "6745"
      ]
     },
     "execution_count": 30,
     "metadata": {},
     "output_type": "execute_result"
    }
   ],
   "source": [
    "len(drop['production_country'])"
   ]
  },
  {
   "cell_type": "code",
   "execution_count": 31,
   "id": "5c746d0c",
   "metadata": {},
   "outputs": [
    {
     "data": {
      "text/plain": [
       "Россия                                                                 1775\n",
       "США                                                                    1774\n",
       "СССР                                                                    345\n",
       "Франция                                                                 278\n",
       "Великобритания                                                          236\n",
       "                                                                       ... \n",
       "Великобритания - Германия - США                                           1\n",
       "Россия-Ирландия                                                           1\n",
       "Македония - Франция - Великобритания                                      1\n",
       "Франция - Бразилия - Италия                                               1\n",
       "Дания - Канада - Швеция - Франция - Германия - Великобритания - США       1\n",
       "Name: production_country, Length: 943, dtype: int64"
      ]
     },
     "execution_count": 31,
     "metadata": {},
     "output_type": "execute_result"
    }
   ],
   "source": [
    "drop['production_country'].value_counts()"
   ]
  },
  {
   "cell_type": "code",
   "execution_count": 32,
   "id": "aa262ac9",
   "metadata": {},
   "outputs": [],
   "source": [
    "drop['production_country_list'] = drop['production_country'].str.split('[-,]')"
   ]
  },
  {
   "cell_type": "code",
   "execution_count": 33,
   "id": "f2b6d2f5",
   "metadata": {},
   "outputs": [],
   "source": [
    "def x(a):\n",
    "    for i in range(len(a)):\n",
    "        a[i] = a[i].lstrip().rstrip()\n",
    "    return a"
   ]
  },
  {
   "cell_type": "code",
   "execution_count": 34,
   "id": "584f0234",
   "metadata": {},
   "outputs": [],
   "source": [
    "drop['production_country_list'] = drop['production_country_list'].apply(x)"
   ]
  },
  {
   "cell_type": "code",
   "execution_count": 35,
   "id": "3923f7c4",
   "metadata": {},
   "outputs": [
    {
     "data": {
      "text/plain": [
       "['Дания', 'Канада', 'Швеция', 'Франция', 'Германия', 'Великобритания', 'США']"
      ]
     },
     "execution_count": 35,
     "metadata": {},
     "output_type": "execute_result"
    }
   ],
   "source": [
    "drop['production_country_list'].iloc[6731]"
   ]
  },
  {
   "cell_type": "markdown",
   "id": "da730d7b",
   "metadata": {},
   "source": [
    "Функция выше создаёт список из стран, разбитый в виде списка. Теперь можно точно считать страны или фильмы, снятые более чем одной страной. "
   ]
  },
  {
   "cell_type": "markdown",
   "id": "dd16dcf3",
   "metadata": {},
   "source": [
    "#### Возраст"
   ]
  },
  {
   "cell_type": "code",
   "execution_count": 37,
   "id": "5697b578",
   "metadata": {},
   "outputs": [
    {
     "data": {
      "text/plain": [
       "«16+» - для детей старше 16 лет           2510\n",
       "«12+» - для детей старше 12 лет           1471\n",
       "«18+» - запрещено для детей               1423\n",
       "«0+» - для любой зрительской аудитории     741\n",
       "«6+» - для детей старше 6 лет              600\n",
       "Name: age_restriction, dtype: int64"
      ]
     },
     "execution_count": 37,
     "metadata": {},
     "output_type": "execute_result"
    }
   ],
   "source": [
    "drop['age_restriction'].value_counts()"
   ]
  },
  {
   "cell_type": "markdown",
   "id": "41a50e88",
   "metadata": {},
   "source": [
    "Здесь всё в порядке, можно попробовать сократить содержимое строки до лаконичного вида, оставив только число, либо вообще заменить на новую категорию. Впрочем, это необязательно."
   ]
  },
  {
   "cell_type": "markdown",
   "id": "96504ea0",
   "metadata": {},
   "source": [
    "#### Студия"
   ]
  },
  {
   "cell_type": "code",
   "execution_count": 38,
   "id": "26c0fac0",
   "metadata": {},
   "outputs": [
    {
     "data": {
      "text/plain": [
       "Киностудия \"Мосфильм\"                                           339\n",
       "ООО \"Мульт в кино\"                                               57\n",
       "Анимаккорд Лтд                                                   23\n",
       "ООО \"Мульт в кино\"                                               18\n",
       "ФГУП \"ТПО \"Киностудия \"Союзмультфильм\"                           15\n",
       "ООО \"ТаББаК\"                                                     15\n",
       "Опус Арте                                                        14\n",
       "Р А И Синема                                                     14\n",
       "ООО \"Студия анимационного кино \"Мельница\"                        14\n",
       "ООО \"Кинокомпания \"СТВ\"                                          13\n",
       "ЗАО \"Аэроплан\"                                                   12\n",
       "Пиксар Анимейшн Студиос, Уолт Дисней Пикчерз                     12\n",
       "Уолт Дисней Пикчерз                                              11\n",
       "Свердловская киностудия                                          10\n",
       "ОАО \"ТПО \"Санкт-Петербургская студия документальных фильмов\"     10\n",
       "Name: film_studio, dtype: int64"
      ]
     },
     "execution_count": 38,
     "metadata": {},
     "output_type": "execute_result"
    }
   ],
   "source": [
    "drop['film_studio'].value_counts().head(15)"
   ]
  },
  {
   "cell_type": "markdown",
   "id": "c06ec701",
   "metadata": {},
   "source": [
    "Сложно придумать, что можно сделать с этими данными вообще. Был бы рад какому-нибудь совету.\n",
    "    \n",
    "Сейчас всё выглядит так, будто есть некоторые неочевидные повторы в студиях и их комбинациях, которые сложно обработать базовыми знаниями стемминга и лемматизации без ухода в tfidf и нлп в целом. Студии заполнены кириллицей, не имеют пропусков, что мы уже знаем из подсчёта значений, а больше особо и не расписать ничего."
   ]
  },
  {
   "cell_type": "markdown",
   "id": "d1834b1d",
   "metadata": {},
   "source": [
    "#### Режиссёр"
   ]
  },
  {
   "cell_type": "code",
   "execution_count": 39,
   "id": "5895a933",
   "metadata": {},
   "outputs": [
    {
     "data": {
      "text/plain": [
       "О.Семёнова     47\n",
       "Д.Червяцов     16\n",
       "Вуди Аллен     13\n",
       "О.Семёнова     12\n",
       "Name: director, dtype: int64"
      ]
     },
     "execution_count": 39,
     "metadata": {},
     "output_type": "execute_result"
    }
   ],
   "source": [
    "drop['director'].value_counts().head(4)"
   ]
  },
  {
   "cell_type": "code",
   "execution_count": 40,
   "id": "e41220f5",
   "metadata": {},
   "outputs": [],
   "source": [
    "drop['director'] = drop['director'].str.strip()"
   ]
  },
  {
   "cell_type": "markdown",
   "id": "d563c4b0",
   "metadata": {},
   "source": [
    "Были удалены пробелы в началах и концах ячеек, с помощью чего мы получили истенное значение фильмов, в которых режиссёром выступила О. Семёнова. Вероятно, кроме неё встречались ещё режиссёры с подобными проблемами."
   ]
  },
  {
   "cell_type": "code",
   "execution_count": 41,
   "id": "775877b3",
   "metadata": {},
   "outputs": [
    {
     "data": {
      "text/plain": [
       "О.Семёнова          60\n",
       "Д.Червяцов          16\n",
       "Вуди Аллен          13\n",
       "Стивен Содерберг    12\n",
       "Name: director, dtype: int64"
      ]
     },
     "execution_count": 41,
     "metadata": {},
     "output_type": "execute_result"
    }
   ],
   "source": [
    "drop['director'].value_counts().head(4)"
   ]
  },
  {
   "cell_type": "markdown",
   "id": "e5cafa4f",
   "metadata": {},
   "source": [
    "### Изучение количественных значений"
   ]
  },
  {
   "cell_type": "code",
   "execution_count": 42,
   "id": "42343183",
   "metadata": {},
   "outputs": [
    {
     "data": {
      "text/html": [
       "<div>\n",
       "<style scoped>\n",
       "    .dataframe tbody tr th:only-of-type {\n",
       "        vertical-align: middle;\n",
       "    }\n",
       "\n",
       "    .dataframe tbody tr th {\n",
       "        vertical-align: top;\n",
       "    }\n",
       "\n",
       "    .dataframe thead th {\n",
       "        text-align: right;\n",
       "    }\n",
       "</style>\n",
       "<table border=\"1\" class=\"dataframe\">\n",
       "  <thead>\n",
       "    <tr style=\"text-align: right;\">\n",
       "      <th></th>\n",
       "      <th>title</th>\n",
       "      <th>punumber</th>\n",
       "      <th>show_start_date</th>\n",
       "      <th>type</th>\n",
       "      <th>film_studio</th>\n",
       "      <th>production_country</th>\n",
       "      <th>director</th>\n",
       "      <th>producer</th>\n",
       "      <th>age_restriction</th>\n",
       "      <th>refundable_support</th>\n",
       "      <th>nonrefundable_support</th>\n",
       "      <th>budget</th>\n",
       "      <th>financing_source</th>\n",
       "      <th>ratings</th>\n",
       "      <th>genres</th>\n",
       "      <th>box_office</th>\n",
       "      <th>support_percent</th>\n",
       "      <th>year</th>\n",
       "      <th>main_genre</th>\n",
       "      <th>production_country_list</th>\n",
       "    </tr>\n",
       "  </thead>\n",
       "  <tbody>\n",
       "    <tr>\n",
       "      <th>1060</th>\n",
       "      <td>Пока еще жива</td>\n",
       "      <td>111005313</td>\n",
       "      <td>2013-10-11</td>\n",
       "      <td>Художественный</td>\n",
       "      <td>АНО содействия развитию кинематографии \"Ангел-...</td>\n",
       "      <td>Россия</td>\n",
       "      <td>А.Атанесян</td>\n",
       "      <td>А.Атанесян, М.Бабаханов, Р.Бутко</td>\n",
       "      <td>«16+» - для детей старше 16 лет</td>\n",
       "      <td>0.0</td>\n",
       "      <td>26500000.0</td>\n",
       "      <td>79411900.0</td>\n",
       "      <td>Министерство культуры</td>\n",
       "      <td>8.1</td>\n",
       "      <td>[драма, мелодрама]</td>\n",
       "      <td>3.653536e+05</td>\n",
       "      <td>33.0</td>\n",
       "      <td>2013</td>\n",
       "      <td>драма</td>\n",
       "      <td>[Россия]</td>\n",
       "    </tr>\n",
       "    <tr>\n",
       "      <th>1210</th>\n",
       "      <td>Бесславные придурки</td>\n",
       "      <td>111003314</td>\n",
       "      <td>2014-03-28</td>\n",
       "      <td>Художественный</td>\n",
       "      <td>ООО \"Компания \"АТК-Студио\"</td>\n",
       "      <td>Россия</td>\n",
       "      <td>А.Якимчук</td>\n",
       "      <td>А.Тютрюмов</td>\n",
       "      <td>«12+» - для детей старше 12 лет</td>\n",
       "      <td>0.0</td>\n",
       "      <td>26000000.0</td>\n",
       "      <td>37142857.0</td>\n",
       "      <td>Министерство культуры</td>\n",
       "      <td>NaN</td>\n",
       "      <td>NaN</td>\n",
       "      <td>2.814000e+04</td>\n",
       "      <td>70.0</td>\n",
       "      <td>2014</td>\n",
       "      <td>0</td>\n",
       "      <td>[Россия]</td>\n",
       "    </tr>\n",
       "    <tr>\n",
       "      <th>1255</th>\n",
       "      <td>Невидимки</td>\n",
       "      <td>111004213</td>\n",
       "      <td>2013-09-10</td>\n",
       "      <td>Художественный</td>\n",
       "      <td>ООО \"Компания \"РЕАЛ-ДАКОТА\"</td>\n",
       "      <td>Россия</td>\n",
       "      <td>Р.Давлетьяров, С.Комаров</td>\n",
       "      <td>Р.Давлетьяров, А.Котелевский, А.Олейников</td>\n",
       "      <td>«12+» - для детей старше 12 лет</td>\n",
       "      <td>0.0</td>\n",
       "      <td>107847945.0</td>\n",
       "      <td>176023490.0</td>\n",
       "      <td>Фонд кино</td>\n",
       "      <td>5.3</td>\n",
       "      <td>[комедия, фантастика]</td>\n",
       "      <td>1.995703e+07</td>\n",
       "      <td>61.0</td>\n",
       "      <td>2013</td>\n",
       "      <td>комедия</td>\n",
       "      <td>[Россия]</td>\n",
       "    </tr>\n",
       "    <tr>\n",
       "      <th>1278</th>\n",
       "      <td>БЕРЦЫ</td>\n",
       "      <td>111004314</td>\n",
       "      <td>2014-05-05</td>\n",
       "      <td>Художественный</td>\n",
       "      <td>ООО \"Студия \"Пассажир\"</td>\n",
       "      <td>Россия</td>\n",
       "      <td>Е.Миндадзе (псевдоним Катя Шагалова)</td>\n",
       "      <td>Л.Антонова</td>\n",
       "      <td>«16+» - для детей старше 16 лет</td>\n",
       "      <td>0.0</td>\n",
       "      <td>28000000.0</td>\n",
       "      <td>40574140.0</td>\n",
       "      <td>Министерство культуры</td>\n",
       "      <td>4.2</td>\n",
       "      <td>[драма]</td>\n",
       "      <td>5.591750e+04</td>\n",
       "      <td>69.0</td>\n",
       "      <td>2014</td>\n",
       "      <td>драма</td>\n",
       "      <td>[Россия]</td>\n",
       "    </tr>\n",
       "    <tr>\n",
       "      <th>1522</th>\n",
       "      <td>Братья Ч</td>\n",
       "      <td>111004414</td>\n",
       "      <td>2014-04-23</td>\n",
       "      <td>Художественный</td>\n",
       "      <td>ООО \"Студия \"Пассажир\"</td>\n",
       "      <td>Россия</td>\n",
       "      <td>М.Угаров</td>\n",
       "      <td>А.Миндадзе, Л.Антонова</td>\n",
       "      <td>«16+» - для детей старше 16 лет</td>\n",
       "      <td>0.0</td>\n",
       "      <td>25000000.0</td>\n",
       "      <td>40015122.0</td>\n",
       "      <td>Министерство культуры</td>\n",
       "      <td>6.4</td>\n",
       "      <td>[драма]</td>\n",
       "      <td>2.321000e+05</td>\n",
       "      <td>62.0</td>\n",
       "      <td>2014</td>\n",
       "      <td>драма</td>\n",
       "      <td>[Россия]</td>\n",
       "    </tr>\n",
       "    <tr>\n",
       "      <th>...</th>\n",
       "      <td>...</td>\n",
       "      <td>...</td>\n",
       "      <td>...</td>\n",
       "      <td>...</td>\n",
       "      <td>...</td>\n",
       "      <td>...</td>\n",
       "      <td>...</td>\n",
       "      <td>...</td>\n",
       "      <td>...</td>\n",
       "      <td>...</td>\n",
       "      <td>...</td>\n",
       "      <td>...</td>\n",
       "      <td>...</td>\n",
       "      <td>...</td>\n",
       "      <td>...</td>\n",
       "      <td>...</td>\n",
       "      <td>...</td>\n",
       "      <td>...</td>\n",
       "      <td>...</td>\n",
       "      <td>...</td>\n",
       "    </tr>\n",
       "    <tr>\n",
       "      <th>6716</th>\n",
       "      <td>Холоп</td>\n",
       "      <td>111021719</td>\n",
       "      <td>2019-12-19</td>\n",
       "      <td>Художественный</td>\n",
       "      <td>ООО \"МЕМ-МЕДИА\" по заказу АО \"ВБД Груп\"</td>\n",
       "      <td>Россия</td>\n",
       "      <td>К.Шипенко</td>\n",
       "      <td>Э.Илоян, Д.Жалинский, В.Дусмухаметов, Т.Бадзие...</td>\n",
       "      <td>«12+» - для детей старше 12 лет</td>\n",
       "      <td>25000000.0</td>\n",
       "      <td>35000000.0</td>\n",
       "      <td>160000000.0</td>\n",
       "      <td>Фонд кино</td>\n",
       "      <td>6.8</td>\n",
       "      <td>[комедия]</td>\n",
       "      <td>3.073569e+09</td>\n",
       "      <td>38.0</td>\n",
       "      <td>2019</td>\n",
       "      <td>комедия</td>\n",
       "      <td>[Россия]</td>\n",
       "    </tr>\n",
       "    <tr>\n",
       "      <th>6724</th>\n",
       "      <td>Союз спасения</td>\n",
       "      <td>111022019</td>\n",
       "      <td>2019-12-26</td>\n",
       "      <td>Художественный</td>\n",
       "      <td>ЗАО \"Дирекция кино\"</td>\n",
       "      <td>Россия</td>\n",
       "      <td>А.Кравчук</td>\n",
       "      <td>А.Максимов, К.Эрнст</td>\n",
       "      <td>«12+» - для детей старше 12 лет</td>\n",
       "      <td>100000000.0</td>\n",
       "      <td>400000000.0</td>\n",
       "      <td>980000000.0</td>\n",
       "      <td>Фонд кино</td>\n",
       "      <td>6.0</td>\n",
       "      <td>[история, биография, драма]</td>\n",
       "      <td>7.177032e+08</td>\n",
       "      <td>51.0</td>\n",
       "      <td>2019</td>\n",
       "      <td>история</td>\n",
       "      <td>[Россия]</td>\n",
       "    </tr>\n",
       "    <tr>\n",
       "      <th>6726</th>\n",
       "      <td>Иван Царевич и Серый Волк 4</td>\n",
       "      <td>114005019</td>\n",
       "      <td>2019-12-20</td>\n",
       "      <td>Анимационный</td>\n",
       "      <td>ООО \"Студия анимационного кино \"Мельница\"</td>\n",
       "      <td>Россия</td>\n",
       "      <td>Д.Шмидт, К.Феоктистов</td>\n",
       "      <td>С.Сельянов, А.Боярский</td>\n",
       "      <td>«6+» - для детей старше 6 лет</td>\n",
       "      <td>100000000.0</td>\n",
       "      <td>0.0</td>\n",
       "      <td>190000000.0</td>\n",
       "      <td>Фонд кино</td>\n",
       "      <td>6.7</td>\n",
       "      <td>[мультфильм, приключения, семейный]</td>\n",
       "      <td>5.010692e+08</td>\n",
       "      <td>53.0</td>\n",
       "      <td>2019</td>\n",
       "      <td>мультфильм</td>\n",
       "      <td>[Россия]</td>\n",
       "    </tr>\n",
       "    <tr>\n",
       "      <th>6735</th>\n",
       "      <td>Я свободен</td>\n",
       "      <td>111023019</td>\n",
       "      <td>2019-12-26</td>\n",
       "      <td>Художественный</td>\n",
       "      <td>АО \"ТПО \"Киностудия им. М.Горького\"</td>\n",
       "      <td>Россия</td>\n",
       "      <td>И.Северов</td>\n",
       "      <td>С.Зернов</td>\n",
       "      <td>«12+» - для детей старше 12 лет</td>\n",
       "      <td>0.0</td>\n",
       "      <td>30000000.0</td>\n",
       "      <td>46154000.0</td>\n",
       "      <td>Министерство культуры</td>\n",
       "      <td>5.9</td>\n",
       "      <td>[драма]</td>\n",
       "      <td>NaN</td>\n",
       "      <td>65.0</td>\n",
       "      <td>2019</td>\n",
       "      <td>драма</td>\n",
       "      <td>[Россия]</td>\n",
       "    </tr>\n",
       "    <tr>\n",
       "      <th>6737</th>\n",
       "      <td>(Не)идеальный мужчина</td>\n",
       "      <td>111023119</td>\n",
       "      <td>2019-12-24</td>\n",
       "      <td>Художественный</td>\n",
       "      <td>ООО \"Нон-Стоп Продакшн\"</td>\n",
       "      <td>Россия</td>\n",
       "      <td>М.Бальчюнас (псевдоним М.Вайсберг)</td>\n",
       "      <td>С.Мелькумов, А.Роднянский, М.Вайсберг, Р.Минас...</td>\n",
       "      <td>«12+» - для детей старше 12 лет</td>\n",
       "      <td>40000000.0</td>\n",
       "      <td>60000000.0</td>\n",
       "      <td>150147502.0</td>\n",
       "      <td>Фонд кино</td>\n",
       "      <td>4.5</td>\n",
       "      <td>[комедия, фантастика, мелодрама]</td>\n",
       "      <td>NaN</td>\n",
       "      <td>67.0</td>\n",
       "      <td>2019</td>\n",
       "      <td>комедия</td>\n",
       "      <td>[Россия]</td>\n",
       "    </tr>\n",
       "  </tbody>\n",
       "</table>\n",
       "<p>329 rows × 20 columns</p>\n",
       "</div>"
      ],
      "text/plain": [
       "                            title   punumber show_start_date            type  \\\n",
       "1060                Пока еще жива  111005313      2013-10-11  Художественный   \n",
       "1210          Бесславные придурки  111003314      2014-03-28  Художественный   \n",
       "1255                    Невидимки  111004213      2013-09-10  Художественный   \n",
       "1278                        БЕРЦЫ  111004314      2014-05-05  Художественный   \n",
       "1522                     Братья Ч  111004414      2014-04-23  Художественный   \n",
       "...                           ...        ...             ...             ...   \n",
       "6716                        Холоп  111021719      2019-12-19  Художественный   \n",
       "6724                Союз спасения  111022019      2019-12-26  Художественный   \n",
       "6726  Иван Царевич и Серый Волк 4  114005019      2019-12-20    Анимационный   \n",
       "6735                   Я свободен  111023019      2019-12-26  Художественный   \n",
       "6737        (Не)идеальный мужчина  111023119      2019-12-24  Художественный   \n",
       "\n",
       "                                            film_studio production_country  \\\n",
       "1060  АНО содействия развитию кинематографии \"Ангел-...             Россия   \n",
       "1210                         ООО \"Компания \"АТК-Студио\"             Россия   \n",
       "1255                        ООО \"Компания \"РЕАЛ-ДАКОТА\"             Россия   \n",
       "1278                             ООО \"Студия \"Пассажир\"             Россия   \n",
       "1522                             ООО \"Студия \"Пассажир\"             Россия   \n",
       "...                                                 ...                ...   \n",
       "6716            ООО \"МЕМ-МЕДИА\" по заказу АО \"ВБД Груп\"             Россия   \n",
       "6724                                ЗАО \"Дирекция кино\"             Россия   \n",
       "6726          ООО \"Студия анимационного кино \"Мельница\"             Россия   \n",
       "6735                АО \"ТПО \"Киностудия им. М.Горького\"             Россия   \n",
       "6737                           ООО \"Нон-Стоп Продакшн\"              Россия   \n",
       "\n",
       "                                  director  \\\n",
       "1060                            А.Атанесян   \n",
       "1210                             А.Якимчук   \n",
       "1255              Р.Давлетьяров, С.Комаров   \n",
       "1278  Е.Миндадзе (псевдоним Катя Шагалова)   \n",
       "1522                              М.Угаров   \n",
       "...                                    ...   \n",
       "6716                             К.Шипенко   \n",
       "6724                             А.Кравчук   \n",
       "6726                 Д.Шмидт, К.Феоктистов   \n",
       "6735                             И.Северов   \n",
       "6737    М.Бальчюнас (псевдоним М.Вайсберг)   \n",
       "\n",
       "                                               producer  \\\n",
       "1060                   А.Атанесян, М.Бабаханов, Р.Бутко   \n",
       "1210                                         А.Тютрюмов   \n",
       "1255          Р.Давлетьяров, А.Котелевский, А.Олейников   \n",
       "1278                                         Л.Антонова   \n",
       "1522                             А.Миндадзе, Л.Антонова   \n",
       "...                                                 ...   \n",
       "6716  Э.Илоян, Д.Жалинский, В.Дусмухаметов, Т.Бадзие...   \n",
       "6724                                А.Максимов, К.Эрнст   \n",
       "6726                             С.Сельянов, А.Боярский   \n",
       "6735                                           С.Зернов   \n",
       "6737  С.Мелькумов, А.Роднянский, М.Вайсберг, Р.Минас...   \n",
       "\n",
       "                      age_restriction  refundable_support  \\\n",
       "1060  «16+» - для детей старше 16 лет                 0.0   \n",
       "1210  «12+» - для детей старше 12 лет                 0.0   \n",
       "1255  «12+» - для детей старше 12 лет                 0.0   \n",
       "1278  «16+» - для детей старше 16 лет                 0.0   \n",
       "1522  «16+» - для детей старше 16 лет                 0.0   \n",
       "...                               ...                 ...   \n",
       "6716  «12+» - для детей старше 12 лет          25000000.0   \n",
       "6724  «12+» - для детей старше 12 лет         100000000.0   \n",
       "6726    «6+» - для детей старше 6 лет         100000000.0   \n",
       "6735  «12+» - для детей старше 12 лет                 0.0   \n",
       "6737  «12+» - для детей старше 12 лет          40000000.0   \n",
       "\n",
       "      nonrefundable_support       budget       financing_source  ratings  \\\n",
       "1060             26500000.0   79411900.0  Министерство культуры      8.1   \n",
       "1210             26000000.0   37142857.0  Министерство культуры      NaN   \n",
       "1255            107847945.0  176023490.0              Фонд кино      5.3   \n",
       "1278             28000000.0   40574140.0  Министерство культуры      4.2   \n",
       "1522             25000000.0   40015122.0  Министерство культуры      6.4   \n",
       "...                     ...          ...                    ...      ...   \n",
       "6716             35000000.0  160000000.0              Фонд кино      6.8   \n",
       "6724            400000000.0  980000000.0              Фонд кино      6.0   \n",
       "6726                    0.0  190000000.0              Фонд кино      6.7   \n",
       "6735             30000000.0   46154000.0  Министерство культуры      5.9   \n",
       "6737             60000000.0  150147502.0              Фонд кино      4.5   \n",
       "\n",
       "                                   genres    box_office  support_percent  \\\n",
       "1060                   [драма, мелодрама]  3.653536e+05             33.0   \n",
       "1210                                  NaN  2.814000e+04             70.0   \n",
       "1255                [комедия, фантастика]  1.995703e+07             61.0   \n",
       "1278                              [драма]  5.591750e+04             69.0   \n",
       "1522                              [драма]  2.321000e+05             62.0   \n",
       "...                                   ...           ...              ...   \n",
       "6716                            [комедия]  3.073569e+09             38.0   \n",
       "6724          [история, биография, драма]  7.177032e+08             51.0   \n",
       "6726  [мультфильм, приключения, семейный]  5.010692e+08             53.0   \n",
       "6735                              [драма]           NaN             65.0   \n",
       "6737     [комедия, фантастика, мелодрама]           NaN             67.0   \n",
       "\n",
       "      year  main_genre production_country_list  \n",
       "1060  2013       драма                [Россия]  \n",
       "1210  2014           0                [Россия]  \n",
       "1255  2013     комедия                [Россия]  \n",
       "1278  2014       драма                [Россия]  \n",
       "1522  2014       драма                [Россия]  \n",
       "...    ...         ...                     ...  \n",
       "6716  2019     комедия                [Россия]  \n",
       "6724  2019     история                [Россия]  \n",
       "6726  2019  мультфильм                [Россия]  \n",
       "6735  2019       драма                [Россия]  \n",
       "6737  2019     комедия                [Россия]  \n",
       "\n",
       "[329 rows x 20 columns]"
      ]
     },
     "execution_count": 42,
     "metadata": {},
     "output_type": "execute_result"
    }
   ],
   "source": [
    "drop[drop['budget'].notna()]"
   ]
  },
  {
   "cell_type": "code",
   "execution_count": 165,
   "id": "a140c657",
   "metadata": {},
   "outputs": [
    {
     "data": {
      "text/html": [
       "<div>\n",
       "<style scoped>\n",
       "    .dataframe tbody tr th:only-of-type {\n",
       "        vertical-align: middle;\n",
       "    }\n",
       "\n",
       "    .dataframe tbody tr th {\n",
       "        vertical-align: top;\n",
       "    }\n",
       "\n",
       "    .dataframe thead th {\n",
       "        text-align: right;\n",
       "    }\n",
       "</style>\n",
       "<table border=\"1\" class=\"dataframe\">\n",
       "  <thead>\n",
       "    <tr style=\"text-align: right;\">\n",
       "      <th></th>\n",
       "      <th>punumber</th>\n",
       "      <th>refundable_support</th>\n",
       "      <th>nonrefundable_support</th>\n",
       "      <th>budget</th>\n",
       "      <th>ratings</th>\n",
       "      <th>box_office</th>\n",
       "      <th>year</th>\n",
       "    </tr>\n",
       "  </thead>\n",
       "  <tbody>\n",
       "    <tr>\n",
       "      <th>count</th>\n",
       "      <td>3.290000e+02</td>\n",
       "      <td>3.290000e+02</td>\n",
       "      <td>3.290000e+02</td>\n",
       "      <td>3.290000e+02</td>\n",
       "      <td>311.000000</td>\n",
       "      <td>3.160000e+02</td>\n",
       "      <td>329.000000</td>\n",
       "    </tr>\n",
       "    <tr>\n",
       "      <th>mean</th>\n",
       "      <td>1.115991e+08</td>\n",
       "      <td>1.165350e+07</td>\n",
       "      <td>4.805984e+07</td>\n",
       "      <td>1.251467e+08</td>\n",
       "      <td>5.998071</td>\n",
       "      <td>1.332534e+08</td>\n",
       "      <td>2016.699088</td>\n",
       "    </tr>\n",
       "    <tr>\n",
       "      <th>std</th>\n",
       "      <td>5.728784e+06</td>\n",
       "      <td>2.454003e+07</td>\n",
       "      <td>5.701189e+07</td>\n",
       "      <td>1.839162e+08</td>\n",
       "      <td>1.123903</td>\n",
       "      <td>3.357391e+08</td>\n",
       "      <td>1.633500</td>\n",
       "    </tr>\n",
       "    <tr>\n",
       "      <th>min</th>\n",
       "      <td>1.110001e+08</td>\n",
       "      <td>0.000000e+00</td>\n",
       "      <td>0.000000e+00</td>\n",
       "      <td>0.000000e+00</td>\n",
       "      <td>1.000000</td>\n",
       "      <td>1.550000e+03</td>\n",
       "      <td>2013.000000</td>\n",
       "    </tr>\n",
       "    <tr>\n",
       "      <th>25%</th>\n",
       "      <td>1.110048e+08</td>\n",
       "      <td>0.000000e+00</td>\n",
       "      <td>2.500000e+07</td>\n",
       "      <td>4.200000e+07</td>\n",
       "      <td>5.300000</td>\n",
       "      <td>1.227870e+06</td>\n",
       "      <td>2015.000000</td>\n",
       "    </tr>\n",
       "    <tr>\n",
       "      <th>50%</th>\n",
       "      <td>1.110103e+08</td>\n",
       "      <td>0.000000e+00</td>\n",
       "      <td>3.000000e+07</td>\n",
       "      <td>6.849061e+07</td>\n",
       "      <td>6.200000</td>\n",
       "      <td>1.639050e+07</td>\n",
       "      <td>2016.000000</td>\n",
       "    </tr>\n",
       "    <tr>\n",
       "      <th>75%</th>\n",
       "      <td>1.110174e+08</td>\n",
       "      <td>1.500000e+07</td>\n",
       "      <td>4.000000e+07</td>\n",
       "      <td>1.400250e+08</td>\n",
       "      <td>6.700000</td>\n",
       "      <td>1.069345e+08</td>\n",
       "      <td>2018.000000</td>\n",
       "    </tr>\n",
       "    <tr>\n",
       "      <th>max</th>\n",
       "      <td>2.140101e+08</td>\n",
       "      <td>1.800000e+08</td>\n",
       "      <td>4.000000e+08</td>\n",
       "      <td>2.305074e+09</td>\n",
       "      <td>8.500000</td>\n",
       "      <td>3.073569e+09</td>\n",
       "      <td>2019.000000</td>\n",
       "    </tr>\n",
       "  </tbody>\n",
       "</table>\n",
       "</div>"
      ],
      "text/plain": [
       "           punumber  refundable_support  nonrefundable_support        budget  \\\n",
       "count  3.290000e+02        3.290000e+02           3.290000e+02  3.290000e+02   \n",
       "mean   1.115991e+08        1.165350e+07           4.805984e+07  1.251467e+08   \n",
       "std    5.728784e+06        2.454003e+07           5.701189e+07  1.839162e+08   \n",
       "min    1.110001e+08        0.000000e+00           0.000000e+00  0.000000e+00   \n",
       "25%    1.110048e+08        0.000000e+00           2.500000e+07  4.200000e+07   \n",
       "50%    1.110103e+08        0.000000e+00           3.000000e+07  6.849061e+07   \n",
       "75%    1.110174e+08        1.500000e+07           4.000000e+07  1.400250e+08   \n",
       "max    2.140101e+08        1.800000e+08           4.000000e+08  2.305074e+09   \n",
       "\n",
       "          ratings    box_office         year  \n",
       "count  311.000000  3.160000e+02   329.000000  \n",
       "mean     5.998071  1.332534e+08  2016.699088  \n",
       "std      1.123903  3.357391e+08     1.633500  \n",
       "min      1.000000  1.550000e+03  2013.000000  \n",
       "25%      5.300000  1.227870e+06  2015.000000  \n",
       "50%      6.200000  1.639050e+07  2016.000000  \n",
       "75%      6.700000  1.069345e+08  2018.000000  \n",
       "max      8.500000  3.073569e+09  2019.000000  "
      ]
     },
     "execution_count": 165,
     "metadata": {},
     "output_type": "execute_result"
    }
   ],
   "source": [
    "descr = drop[drop['budget'].notna()].describe()\n",
    "descr = descr.drop('support_percent', axis=1)\n",
    "descr"
   ]
  },
  {
   "cell_type": "code",
   "execution_count": 201,
   "id": "476f8668",
   "metadata": {},
   "outputs": [
    {
     "data": {
      "text/html": [
       "<div>\n",
       "<style scoped>\n",
       "    .dataframe tbody tr th:only-of-type {\n",
       "        vertical-align: middle;\n",
       "    }\n",
       "\n",
       "    .dataframe tbody tr th {\n",
       "        vertical-align: top;\n",
       "    }\n",
       "\n",
       "    .dataframe thead th {\n",
       "        text-align: right;\n",
       "    }\n",
       "</style>\n",
       "<table border=\"1\" class=\"dataframe\">\n",
       "  <thead>\n",
       "    <tr style=\"text-align: right;\">\n",
       "      <th></th>\n",
       "      <th>refundable_support</th>\n",
       "      <th>nonrefundable_support</th>\n",
       "      <th>budget</th>\n",
       "      <th>box_office</th>\n",
       "    </tr>\n",
       "  </thead>\n",
       "  <tbody>\n",
       "    <tr>\n",
       "      <th>count</th>\n",
       "      <td>329.000000</td>\n",
       "      <td>329.00000</td>\n",
       "      <td>329.000000</td>\n",
       "      <td>316.000000</td>\n",
       "    </tr>\n",
       "    <tr>\n",
       "      <th>mean</th>\n",
       "      <td>0.064742</td>\n",
       "      <td>0.12015</td>\n",
       "      <td>0.054292</td>\n",
       "      <td>0.043354</td>\n",
       "    </tr>\n",
       "    <tr>\n",
       "      <th>std</th>\n",
       "      <td>0.136334</td>\n",
       "      <td>0.14253</td>\n",
       "      <td>0.079788</td>\n",
       "      <td>0.109234</td>\n",
       "    </tr>\n",
       "    <tr>\n",
       "      <th>min</th>\n",
       "      <td>0.000000</td>\n",
       "      <td>0.00000</td>\n",
       "      <td>0.000000</td>\n",
       "      <td>0.000000</td>\n",
       "    </tr>\n",
       "    <tr>\n",
       "      <th>25%</th>\n",
       "      <td>0.000000</td>\n",
       "      <td>0.06250</td>\n",
       "      <td>0.018221</td>\n",
       "      <td>0.000399</td>\n",
       "    </tr>\n",
       "    <tr>\n",
       "      <th>50%</th>\n",
       "      <td>0.000000</td>\n",
       "      <td>0.07500</td>\n",
       "      <td>0.029713</td>\n",
       "      <td>0.005332</td>\n",
       "    </tr>\n",
       "    <tr>\n",
       "      <th>75%</th>\n",
       "      <td>0.083333</td>\n",
       "      <td>0.10000</td>\n",
       "      <td>0.060746</td>\n",
       "      <td>0.034791</td>\n",
       "    </tr>\n",
       "    <tr>\n",
       "      <th>max</th>\n",
       "      <td>1.000000</td>\n",
       "      <td>1.00000</td>\n",
       "      <td>1.000000</td>\n",
       "      <td>1.000000</td>\n",
       "    </tr>\n",
       "  </tbody>\n",
       "</table>\n",
       "</div>"
      ],
      "text/plain": [
       "       refundable_support  nonrefundable_support      budget  box_office\n",
       "count          329.000000              329.00000  329.000000  316.000000\n",
       "mean             0.064742                0.12015    0.054292    0.043354\n",
       "std              0.136334                0.14253    0.079788    0.109234\n",
       "min              0.000000                0.00000    0.000000    0.000000\n",
       "25%              0.000000                0.06250    0.018221    0.000399\n",
       "50%              0.000000                0.07500    0.029713    0.005332\n",
       "75%              0.083333                0.10000    0.060746    0.034791\n",
       "max              1.000000                1.00000    1.000000    1.000000"
      ]
     },
     "execution_count": 201,
     "metadata": {},
     "output_type": "execute_result"
    }
   ],
   "source": [
    "from sklearn.preprocessing import MinMaxScaler\n",
    "sc = MinMaxScaler()\n",
    "test = drop[drop['budget'].notna()][['refundable_support','nonrefundable_support','budget','box_office']]\n",
    "test_sc = sc.fit_transform(test)\n",
    "test_sc = pd.DataFrame(test_sc, index=test.index, columns=test.columns)\n",
    "test_sc.describe()"
   ]
  },
  {
   "cell_type": "markdown",
   "id": "d34116b2",
   "metadata": {},
   "source": [
    "В общем, получилось забавно.  \n",
    "Думаю, что наглядности не прибавилось, но в рамках оценки истинных разбросов значений оставим.  \n",
    "Очень интересен столбец с бокс оффисом и его процентили. Надо бы посмотреть, как там дела с количеством фильмов, кажется, несколько аутлаеров влияют на картину (впрочем, и другие характеристики тоже находятся под этим влиянием).  \n",
    "Здесь нам важна только вертикальная ось, по которой откладываются суммы в миллионах рублей. Подавляющее большинство точек сосредоточено ниже 500 млн. Как-то так =)"
   ]
  },
  {
   "cell_type": "code",
   "execution_count": 258,
   "id": "5ce7dbac",
   "metadata": {},
   "outputs": [
    {
     "data": {
      "image/png": "[encoded data removed]",
      "text/plain": [
       "<Figure size 864x576 with 1 Axes>"
      ]
     },
     "metadata": {},
     "output_type": "display_data"
    }
   ],
   "source": [
    "def plotter(column):\n",
    "    plot = drop[drop['budget'].notna()][column]/1_000_000\n",
    "    plot = plot.dropna()\n",
    "    plot = plot.reset_index(drop=True)\n",
    "    return plot.plot(style='.')\n",
    "for i in test_sc.describe().columns:\n",
    "    plotter(i)"
   ]
  },
  {
   "cell_type": "markdown",
   "id": "46c6dfc5",
   "metadata": {},
   "source": [
    "## Исследовательский анализ"
   ]
  },
  {
   "cell_type": "markdown",
   "id": "efaf0f6b",
   "metadata": {},
   "source": [
    "* Посмотрим, сколько фильмов выходило в прокат каждый год. Данные о прокате в кинотеатрах известны не для всех фильмов. Посчитаем, какую долю составляют фильмы с указанной информацией о прокате в кинотеатрах."
   ]
  },
  {
   "cell_type": "code",
   "execution_count": 43,
   "id": "e6618e0c",
   "metadata": {},
   "outputs": [
    {
     "data": {
      "text/plain": [
       "0"
      ]
     },
     "execution_count": 43,
     "metadata": {},
     "output_type": "execute_result"
    }
   ],
   "source": [
    "drop['year'].isna().sum()"
   ]
  },
  {
   "cell_type": "markdown",
   "id": "2d7de27d",
   "metadata": {},
   "source": [
    "У нас есть данные о старте проката для абсолютно каждого фильма. Эта картина наблюдалась ещё в оригинальном фрейме, до любых изменений. Построим график и проследим динамику:"
   ]
  },
  {
   "cell_type": "code",
   "execution_count": 44,
   "id": "1e5195ab",
   "metadata": {},
   "outputs": [],
   "source": [
    "sns.set(rc = {'figure.figsize':(12,8)})"
   ]
  },
  {
   "cell_type": "code",
   "execution_count": 45,
   "id": "91a26095",
   "metadata": {},
   "outputs": [
    {
     "data": {
      "image/png": "[encoded data removed]",
      "text/plain": [
       "<Figure size 864x576 with 1 Axes>"
      ]
     },
     "metadata": {},
     "output_type": "display_data"
    }
   ],
   "source": [
    "sns.countplot(data=drop, x='year');"
   ]
  },
  {
   "cell_type": "code",
   "execution_count": 322,
   "id": "dea7ba06",
   "metadata": {},
   "outputs": [],
   "source": [
    "box = len(drop[drop['box_office'].notna()])\n",
    "total = len(drop[drop['box_office'].isna()])\n",
    "values = [box, total]\n",
    "\n",
    "def make_autopct(values):\n",
    "    def my_autopct(pct):\n",
    "        total = sum(values)\n",
    "        val = int(round(pct*total/100.0))\n",
    "        return '{p:.2f}%  ({v:d})'.format(p=pct,v=val)\n",
    "    return my_autopct"
   ]
  },
  {
   "cell_type": "code",
   "execution_count": 323,
   "id": "4df49eb6",
   "metadata": {},
   "outputs": [
    {
     "data": {
      "image/png": "[encoded data removed]",
      "text/plain": [
       "<Figure size 864x576 with 1 Axes>"
      ]
     },
     "metadata": {},
     "output_type": "display_data"
    }
   ],
   "source": [
    "plt.pie([box, total], labels = ['Есть данные', 'Нет данных'], explode = [0.05, 0],\n",
    "       shadow = True, autopct=make_autopct(values));"
   ]
  },
  {
   "cell_type": "code",
   "execution_count": 265,
   "id": "67ff072b",
   "metadata": {},
   "outputs": [
    {
     "data": {
      "text/plain": [
       "True    6745\n",
       "Name: show_start_date, dtype: int64"
      ]
     },
     "execution_count": 265,
     "metadata": {},
     "output_type": "execute_result"
    }
   ],
   "source": [
    "drop['show_start_date'].notna().value_counts()"
   ]
  },
  {
   "cell_type": "markdown",
   "id": "46d964fd",
   "metadata": {},
   "source": [
    "*\tИзучим, как менялась динамика проката по годам. В каком году сумма сборов была минимальной? А максимальной?"
   ]
  },
  {
   "cell_type": "code",
   "execution_count": 46,
   "id": "9f8b088c",
   "metadata": {},
   "outputs": [
    {
     "data": {
      "text/html": [
       "<div>\n",
       "<style scoped>\n",
       "    .dataframe tbody tr th:only-of-type {\n",
       "        vertical-align: middle;\n",
       "    }\n",
       "\n",
       "    .dataframe tbody tr th {\n",
       "        vertical-align: top;\n",
       "    }\n",
       "\n",
       "    .dataframe thead th {\n",
       "        text-align: right;\n",
       "    }\n",
       "</style>\n",
       "<table border=\"1\" class=\"dataframe\">\n",
       "  <thead>\n",
       "    <tr style=\"text-align: right;\">\n",
       "      <th></th>\n",
       "      <th>year</th>\n",
       "      <th>box_office_mln</th>\n",
       "    </tr>\n",
       "  </thead>\n",
       "  <tbody>\n",
       "    <tr>\n",
       "      <th>0</th>\n",
       "      <td>2010</td>\n",
       "      <td>2.4</td>\n",
       "    </tr>\n",
       "    <tr>\n",
       "      <th>1</th>\n",
       "      <td>2011</td>\n",
       "      <td>14.1</td>\n",
       "    </tr>\n",
       "    <tr>\n",
       "      <th>2</th>\n",
       "      <td>2012</td>\n",
       "      <td>6.9</td>\n",
       "    </tr>\n",
       "    <tr>\n",
       "      <th>3</th>\n",
       "      <td>2013</td>\n",
       "      <td>29.8</td>\n",
       "    </tr>\n",
       "    <tr>\n",
       "      <th>4</th>\n",
       "      <td>2014</td>\n",
       "      <td>7444.9</td>\n",
       "    </tr>\n",
       "    <tr>\n",
       "      <th>5</th>\n",
       "      <td>2015</td>\n",
       "      <td>39497.3</td>\n",
       "    </tr>\n",
       "    <tr>\n",
       "      <th>6</th>\n",
       "      <td>2016</td>\n",
       "      <td>47857.0</td>\n",
       "    </tr>\n",
       "    <tr>\n",
       "      <th>7</th>\n",
       "      <td>2017</td>\n",
       "      <td>48559.0</td>\n",
       "    </tr>\n",
       "    <tr>\n",
       "      <th>8</th>\n",
       "      <td>2018</td>\n",
       "      <td>49653.6</td>\n",
       "    </tr>\n",
       "    <tr>\n",
       "      <th>9</th>\n",
       "      <td>2019</td>\n",
       "      <td>48409.4</td>\n",
       "    </tr>\n",
       "  </tbody>\n",
       "</table>\n",
       "</div>"
      ],
      "text/plain": [
       "   year  box_office_mln\n",
       "0  2010             2.4\n",
       "1  2011            14.1\n",
       "2  2012             6.9\n",
       "3  2013            29.8\n",
       "4  2014          7444.9\n",
       "5  2015         39497.3\n",
       "6  2016         47857.0\n",
       "7  2017         48559.0\n",
       "8  2018         49653.6\n",
       "9  2019         48409.4"
      ]
     },
     "execution_count": 46,
     "metadata": {},
     "output_type": "execute_result"
    }
   ],
   "source": [
    "a = drop.groupby('year', as_index=False).sum() #сгруппируем по году, просуммировав значения остальных колонок\n",
    "a['box_office_mln'] = round(a['box_office']/1_000_000, 1) #введём колонку со сборами в миллионах\n",
    "a[['year', 'box_office_mln']] #вывод таблицы из года и суммарных сборов"
   ]
  },
  {
   "cell_type": "code",
   "execution_count": 47,
   "id": "c24b97fb",
   "metadata": {
    "scrolled": false
   },
   "outputs": [
    {
     "data": {
      "image/png": "[encoded data removed]",
      "text/plain": [
       "<Figure size 864x576 with 1 Axes>"
      ]
     },
     "metadata": {},
     "output_type": "display_data"
    }
   ],
   "source": [
    "sns.barplot(data=a, x='year', y='box_office_mln');"
   ]
  },
  {
   "cell_type": "markdown",
   "id": "e689be93",
   "metadata": {},
   "source": [
    "Из таблицы и столбчатой диаграммы выше видно, что максимальным по сборам был 2018 год - более 49 миллиардов рублей.  \n",
    "Минимальным оказался 2010 год - всего около 2.4 млн рублей.  К сожалению, мы обрабатываем лишь 3100 фильмов, данные о которых у нас имеются. Больше половины фрейма остаётся за кадром."
   ]
  },
  {
   "cell_type": "markdown",
   "id": "698f0bd8",
   "metadata": {},
   "source": [
    "*\tС помощью сводной таблицы посчитаем среднюю и медианную сумму сборов для каждого года."
   ]
  },
  {
   "cell_type": "code",
   "execution_count": 48,
   "id": "9f21c70d",
   "metadata": {},
   "outputs": [
    {
     "name": "stdout",
     "output_type": "stream",
     "text": [
      "Процент отсутствующих данных о сборах за:\n",
      "2010 год: 88%\n",
      "2011 год: 80%\n",
      "2012 год: 77%\n",
      "2013 год: 69%\n",
      "2014 год: 63%\n",
      "2015 год: 29%\n",
      "2016 год: 22%\n",
      "2017 год: 28%\n",
      "2018 год: 45%\n",
      "2019 год: 41%\n"
     ]
    }
   ],
   "source": [
    "print('Процент отсутствующих данных о сборах за:')\n",
    "for i in range(2010, 2020):\n",
    "    print(f'{i} год: ',\n",
    "        round(drop[drop['year'] == i]['box_office'].isna().sum()/len(drop[drop['year'] == i])*100), '%', sep='')"
   ]
  },
  {
   "cell_type": "markdown",
   "id": "7f68ff07",
   "metadata": {},
   "source": [
    "До 2015 года процент имеющихся данных довольно мал, узнаем, как соотносятся абсолютные значения количества фильмов по годам:"
   ]
  },
  {
   "cell_type": "code",
   "execution_count": 49,
   "id": "71f0b8d1",
   "metadata": {},
   "outputs": [
    {
     "data": {
      "text/plain": [
       "2010    813\n",
       "2011    523\n",
       "2012    537\n",
       "2013    597\n",
       "2014    739\n",
       "2015    649\n",
       "2016    644\n",
       "2017    492\n",
       "2018    864\n",
       "2019    887\n",
       "Name: year, dtype: int64"
      ]
     },
     "execution_count": 49,
     "metadata": {},
     "output_type": "execute_result"
    }
   ],
   "source": [
    "drop['year'].value_counts().sort_index()"
   ]
  },
  {
   "cell_type": "markdown",
   "id": "7a241151",
   "metadata": {},
   "source": [
    "Значения соразмерны, попробуем посчитать средние и медианные сборы фильмов."
   ]
  },
  {
   "cell_type": "code",
   "execution_count": 50,
   "id": "5a185544",
   "metadata": {},
   "outputs": [
    {
     "data": {
      "text/html": [
       "<div>\n",
       "<style scoped>\n",
       "    .dataframe tbody tr th:only-of-type {\n",
       "        vertical-align: middle;\n",
       "    }\n",
       "\n",
       "    .dataframe tbody tr th {\n",
       "        vertical-align: top;\n",
       "    }\n",
       "\n",
       "    .dataframe thead th {\n",
       "        text-align: right;\n",
       "    }\n",
       "</style>\n",
       "<table border=\"1\" class=\"dataframe\">\n",
       "  <thead>\n",
       "    <tr style=\"text-align: right;\">\n",
       "      <th></th>\n",
       "      <th>punumber</th>\n",
       "      <th>refundable_support</th>\n",
       "      <th>nonrefundable_support</th>\n",
       "      <th>budget</th>\n",
       "      <th>ratings</th>\n",
       "      <th>box_office</th>\n",
       "      <th>support_percent</th>\n",
       "    </tr>\n",
       "    <tr>\n",
       "      <th>year</th>\n",
       "      <th></th>\n",
       "      <th></th>\n",
       "      <th></th>\n",
       "      <th></th>\n",
       "      <th></th>\n",
       "      <th></th>\n",
       "      <th></th>\n",
       "    </tr>\n",
       "  </thead>\n",
       "  <tbody>\n",
       "    <tr>\n",
       "      <th>2010</th>\n",
       "      <td>1.678459e+08</td>\n",
       "      <td>NaN</td>\n",
       "      <td>NaN</td>\n",
       "      <td>NaN</td>\n",
       "      <td>6.698118</td>\n",
       "      <td>2.427104e+04</td>\n",
       "      <td>NaN</td>\n",
       "    </tr>\n",
       "    <tr>\n",
       "      <th>2011</th>\n",
       "      <td>1.369482e+08</td>\n",
       "      <td>NaN</td>\n",
       "      <td>NaN</td>\n",
       "      <td>NaN</td>\n",
       "      <td>6.470650</td>\n",
       "      <td>1.325487e+05</td>\n",
       "      <td>NaN</td>\n",
       "    </tr>\n",
       "    <tr>\n",
       "      <th>2012</th>\n",
       "      <td>1.257827e+08</td>\n",
       "      <td>NaN</td>\n",
       "      <td>NaN</td>\n",
       "      <td>NaN</td>\n",
       "      <td>6.517347</td>\n",
       "      <td>5.484820e+04</td>\n",
       "      <td>NaN</td>\n",
       "    </tr>\n",
       "    <tr>\n",
       "      <th>2013</th>\n",
       "      <td>1.219721e+08</td>\n",
       "      <td>0.000000e+00</td>\n",
       "      <td>6.717397e+07</td>\n",
       "      <td>1.277177e+08</td>\n",
       "      <td>6.494364</td>\n",
       "      <td>1.619549e+05</td>\n",
       "      <td>47.0</td>\n",
       "    </tr>\n",
       "    <tr>\n",
       "      <th>2014</th>\n",
       "      <td>1.244603e+08</td>\n",
       "      <td>4.437500e+06</td>\n",
       "      <td>3.131264e+07</td>\n",
       "      <td>7.996780e+07</td>\n",
       "      <td>6.545765</td>\n",
       "      <td>2.707254e+07</td>\n",
       "      <td>NaN</td>\n",
       "    </tr>\n",
       "    <tr>\n",
       "      <th>2015</th>\n",
       "      <td>1.256811e+08</td>\n",
       "      <td>7.408757e+06</td>\n",
       "      <td>3.510568e+07</td>\n",
       "      <td>8.499615e+07</td>\n",
       "      <td>6.273166</td>\n",
       "      <td>8.586370e+07</td>\n",
       "      <td>NaN</td>\n",
       "    </tr>\n",
       "    <tr>\n",
       "      <th>2016</th>\n",
       "      <td>1.218756e+08</td>\n",
       "      <td>1.510656e+07</td>\n",
       "      <td>5.543698e+07</td>\n",
       "      <td>1.185073e+08</td>\n",
       "      <td>6.244507</td>\n",
       "      <td>9.571405e+07</td>\n",
       "      <td>NaN</td>\n",
       "    </tr>\n",
       "    <tr>\n",
       "      <th>2017</th>\n",
       "      <td>1.194160e+08</td>\n",
       "      <td>1.754505e+07</td>\n",
       "      <td>6.011280e+07</td>\n",
       "      <td>1.700530e+08</td>\n",
       "      <td>6.304976</td>\n",
       "      <td>1.367860e+08</td>\n",
       "      <td>NaN</td>\n",
       "    </tr>\n",
       "    <tr>\n",
       "      <th>2018</th>\n",
       "      <td>1.170708e+08</td>\n",
       "      <td>1.182143e+07</td>\n",
       "      <td>4.973160e+07</td>\n",
       "      <td>1.187803e+08</td>\n",
       "      <td>6.370203</td>\n",
       "      <td>1.051984e+08</td>\n",
       "      <td>NaN</td>\n",
       "    </tr>\n",
       "    <tr>\n",
       "      <th>2019</th>\n",
       "      <td>1.189668e+08</td>\n",
       "      <td>1.228358e+07</td>\n",
       "      <td>5.262687e+07</td>\n",
       "      <td>1.712816e+08</td>\n",
       "      <td>6.473684</td>\n",
       "      <td>9.273831e+07</td>\n",
       "      <td>NaN</td>\n",
       "    </tr>\n",
       "  </tbody>\n",
       "</table>\n",
       "</div>"
      ],
      "text/plain": [
       "          punumber  refundable_support  nonrefundable_support        budget  \\\n",
       "year                                                                          \n",
       "2010  1.678459e+08                 NaN                    NaN           NaN   \n",
       "2011  1.369482e+08                 NaN                    NaN           NaN   \n",
       "2012  1.257827e+08                 NaN                    NaN           NaN   \n",
       "2013  1.219721e+08        0.000000e+00           6.717397e+07  1.277177e+08   \n",
       "2014  1.244603e+08        4.437500e+06           3.131264e+07  7.996780e+07   \n",
       "2015  1.256811e+08        7.408757e+06           3.510568e+07  8.499615e+07   \n",
       "2016  1.218756e+08        1.510656e+07           5.543698e+07  1.185073e+08   \n",
       "2017  1.194160e+08        1.754505e+07           6.011280e+07  1.700530e+08   \n",
       "2018  1.170708e+08        1.182143e+07           4.973160e+07  1.187803e+08   \n",
       "2019  1.189668e+08        1.228358e+07           5.262687e+07  1.712816e+08   \n",
       "\n",
       "       ratings    box_office  support_percent  \n",
       "year                                           \n",
       "2010  6.698118  2.427104e+04              NaN  \n",
       "2011  6.470650  1.325487e+05              NaN  \n",
       "2012  6.517347  5.484820e+04              NaN  \n",
       "2013  6.494364  1.619549e+05             47.0  \n",
       "2014  6.545765  2.707254e+07              NaN  \n",
       "2015  6.273166  8.586370e+07              NaN  \n",
       "2016  6.244507  9.571405e+07              NaN  \n",
       "2017  6.304976  1.367860e+08              NaN  \n",
       "2018  6.370203  1.051984e+08              NaN  \n",
       "2019  6.473684  9.273831e+07              NaN  "
      ]
     },
     "execution_count": 50,
     "metadata": {},
     "output_type": "execute_result"
    }
   ],
   "source": [
    "mean = drop.groupby('year', as_index=True).mean() \n",
    "mean"
   ]
  },
  {
   "cell_type": "code",
   "execution_count": 51,
   "id": "3ce8c905",
   "metadata": {},
   "outputs": [
    {
     "data": {
      "text/plain": [
       "year\n",
       "2010      0.024271\n",
       "2011      0.132549\n",
       "2012      0.054848\n",
       "2013      0.161955\n",
       "2014     27.072536\n",
       "2015     85.863703\n",
       "2016     95.714055\n",
       "2017    136.786006\n",
       "2018    105.198374\n",
       "2019     92.738315\n",
       "Name: box_office, dtype: float64"
      ]
     },
     "execution_count": 51,
     "metadata": {},
     "output_type": "execute_result"
    }
   ],
   "source": [
    "mean = pd.pivot_table(drop, index='year', aggfunc='mean')\n",
    "mean['box_office']/1_000_000"
   ]
  },
  {
   "cell_type": "code",
   "execution_count": 52,
   "id": "6f871043",
   "metadata": {},
   "outputs": [
    {
     "data": {
      "text/plain": [
       "year\n",
       "2010     0.001765\n",
       "2011     0.003043\n",
       "2012     0.005660\n",
       "2013     0.003523\n",
       "2014     0.020220\n",
       "2015     5.104961\n",
       "2016     4.708307\n",
       "2017    10.387327\n",
       "2018     8.911534\n",
       "2019     4.774521\n",
       "Name: box_office, dtype: float64"
      ]
     },
     "execution_count": 52,
     "metadata": {},
     "output_type": "execute_result"
    }
   ],
   "source": [
    "median = pd.pivot_table(drop, index='year', aggfunc='median')\n",
    "median['box_office']/1_000_000"
   ]
  },
  {
   "cell_type": "markdown",
   "id": "ca529620",
   "metadata": {},
   "source": [
    "Что по средним, что по медианным сборам видна странная картина: с 2010 по 2013-2014 сборы были существенно ниже, разница в два порядка. Может, это связано с экономическими факторами, к примеру, методиками подсчёта и конвертацией из доллара? "
   ]
  },
  {
   "cell_type": "markdown",
   "id": "c764cbca",
   "metadata": {},
   "source": [
    "*\tОпределим, влияет ли возрастное ограничение аудитории («6+», «12+», «16+», «18+» и т. д.) на сборы фильма в прокате в период с 2015 по 2019 год? Фильмы с каким возрастным ограничением собрали больше всего денег в прокате? Меняется ли картина в зависимости от года? Сформулируем зависимость."
   ]
  },
  {
   "cell_type": "code",
   "execution_count": 53,
   "id": "345ffcc9",
   "metadata": {},
   "outputs": [
    {
     "data": {
      "text/html": [
       "<div>\n",
       "<style scoped>\n",
       "    .dataframe tbody tr th:only-of-type {\n",
       "        vertical-align: middle;\n",
       "    }\n",
       "\n",
       "    .dataframe tbody tr th {\n",
       "        vertical-align: top;\n",
       "    }\n",
       "\n",
       "    .dataframe thead th {\n",
       "        text-align: right;\n",
       "    }\n",
       "</style>\n",
       "<table border=\"1\" class=\"dataframe\">\n",
       "  <thead>\n",
       "    <tr style=\"text-align: right;\">\n",
       "      <th>age_restriction</th>\n",
       "      <th>«0+» - для любой зрительской аудитории</th>\n",
       "      <th>«12+» - для детей старше 12 лет</th>\n",
       "      <th>«16+» - для детей старше 16 лет</th>\n",
       "      <th>«18+» - запрещено для детей</th>\n",
       "      <th>«6+» - для детей старше 6 лет</th>\n",
       "    </tr>\n",
       "    <tr>\n",
       "      <th>year</th>\n",
       "      <th></th>\n",
       "      <th></th>\n",
       "      <th></th>\n",
       "      <th></th>\n",
       "      <th></th>\n",
       "    </tr>\n",
       "  </thead>\n",
       "  <tbody>\n",
       "    <tr>\n",
       "      <th>2015</th>\n",
       "      <td>1.024468e+07</td>\n",
       "      <td>1.865217e+08</td>\n",
       "      <td>6.848233e+07</td>\n",
       "      <td>4.146796e+07</td>\n",
       "      <td>1.641849e+08</td>\n",
       "    </tr>\n",
       "    <tr>\n",
       "      <th>2016</th>\n",
       "      <td>3.947073e+06</td>\n",
       "      <td>1.584334e+08</td>\n",
       "      <td>9.743043e+07</td>\n",
       "      <td>4.590489e+07</td>\n",
       "      <td>1.826234e+08</td>\n",
       "    </tr>\n",
       "    <tr>\n",
       "      <th>2017</th>\n",
       "      <td>7.653298e+07</td>\n",
       "      <td>1.914982e+08</td>\n",
       "      <td>1.574821e+08</td>\n",
       "      <td>6.565643e+07</td>\n",
       "      <td>2.685809e+08</td>\n",
       "    </tr>\n",
       "    <tr>\n",
       "      <th>2018</th>\n",
       "      <td>6.489800e+06</td>\n",
       "      <td>2.161705e+08</td>\n",
       "      <td>1.057923e+08</td>\n",
       "      <td>4.940879e+07</td>\n",
       "      <td>1.486026e+08</td>\n",
       "    </tr>\n",
       "    <tr>\n",
       "      <th>2019</th>\n",
       "      <td>5.915356e+06</td>\n",
       "      <td>1.527296e+08</td>\n",
       "      <td>7.243490e+07</td>\n",
       "      <td>5.650285e+07</td>\n",
       "      <td>1.586734e+08</td>\n",
       "    </tr>\n",
       "  </tbody>\n",
       "</table>\n",
       "</div>"
      ],
      "text/plain": [
       "age_restriction  «0+» - для любой зрительской аудитории  \\\n",
       "year                                                      \n",
       "2015                                       1.024468e+07   \n",
       "2016                                       3.947073e+06   \n",
       "2017                                       7.653298e+07   \n",
       "2018                                       6.489800e+06   \n",
       "2019                                       5.915356e+06   \n",
       "\n",
       "age_restriction  «12+» - для детей старше 12 лет  \\\n",
       "year                                               \n",
       "2015                                1.865217e+08   \n",
       "2016                                1.584334e+08   \n",
       "2017                                1.914982e+08   \n",
       "2018                                2.161705e+08   \n",
       "2019                                1.527296e+08   \n",
       "\n",
       "age_restriction  «16+» - для детей старше 16 лет  «18+» - запрещено для детей  \\\n",
       "year                                                                            \n",
       "2015                                6.848233e+07                 4.146796e+07   \n",
       "2016                                9.743043e+07                 4.590489e+07   \n",
       "2017                                1.574821e+08                 6.565643e+07   \n",
       "2018                                1.057923e+08                 4.940879e+07   \n",
       "2019                                7.243490e+07                 5.650285e+07   \n",
       "\n",
       "age_restriction  «6+» - для детей старше 6 лет  \n",
       "year                                            \n",
       "2015                              1.641849e+08  \n",
       "2016                              1.826234e+08  \n",
       "2017                              2.685809e+08  \n",
       "2018                              1.486026e+08  \n",
       "2019                              1.586734e+08  "
      ]
     },
     "execution_count": 53,
     "metadata": {},
     "output_type": "execute_result"
    }
   ],
   "source": [
    "age_rest = pd.pivot_table(drop, columns= 'age_restriction', index = 'year', aggfunc='mean')['box_office']\n",
    "age_rest = age_rest.iloc[5:]\n",
    "age_rest "
   ]
  },
  {
   "cell_type": "code",
   "execution_count": 54,
   "id": "83c2392d",
   "metadata": {},
   "outputs": [],
   "source": [
    "b = age_rest.columns.values[:-1].tolist()\n",
    "b.insert(1,age_rest.columns.values[::-1][0])"
   ]
  },
  {
   "cell_type": "code",
   "execution_count": 55,
   "id": "5826116e",
   "metadata": {
    "scrolled": true
   },
   "outputs": [
    {
     "data": {
      "text/html": [
       "<div>\n",
       "<style scoped>\n",
       "    .dataframe tbody tr th:only-of-type {\n",
       "        vertical-align: middle;\n",
       "    }\n",
       "\n",
       "    .dataframe tbody tr th {\n",
       "        vertical-align: top;\n",
       "    }\n",
       "\n",
       "    .dataframe thead th {\n",
       "        text-align: right;\n",
       "    }\n",
       "</style>\n",
       "<table border=\"1\" class=\"dataframe\">\n",
       "  <thead>\n",
       "    <tr style=\"text-align: right;\">\n",
       "      <th>age_restriction</th>\n",
       "      <th>«0+» - для любой зрительской аудитории</th>\n",
       "      <th>«6+» - для детей старше 6 лет</th>\n",
       "      <th>«12+» - для детей старше 12 лет</th>\n",
       "      <th>«16+» - для детей старше 16 лет</th>\n",
       "      <th>«18+» - запрещено для детей</th>\n",
       "    </tr>\n",
       "    <tr>\n",
       "      <th>year</th>\n",
       "      <th></th>\n",
       "      <th></th>\n",
       "      <th></th>\n",
       "      <th></th>\n",
       "      <th></th>\n",
       "    </tr>\n",
       "  </thead>\n",
       "  <tbody>\n",
       "    <tr>\n",
       "      <th>2015</th>\n",
       "      <td>10.2</td>\n",
       "      <td>164.2</td>\n",
       "      <td>186.5</td>\n",
       "      <td>68.5</td>\n",
       "      <td>41.5</td>\n",
       "    </tr>\n",
       "    <tr>\n",
       "      <th>2016</th>\n",
       "      <td>3.9</td>\n",
       "      <td>182.6</td>\n",
       "      <td>158.4</td>\n",
       "      <td>97.4</td>\n",
       "      <td>45.9</td>\n",
       "    </tr>\n",
       "    <tr>\n",
       "      <th>2017</th>\n",
       "      <td>76.5</td>\n",
       "      <td>268.6</td>\n",
       "      <td>191.5</td>\n",
       "      <td>157.5</td>\n",
       "      <td>65.7</td>\n",
       "    </tr>\n",
       "    <tr>\n",
       "      <th>2018</th>\n",
       "      <td>6.5</td>\n",
       "      <td>148.6</td>\n",
       "      <td>216.2</td>\n",
       "      <td>105.8</td>\n",
       "      <td>49.4</td>\n",
       "    </tr>\n",
       "    <tr>\n",
       "      <th>2019</th>\n",
       "      <td>5.9</td>\n",
       "      <td>158.7</td>\n",
       "      <td>152.7</td>\n",
       "      <td>72.4</td>\n",
       "      <td>56.5</td>\n",
       "    </tr>\n",
       "  </tbody>\n",
       "</table>\n",
       "</div>"
      ],
      "text/plain": [
       "age_restriction  «0+» - для любой зрительской аудитории  \\\n",
       "year                                                      \n",
       "2015                                               10.2   \n",
       "2016                                                3.9   \n",
       "2017                                               76.5   \n",
       "2018                                                6.5   \n",
       "2019                                                5.9   \n",
       "\n",
       "age_restriction  «6+» - для детей старше 6 лет  \\\n",
       "year                                             \n",
       "2015                                     164.2   \n",
       "2016                                     182.6   \n",
       "2017                                     268.6   \n",
       "2018                                     148.6   \n",
       "2019                                     158.7   \n",
       "\n",
       "age_restriction  «12+» - для детей старше 12 лет  \\\n",
       "year                                               \n",
       "2015                                       186.5   \n",
       "2016                                       158.4   \n",
       "2017                                       191.5   \n",
       "2018                                       216.2   \n",
       "2019                                       152.7   \n",
       "\n",
       "age_restriction  «16+» - для детей старше 16 лет  «18+» - запрещено для детей  \n",
       "year                                                                           \n",
       "2015                                        68.5                         41.5  \n",
       "2016                                        97.4                         45.9  \n",
       "2017                                       157.5                         65.7  \n",
       "2018                                       105.8                         49.4  \n",
       "2019                                        72.4                         56.5  "
      ]
     },
     "execution_count": 55,
     "metadata": {},
     "output_type": "execute_result"
    }
   ],
   "source": [
    "age_rest = age_rest[b]\n",
    "age_rest = age_rest.apply(lambda x: round(x / 1_000_000,1))\n",
    "age_rest"
   ]
  },
  {
   "cell_type": "markdown",
   "id": "4c7b70ef",
   "metadata": {},
   "source": [
    "Построена сводная таблица для каждого года и каждой категории. Средние сборы для наглядности переведены в миллионы.  \n",
    "Таблица всё ещё сложна для восприятия, поэтому визуализируем данные:"
   ]
  },
  {
   "cell_type": "code",
   "execution_count": 56,
   "id": "26dfc3ea",
   "metadata": {},
   "outputs": [
    {
     "data": {
      "image/png": "[encoded data removed]",
      "text/plain": [
       "<Figure size 864x576 with 2 Axes>"
      ]
     },
     "metadata": {},
     "output_type": "display_data"
    }
   ],
   "source": [
    "sns.heatmap(age_rest.transpose(), annot=True, fmt='g', cmap=\"YlGnBu\");"
   ]
  },
  {
   "cell_type": "markdown",
   "id": "3f109a63",
   "metadata": {},
   "source": [
    "Хитмап прекрасно иллюстрирует следующее: самые неприбыльные фильмы - без возрастных ограничений. Вероятно, это в основном детские мультфильмы, имеющие очень узкую аудиторию. То же верно и для категории 18+, которая тоже лимитирована, но с обратной стороны.  \n",
    "Самые популярные категории и самые доходные.  \n"
   ]
  },
  {
   "cell_type": "markdown",
   "id": "fcaa4bbb",
   "metadata": {},
   "source": [
    "## Исследование фильмов, получивших государственную поддержку\n"
   ]
  },
  {
   "cell_type": "code",
   "execution_count": 57,
   "id": "cbffeded",
   "metadata": {},
   "outputs": [
    {
     "data": {
      "text/html": [
       "<div>\n",
       "<style scoped>\n",
       "    .dataframe tbody tr th:only-of-type {\n",
       "        vertical-align: middle;\n",
       "    }\n",
       "\n",
       "    .dataframe tbody tr th {\n",
       "        vertical-align: top;\n",
       "    }\n",
       "\n",
       "    .dataframe thead th {\n",
       "        text-align: right;\n",
       "    }\n",
       "</style>\n",
       "<table border=\"1\" class=\"dataframe\">\n",
       "  <thead>\n",
       "    <tr style=\"text-align: right;\">\n",
       "      <th></th>\n",
       "      <th>title</th>\n",
       "      <th>punumber</th>\n",
       "      <th>show_start_date</th>\n",
       "      <th>type</th>\n",
       "      <th>film_studio</th>\n",
       "      <th>production_country</th>\n",
       "      <th>director</th>\n",
       "      <th>producer</th>\n",
       "      <th>age_restriction</th>\n",
       "      <th>refundable_support</th>\n",
       "      <th>nonrefundable_support</th>\n",
       "      <th>budget</th>\n",
       "      <th>financing_source</th>\n",
       "      <th>ratings</th>\n",
       "      <th>genres</th>\n",
       "      <th>box_office</th>\n",
       "      <th>support_percent</th>\n",
       "      <th>year</th>\n",
       "      <th>main_genre</th>\n",
       "      <th>production_country_list</th>\n",
       "    </tr>\n",
       "  </thead>\n",
       "  <tbody>\n",
       "    <tr>\n",
       "      <th>1060</th>\n",
       "      <td>Пока еще жива</td>\n",
       "      <td>111005313</td>\n",
       "      <td>2013-10-11</td>\n",
       "      <td>Художественный</td>\n",
       "      <td>АНО содействия развитию кинематографии \"Ангел-...</td>\n",
       "      <td>Россия</td>\n",
       "      <td>А.Атанесян</td>\n",
       "      <td>А.Атанесян, М.Бабаханов, Р.Бутко</td>\n",
       "      <td>«16+» - для детей старше 16 лет</td>\n",
       "      <td>0.0</td>\n",
       "      <td>26500000.0</td>\n",
       "      <td>79411900.0</td>\n",
       "      <td>Министерство культуры</td>\n",
       "      <td>8.1</td>\n",
       "      <td>[драма, мелодрама]</td>\n",
       "      <td>365353.6</td>\n",
       "      <td>33.0</td>\n",
       "      <td>2013</td>\n",
       "      <td>драма</td>\n",
       "      <td>[Россия]</td>\n",
       "    </tr>\n",
       "    <tr>\n",
       "      <th>1210</th>\n",
       "      <td>Бесславные придурки</td>\n",
       "      <td>111003314</td>\n",
       "      <td>2014-03-28</td>\n",
       "      <td>Художественный</td>\n",
       "      <td>ООО \"Компания \"АТК-Студио\"</td>\n",
       "      <td>Россия</td>\n",
       "      <td>А.Якимчук</td>\n",
       "      <td>А.Тютрюмов</td>\n",
       "      <td>«12+» - для детей старше 12 лет</td>\n",
       "      <td>0.0</td>\n",
       "      <td>26000000.0</td>\n",
       "      <td>37142857.0</td>\n",
       "      <td>Министерство культуры</td>\n",
       "      <td>NaN</td>\n",
       "      <td>NaN</td>\n",
       "      <td>28140.0</td>\n",
       "      <td>70.0</td>\n",
       "      <td>2014</td>\n",
       "      <td>0</td>\n",
       "      <td>[Россия]</td>\n",
       "    </tr>\n",
       "    <tr>\n",
       "      <th>1255</th>\n",
       "      <td>Невидимки</td>\n",
       "      <td>111004213</td>\n",
       "      <td>2013-09-10</td>\n",
       "      <td>Художественный</td>\n",
       "      <td>ООО \"Компания \"РЕАЛ-ДАКОТА\"</td>\n",
       "      <td>Россия</td>\n",
       "      <td>Р.Давлетьяров, С.Комаров</td>\n",
       "      <td>Р.Давлетьяров, А.Котелевский, А.Олейников</td>\n",
       "      <td>«12+» - для детей старше 12 лет</td>\n",
       "      <td>0.0</td>\n",
       "      <td>107847945.0</td>\n",
       "      <td>176023490.0</td>\n",
       "      <td>Фонд кино</td>\n",
       "      <td>5.3</td>\n",
       "      <td>[комедия, фантастика]</td>\n",
       "      <td>19957031.5</td>\n",
       "      <td>61.0</td>\n",
       "      <td>2013</td>\n",
       "      <td>комедия</td>\n",
       "      <td>[Россия]</td>\n",
       "    </tr>\n",
       "  </tbody>\n",
       "</table>\n",
       "</div>"
      ],
      "text/plain": [
       "                    title   punumber show_start_date            type  \\\n",
       "1060        Пока еще жива  111005313      2013-10-11  Художественный   \n",
       "1210  Бесславные придурки  111003314      2014-03-28  Художественный   \n",
       "1255            Невидимки  111004213      2013-09-10  Художественный   \n",
       "\n",
       "                                            film_studio production_country  \\\n",
       "1060  АНО содействия развитию кинематографии \"Ангел-...             Россия   \n",
       "1210                         ООО \"Компания \"АТК-Студио\"             Россия   \n",
       "1255                        ООО \"Компания \"РЕАЛ-ДАКОТА\"             Россия   \n",
       "\n",
       "                      director                                   producer  \\\n",
       "1060                А.Атанесян           А.Атанесян, М.Бабаханов, Р.Бутко   \n",
       "1210                 А.Якимчук                                 А.Тютрюмов   \n",
       "1255  Р.Давлетьяров, С.Комаров  Р.Давлетьяров, А.Котелевский, А.Олейников   \n",
       "\n",
       "                      age_restriction  refundable_support  \\\n",
       "1060  «16+» - для детей старше 16 лет                 0.0   \n",
       "1210  «12+» - для детей старше 12 лет                 0.0   \n",
       "1255  «12+» - для детей старше 12 лет                 0.0   \n",
       "\n",
       "      nonrefundable_support       budget       financing_source  ratings  \\\n",
       "1060             26500000.0   79411900.0  Министерство культуры      8.1   \n",
       "1210             26000000.0   37142857.0  Министерство культуры      NaN   \n",
       "1255            107847945.0  176023490.0              Фонд кино      5.3   \n",
       "\n",
       "                     genres  box_office  support_percent  year main_genre  \\\n",
       "1060     [драма, мелодрама]    365353.6             33.0  2013      драма   \n",
       "1210                    NaN     28140.0             70.0  2014          0   \n",
       "1255  [комедия, фантастика]  19957031.5             61.0  2013    комедия   \n",
       "\n",
       "     production_country_list  \n",
       "1060                [Россия]  \n",
       "1210                [Россия]  \n",
       "1255                [Россия]  "
      ]
     },
     "execution_count": 57,
     "metadata": {},
     "output_type": "execute_result"
    }
   ],
   "source": [
    "gos = drop[drop.financing_source.notna()]\n",
    "gos.head(3)"
   ]
  },
  {
   "cell_type": "code",
   "execution_count": 58,
   "id": "b1f96275",
   "metadata": {},
   "outputs": [
    {
     "data": {
      "text/plain": [
       "Россия                                        313\n",
       "Россия, Италия                                  2\n",
       "Россия, Германия                                2\n",
       "Россия, Франция, Латвия                         1\n",
       "Россия-Украина                                  1\n",
       "Россия, Украина, Польша                         1\n",
       "Россия, Германия, Великобритания                1\n",
       "Россия, Армения                                 1\n",
       "Россия-Словакия-Чехия                           1\n",
       "Россия, Латвия, Чешская Республика              1\n",
       "Россия, Германия, Казахстан, Польша, Китай      1\n",
       "Россия, Сербия                                  1\n",
       "Россия - Грузия                                 1\n",
       "Россия-Китай                                    1\n",
       "Россия, Бельгия, Финляндия                      1\n",
       "Name: production_country, dtype: int64"
      ]
     },
     "execution_count": 58,
     "metadata": {},
     "output_type": "execute_result"
    }
   ],
   "source": [
    "gos['production_country'].value_counts()"
   ]
  },
  {
   "cell_type": "markdown",
   "id": "1146192f",
   "metadata": {},
   "source": [
    "Очевидно, что господдержку получали только фильмы, в съёмках которых участвовала Россия."
   ]
  },
  {
   "cell_type": "code",
   "execution_count": 59,
   "id": "556f56fa",
   "metadata": {},
   "outputs": [
    {
     "name": "stdout",
     "output_type": "stream",
     "text": [
      "В среднем выделенных возвратных средств, млн:  12\n",
      "В среднем выделенных невозвратных средств, млн:  48\n"
     ]
    }
   ],
   "source": [
    "print('В среднем выделенных возвратных средств, млн: ', round(gos.refundable_support.mean()/1_000_000))\n",
    "print('В среднем выделенных невозвратных средств, млн: ',round(gos.nonrefundable_support.mean()/1_000_000))"
   ]
  },
  {
   "cell_type": "code",
   "execution_count": 60,
   "id": "6950c6a0",
   "metadata": {},
   "outputs": [
    {
     "name": "stdout",
     "output_type": "stream",
     "text": [
      "Доля возвратых средств: 0.19515732608147468\n"
     ]
    }
   ],
   "source": [
    "print('Доля возвратых средств:',\n",
    "      gos['refundable_support'].sum() / (gos['refundable_support'].sum() + gos['nonrefundable_support'].sum()))"
   ]
  },
  {
   "cell_type": "markdown",
   "id": "db549d64",
   "metadata": {},
   "source": [
    "В среднем, только одна пятая часть денег подразумевает возврат."
   ]
  },
  {
   "cell_type": "code",
   "execution_count": 61,
   "id": "15f7f939",
   "metadata": {},
   "outputs": [
    {
     "data": {
      "text/plain": [
       "20865509752"
      ]
     },
     "execution_count": 61,
     "metadata": {},
     "output_type": "execute_result"
    }
   ],
   "source": [
    "round(gos[gos.refundable_support > 0].budget.sum())"
   ]
  },
  {
   "cell_type": "code",
   "execution_count": 62,
   "id": "33f79f3f",
   "metadata": {},
   "outputs": [
    {
     "data": {
      "text/plain": [
       "25690999771"
      ]
     },
     "execution_count": 62,
     "metadata": {},
     "output_type": "execute_result"
    }
   ],
   "source": [
    "round(gos[gos.refundable_support > 0].box_office.sum())"
   ]
  },
  {
   "cell_type": "code",
   "execution_count": 63,
   "id": "3e328f42",
   "metadata": {},
   "outputs": [
    {
     "data": {
      "text/plain": [
       "191426695"
      ]
     },
     "execution_count": 63,
     "metadata": {},
     "output_type": "execute_result"
    }
   ],
   "source": [
    "round(gos[gos.refundable_support > 0].budget.mean())"
   ]
  },
  {
   "cell_type": "code",
   "execution_count": 64,
   "id": "60eba705",
   "metadata": {},
   "outputs": [
    {
     "data": {
      "text/plain": [
       "237879628"
      ]
     },
     "execution_count": 64,
     "metadata": {},
     "output_type": "execute_result"
    }
   ],
   "source": [
    "round(gos[gos.refundable_support > 0].box_office.mean())"
   ]
  },
  {
   "cell_type": "markdown",
   "id": "9c2e3d07",
   "metadata": {},
   "source": [
    "Для фильмов с возвратной господдержкой прослеживается общая окупаемость. И сумма сборов, и средние сборы выше затрат."
   ]
  },
  {
   "cell_type": "code",
   "execution_count": 65,
   "id": "28f0ee85",
   "metadata": {},
   "outputs": [
    {
     "name": "stdout",
     "output_type": "stream",
     "text": [
      "Средний рейтинг по источнику финансирования: financing_source\n",
      "Министерство культуры               6.118000\n",
      "Министерство культуры, Фонд кино    6.438095\n",
      "Фонд кино                           5.803571\n",
      "Name: ratings, dtype: float64\n"
     ]
    }
   ],
   "source": [
    "print('Средний рейтинг по источнику финансирования:',gos.groupby('financing_source')['ratings'].mean())"
   ]
  },
  {
   "cell_type": "code",
   "execution_count": 66,
   "id": "10af6723",
   "metadata": {},
   "outputs": [
    {
     "data": {
      "text/plain": [
       "financing_source\n",
       "Министерство культуры               0.000000e+00\n",
       "Министерство культуры, Фонд кино    1.479545e+07\n",
       "Фонд кино                           2.436458e+07\n",
       "Name: refundable_support, dtype: float64"
      ]
     },
     "execution_count": 66,
     "metadata": {},
     "output_type": "execute_result"
    }
   ],
   "source": [
    "gos.groupby('financing_source')['refundable_support'].mean()"
   ]
  },
  {
   "cell_type": "markdown",
   "id": "101e07b6",
   "metadata": {},
   "source": [
    "Видны две закономерности: МинКульт вообще не требует возврата средств, среднее = 0. А рейтинги фильмов, профинансированных одновременно Фондом кино и МинКультом - выше остальных. Вполне возможно, что оба \"спонсора\" ведут какой-либо надзор, либо предъявляют схожие, но не идентичные требования, выполнение которых ведёт к улучшению метрик."
   ]
  },
  {
   "cell_type": "code",
   "execution_count": 67,
   "id": "021b0566",
   "metadata": {},
   "outputs": [
    {
     "data": {
      "text/plain": [
       "director\n",
       "О.Степченко    180000000.0\n",
       "А.Мизгирев     150000000.0\n",
       "К.Бронзит      115000000.0\n",
       "А.Учитель      110000000.0\n",
       "Ю.Васильев     110000000.0\n",
       "                  ...     \n",
       "И.Максимов       5000000.0\n",
       "Р.Волобуев       5000000.0\n",
       "К.Худяков        3673440.5\n",
       "В.Хотиненко      3576559.5\n",
       "В.Сторожева      3500000.0\n",
       "Name: refundable_support, Length: 100, dtype: float64"
      ]
     },
     "execution_count": 67,
     "metadata": {},
     "output_type": "execute_result"
    }
   ],
   "source": [
    "gos.groupby('director')['refundable_support'].mean().sort_values(ascending=False\n",
    ")[gos.groupby('director')['refundable_support'].mean().sort_values()>0]"
   ]
  },
  {
   "cell_type": "markdown",
   "id": "c4da321f",
   "metadata": {},
   "source": [
    "Всего сто режиссёров получали возвратную поддержку, легко увидеть самых поддерживаемых."
   ]
  },
  {
   "cell_type": "code",
   "execution_count": 68,
   "id": "b523e26f",
   "metadata": {},
   "outputs": [
    {
     "data": {
      "text/plain": [
       "director\n",
       "А.Кравчук                                     400000000.0\n",
       "А.Мегердичев                                  400000000.0\n",
       "Н.Лебедев                                     392104482.0\n",
       "А.Мизгирев                                    300000000.0\n",
       "Д.Козловский                                  260000000.0\n",
       "                                                 ...     \n",
       "Е.Константинова (псевдоним Алена Званцева)      5000000.0\n",
       "Д.Елеонский                                     5000000.0\n",
       "К.Васильев                                      5000000.0\n",
       "Н.Степанова при участии С.Иванова               4700000.0\n",
       "А.Попова                                        3000000.0\n",
       "Name: nonrefundable_support, Length: 278, dtype: float64"
      ]
     },
     "execution_count": 68,
     "metadata": {},
     "output_type": "execute_result"
    }
   ],
   "source": [
    "gos.groupby('director')['nonrefundable_support'].mean().sort_values(ascending=False\n",
    ")[gos.groupby('director')['nonrefundable_support'].mean().sort_values()>0]"
   ]
  },
  {
   "cell_type": "markdown",
   "id": "f4d00eaf",
   "metadata": {},
   "source": [
    "Подобная таблица для невозвратного спонсирования выдаёт целых 278 человек, при этом основные имена отличаются.  \n",
    "Следовательно, разные люди получают финансы на разных условиях."
   ]
  },
  {
   "cell_type": "code",
   "execution_count": 69,
   "id": "7c893b6c",
   "metadata": {},
   "outputs": [
    {
     "name": "stderr",
     "output_type": "stream",
     "text": [
      "C:\\Users\\gazel\\AppData\\Local\\Temp/ipykernel_37324/940785802.py:1: SettingWithCopyWarning: \n",
      "A value is trying to be set on a copy of a slice from a DataFrame.\n",
      "Try using .loc[row_indexer,col_indexer] = value instead\n",
      "\n",
      "See the caveats in the documentation: https://pandas.pydata.org/pandas-docs/stable/user_guide/indexing.html#returning-a-view-versus-a-copy\n",
      "  gos['refundable_support_mln'] = round(gos['refundable_support'] / 1_000_000, 1)\n",
      "C:\\Users\\gazel\\AppData\\Local\\Temp/ipykernel_37324/940785802.py:2: SettingWithCopyWarning: \n",
      "A value is trying to be set on a copy of a slice from a DataFrame.\n",
      "Try using .loc[row_indexer,col_indexer] = value instead\n",
      "\n",
      "See the caveats in the documentation: https://pandas.pydata.org/pandas-docs/stable/user_guide/indexing.html#returning-a-view-versus-a-copy\n",
      "  gos['nonrefundable_support_mln'] = round(gos['nonrefundable_support'] / 1_000_000,1)\n"
     ]
    }
   ],
   "source": [
    "gos['refundable_support_mln'] = round(gos['refundable_support'] / 1_000_000, 1)\n",
    "gos['nonrefundable_support_mln'] = round(gos['nonrefundable_support'] / 1_000_000,1)"
   ]
  },
  {
   "cell_type": "code",
   "execution_count": 70,
   "id": "ae9d376d",
   "metadata": {},
   "outputs": [
    {
     "data": {
      "text/plain": [
       "Text(0, 0.5, 'Поддержка, млн руб')"
      ]
     },
     "execution_count": 70,
     "metadata": {},
     "output_type": "execute_result"
    },
    {
     "data": {
      "image/png": "[encoded data removed]",
      "text/plain": [
       "<Figure size 864x576 with 1 Axes>"
      ]
     },
     "metadata": {},
     "output_type": "display_data"
    }
   ],
   "source": [
    "p=sns.lineplot(data=gos, x='year', y='nonrefundable_support_mln', color = 'blue', alpha=.5, legend='full')\n",
    "p=sns.lineplot(data=gos, x='year', y='refundable_support_mln', color = 'red', alpha=.5, legend='full')\n",
    "p.set_xlabel(\"Год\", fontsize = 20)\n",
    "p.set_ylabel(\"Поддержка, млн руб\", fontsize = 20)"
   ]
  },
  {
   "cell_type": "markdown",
   "id": "e8ea9fc9",
   "metadata": {},
   "source": [
    "Отрисована поддержка по годам, красным - возвратная, синим - невозвратная."
   ]
  },
  {
   "cell_type": "code",
   "execution_count": 71,
   "id": "f41ea9b5",
   "metadata": {
    "scrolled": false
   },
   "outputs": [
    {
     "data": {
      "image/png": "[encoded data removed]",
      "text/plain": [
       "<Figure size 864x576 with 1 Axes>"
      ]
     },
     "metadata": {},
     "output_type": "display_data"
    }
   ],
   "source": [
    "sns.barplot(data=gos, x='year', y='ratings');"
   ]
  },
  {
   "cell_type": "markdown",
   "id": "af5508cd",
   "metadata": {},
   "source": [
    "При этом средний рейтинг практически не менялся."
   ]
  },
  {
   "cell_type": "markdown",
   "id": "b96ff895",
   "metadata": {},
   "source": [
    "## Выводы"
   ]
  },
  {
   "cell_type": "markdown",
   "id": "c736fcb4",
   "metadata": {},
   "source": [
    "Итак, все данные были обработаны для дальнейшего использования, были выброшены некоторые фильмы с пропусками, удалены полные дубликаты. Проблемы с пробелами в названих категорий и именах режиссёров были устранены.  \n",
    "Настроены категории для стран и возрастных категорий, проанализированы данные о прокате для каждого года.  \n",
    "Фильмы с государственной поддержкой рассмотрены отдельно, их средний рейтинг оставляет желать лучшего, что, однако, не останавливает поток денежных средств при стагнации качественных метрик. "
   ]
  }
 ],
 "metadata": {
  "ExecuteTimeLog": [
   {
    "duration": 1370,
    "start_time": "2022-04-06T03:57:30.843Z"
   },
   {
    "duration": 447,
    "start_time": "2022-04-06T03:57:32.215Z"
   },
   {
    "duration": 47,
    "start_time": "2022-04-06T03:57:32.664Z"
   },
   {
    "duration": 17,
    "start_time": "2022-04-06T03:57:32.715Z"
   },
   {
    "duration": 4,
    "start_time": "2022-04-06T03:57:32.734Z"
   },
   {
    "duration": 69,
    "start_time": "2022-04-06T03:57:32.739Z"
   },
   {
    "duration": 11,
    "start_time": "2022-04-06T03:57:32.813Z"
   },
   {
    "duration": 18,
    "start_time": "2022-04-06T03:57:32.826Z"
   },
   {
    "duration": 68,
    "start_time": "2022-04-06T03:57:32.845Z"
   },
   {
    "duration": 16,
    "start_time": "2022-04-06T03:57:32.915Z"
   },
   {
    "duration": 8,
    "start_time": "2022-04-06T03:57:32.932Z"
   },
   {
    "duration": 12,
    "start_time": "2022-04-06T03:57:32.941Z"
   },
   {
    "duration": 14,
    "start_time": "2022-04-06T03:57:33.002Z"
   },
   {
    "duration": 4,
    "start_time": "2022-04-06T03:57:33.021Z"
   },
   {
    "duration": 9,
    "start_time": "2022-04-06T03:57:33.027Z"
   },
   {
    "duration": 6,
    "start_time": "2022-04-06T03:57:33.037Z"
   },
   {
    "duration": 259,
    "start_time": "2022-04-06T03:57:33.044Z"
   },
   {
    "duration": 19,
    "start_time": "2022-04-06T03:57:33.309Z"
   },
   {
    "duration": 18,
    "start_time": "2022-04-06T03:57:33.331Z"
   },
   {
    "duration": 40,
    "start_time": "2022-04-06T03:57:33.411Z"
   },
   {
    "duration": 63,
    "start_time": "2022-04-06T03:57:33.453Z"
   },
   {
    "duration": 11,
    "start_time": "2022-04-06T03:57:33.518Z"
   },
   {
    "duration": 13,
    "start_time": "2022-04-06T03:57:33.530Z"
   },
   {
    "duration": 63,
    "start_time": "2022-04-06T03:57:33.544Z"
   },
   {
    "duration": 28,
    "start_time": "2022-04-06T03:57:33.609Z"
   },
   {
    "duration": 8,
    "start_time": "2022-04-06T03:57:33.639Z"
   },
   {
    "duration": 19,
    "start_time": "2022-04-06T03:57:33.701Z"
   },
   {
    "duration": 7,
    "start_time": "2022-04-06T03:57:33.722Z"
   },
   {
    "duration": 5,
    "start_time": "2022-04-06T03:57:33.731Z"
   },
   {
    "duration": 64,
    "start_time": "2022-04-06T03:57:33.738Z"
   },
   {
    "duration": 18,
    "start_time": "2022-04-06T03:57:33.803Z"
   },
   {
    "duration": 4,
    "start_time": "2022-04-06T03:57:33.822Z"
   },
   {
    "duration": 7,
    "start_time": "2022-04-06T03:57:33.828Z"
   },
   {
    "duration": 7,
    "start_time": "2022-04-06T03:57:33.837Z"
   },
   {
    "duration": 3,
    "start_time": "2022-04-06T03:57:33.846Z"
   },
   {
    "duration": 57,
    "start_time": "2022-04-06T03:57:33.851Z"
   },
   {
    "duration": 12,
    "start_time": "2022-04-06T03:57:33.910Z"
   },
   {
    "duration": 7,
    "start_time": "2022-04-06T03:57:33.924Z"
   },
   {
    "duration": 5,
    "start_time": "2022-04-06T03:57:33.932Z"
   },
   {
    "duration": 65,
    "start_time": "2022-04-06T03:57:33.939Z"
   },
   {
    "duration": 104,
    "start_time": "2022-04-06T03:57:34.013Z"
   },
   {
    "duration": 4,
    "start_time": "2022-04-06T03:57:34.119Z"
   },
   {
    "duration": 4,
    "start_time": "2022-04-06T03:57:34.125Z"
   },
   {
    "duration": 589,
    "start_time": "2022-04-06T03:57:34.131Z"
   },
   {
    "duration": 22,
    "start_time": "2022-04-06T03:57:34.722Z"
   },
   {
    "duration": 243,
    "start_time": "2022-04-06T03:57:34.804Z"
   },
   {
    "duration": 26,
    "start_time": "2022-04-06T03:57:35.049Z"
   },
   {
    "duration": 5,
    "start_time": "2022-04-06T03:57:35.076Z"
   },
   {
    "duration": 34,
    "start_time": "2022-04-06T03:57:35.083Z"
   },
   {
    "duration": 14,
    "start_time": "2022-04-06T03:57:35.118Z"
   },
   {
    "duration": 13,
    "start_time": "2022-04-06T03:57:35.133Z"
   },
   {
    "duration": 21,
    "start_time": "2022-04-06T03:57:35.147Z"
   },
   {
    "duration": 3,
    "start_time": "2022-04-06T03:57:35.169Z"
   },
   {
    "duration": 15,
    "start_time": "2022-04-06T03:57:35.200Z"
   },
   {
    "duration": 418,
    "start_time": "2022-04-06T03:57:35.217Z"
   },
   {
    "duration": 21,
    "start_time": "2022-04-06T03:57:35.637Z"
   },
   {
    "duration": 7,
    "start_time": "2022-04-06T03:57:35.659Z"
   },
   {
    "duration": 6,
    "start_time": "2022-04-06T03:57:35.668Z"
   },
   {
    "duration": 27,
    "start_time": "2022-04-06T03:57:35.675Z"
   },
   {
    "duration": 12,
    "start_time": "2022-04-06T03:57:35.704Z"
   },
   {
    "duration": 6,
    "start_time": "2022-04-06T03:57:35.718Z"
   },
   {
    "duration": 6,
    "start_time": "2022-04-06T03:57:35.725Z"
   },
   {
    "duration": 8,
    "start_time": "2022-04-06T03:57:35.732Z"
   },
   {
    "duration": 13,
    "start_time": "2022-04-06T03:57:35.742Z"
   },
   {
    "duration": 10,
    "start_time": "2022-04-06T03:57:35.756Z"
   },
   {
    "duration": 40,
    "start_time": "2022-04-06T03:57:35.768Z"
   },
   {
    "duration": 11,
    "start_time": "2022-04-06T03:57:35.809Z"
   },
   {
    "duration": 6,
    "start_time": "2022-04-06T03:57:35.821Z"
   },
   {
    "duration": 460,
    "start_time": "2022-04-06T03:57:35.829Z"
   },
   {
    "duration": 289,
    "start_time": "2022-04-06T03:57:36.291Z"
   },
   {
    "duration": 2,
    "start_time": "2022-04-06T04:08:55.453Z"
   },
   {
    "duration": 131,
    "start_time": "2022-04-06T04:08:55.457Z"
   },
   {
    "duration": 9,
    "start_time": "2022-04-06T04:08:55.590Z"
   },
   {
    "duration": 18,
    "start_time": "2022-04-06T04:08:55.605Z"
   },
   {
    "duration": 3,
    "start_time": "2022-04-06T04:08:55.625Z"
   },
   {
    "duration": 3,
    "start_time": "2022-04-06T04:08:58.853Z"
   },
   {
    "duration": 7,
    "start_time": "2022-04-06T04:09:06.604Z"
   },
   {
    "duration": 16,
    "start_time": "2022-04-06T04:09:10.726Z"
   },
   {
    "duration": 16,
    "start_time": "2022-04-06T04:09:21.118Z"
   },
   {
    "duration": 1129,
    "start_time": "2022-04-06T04:09:29.061Z"
   },
   {
    "duration": 134,
    "start_time": "2022-04-06T04:09:30.192Z"
   },
   {
    "duration": 10,
    "start_time": "2022-04-06T04:09:30.327Z"
   },
   {
    "duration": 17,
    "start_time": "2022-04-06T04:09:30.339Z"
   },
   {
    "duration": 4,
    "start_time": "2022-04-06T04:09:30.358Z"
   },
   {
    "duration": 37,
    "start_time": "2022-04-06T04:09:30.363Z"
   },
   {
    "duration": 19,
    "start_time": "2022-04-06T04:09:30.402Z"
   },
   {
    "duration": 27,
    "start_time": "2022-04-06T04:09:30.422Z"
   },
   {
    "duration": 8,
    "start_time": "2022-04-06T04:09:30.450Z"
   },
   {
    "duration": 15,
    "start_time": "2022-04-06T04:09:30.461Z"
   },
   {
    "duration": 16,
    "start_time": "2022-04-06T04:09:30.478Z"
   },
   {
    "duration": 13,
    "start_time": "2022-04-06T04:09:30.502Z"
   },
   {
    "duration": 18,
    "start_time": "2022-04-06T04:09:30.518Z"
   },
   {
    "duration": 13,
    "start_time": "2022-04-06T04:09:30.538Z"
   },
   {
    "duration": 18,
    "start_time": "2022-04-06T04:09:30.552Z"
   },
   {
    "duration": 13,
    "start_time": "2022-04-06T04:09:30.571Z"
   },
   {
    "duration": 85,
    "start_time": "2022-04-06T04:09:30.585Z"
   },
   {
    "duration": 13,
    "start_time": "2022-04-06T04:09:30.671Z"
   },
   {
    "duration": 33,
    "start_time": "2022-04-06T04:09:30.686Z"
   },
   {
    "duration": 40,
    "start_time": "2022-04-06T04:09:30.721Z"
   },
   {
    "duration": 14,
    "start_time": "2022-04-06T04:09:30.763Z"
   },
   {
    "duration": 18,
    "start_time": "2022-04-06T04:09:30.803Z"
   },
   {
    "duration": 14,
    "start_time": "2022-04-06T04:09:30.823Z"
   },
   {
    "duration": 8,
    "start_time": "2022-04-06T04:09:30.839Z"
   },
   {
    "duration": 20,
    "start_time": "2022-04-06T04:09:30.848Z"
   },
   {
    "duration": 8,
    "start_time": "2022-04-06T04:09:30.906Z"
   },
   {
    "duration": 23,
    "start_time": "2022-04-06T04:09:30.916Z"
   },
   {
    "duration": 9,
    "start_time": "2022-04-06T04:09:30.943Z"
   },
   {
    "duration": 59,
    "start_time": "2022-04-06T04:09:30.954Z"
   },
   {
    "duration": 10,
    "start_time": "2022-04-06T04:09:31.015Z"
   },
   {
    "duration": 10,
    "start_time": "2022-04-06T04:09:31.027Z"
   },
   {
    "duration": 8,
    "start_time": "2022-04-06T04:09:31.039Z"
   },
   {
    "duration": 56,
    "start_time": "2022-04-06T04:09:31.049Z"
   },
   {
    "duration": 13,
    "start_time": "2022-04-06T04:09:31.107Z"
   },
   {
    "duration": 10,
    "start_time": "2022-04-06T04:09:31.122Z"
   },
   {
    "duration": 12,
    "start_time": "2022-04-06T04:09:31.133Z"
   },
   {
    "duration": 13,
    "start_time": "2022-04-06T04:09:31.147Z"
   },
   {
    "duration": 12,
    "start_time": "2022-04-06T04:09:31.201Z"
   },
   {
    "duration": 10,
    "start_time": "2022-04-06T04:09:31.214Z"
   },
   {
    "duration": 8,
    "start_time": "2022-04-06T04:09:31.225Z"
   },
   {
    "duration": 82,
    "start_time": "2022-04-06T04:09:31.235Z"
   },
   {
    "duration": 5,
    "start_time": "2022-04-06T04:09:31.318Z"
   },
   {
    "duration": 7,
    "start_time": "2022-04-06T04:09:31.324Z"
   },
   {
    "duration": 402,
    "start_time": "2022-04-06T04:09:31.332Z"
   },
   {
    "duration": 68,
    "start_time": "2022-04-06T04:09:31.735Z"
   },
   {
    "duration": 411,
    "start_time": "2022-04-06T04:09:31.804Z"
   },
   {
    "duration": 27,
    "start_time": "2022-04-06T04:09:32.218Z"
   },
   {
    "duration": 7,
    "start_time": "2022-04-06T04:09:32.313Z"
   },
   {
    "duration": 22,
    "start_time": "2022-04-06T04:09:32.322Z"
   },
   {
    "duration": 58,
    "start_time": "2022-04-06T04:09:32.345Z"
   },
   {
    "duration": 21,
    "start_time": "2022-04-06T04:09:32.407Z"
   },
   {
    "duration": 72,
    "start_time": "2022-04-06T04:09:32.430Z"
   },
   {
    "duration": 4,
    "start_time": "2022-04-06T04:09:32.503Z"
   },
   {
    "duration": 20,
    "start_time": "2022-04-06T04:09:32.509Z"
   },
   {
    "duration": 506,
    "start_time": "2022-04-06T04:09:32.531Z"
   },
   {
    "duration": 20,
    "start_time": "2022-04-06T04:09:33.039Z"
   },
   {
    "duration": 9,
    "start_time": "2022-04-06T04:09:33.060Z"
   },
   {
    "duration": 10,
    "start_time": "2022-04-06T04:09:33.070Z"
   },
   {
    "duration": 21,
    "start_time": "2022-04-06T04:09:33.082Z"
   },
   {
    "duration": 6,
    "start_time": "2022-04-06T04:09:33.110Z"
   },
   {
    "duration": 7,
    "start_time": "2022-04-06T04:09:33.118Z"
   },
   {
    "duration": 5,
    "start_time": "2022-04-06T04:09:33.127Z"
   },
   {
    "duration": 6,
    "start_time": "2022-04-06T04:09:33.134Z"
   },
   {
    "duration": 9,
    "start_time": "2022-04-06T04:09:33.141Z"
   },
   {
    "duration": 11,
    "start_time": "2022-04-06T04:09:33.151Z"
   },
   {
    "duration": 12,
    "start_time": "2022-04-06T04:09:33.163Z"
   },
   {
    "duration": 36,
    "start_time": "2022-04-06T04:09:33.177Z"
   },
   {
    "duration": 5,
    "start_time": "2022-04-06T04:09:33.215Z"
   },
   {
    "duration": 428,
    "start_time": "2022-04-06T04:09:33.222Z"
   },
   {
    "duration": 290,
    "start_time": "2022-04-06T04:09:33.652Z"
   },
   {
    "duration": 3,
    "start_time": "2022-04-06T04:23:31.792Z"
   },
   {
    "duration": 135,
    "start_time": "2022-04-06T04:23:31.797Z"
   },
   {
    "duration": 9,
    "start_time": "2022-04-06T04:23:31.934Z"
   },
   {
    "duration": 16,
    "start_time": "2022-04-06T04:23:31.945Z"
   },
   {
    "duration": 4,
    "start_time": "2022-04-06T04:23:31.963Z"
   },
   {
    "duration": 20,
    "start_time": "2022-04-06T04:23:31.968Z"
   },
   {
    "duration": 16,
    "start_time": "2022-04-06T04:23:31.990Z"
   },
   {
    "duration": 16,
    "start_time": "2022-04-06T04:23:32.008Z"
   },
   {
    "duration": 8,
    "start_time": "2022-04-06T04:23:32.025Z"
   },
   {
    "duration": 14,
    "start_time": "2022-04-06T04:23:32.034Z"
   },
   {
    "duration": 7,
    "start_time": "2022-04-06T04:23:32.050Z"
   },
   {
    "duration": 9,
    "start_time": "2022-04-06T04:23:32.059Z"
   },
   {
    "duration": 8,
    "start_time": "2022-04-06T04:23:32.069Z"
   },
   {
    "duration": 26,
    "start_time": "2022-04-06T04:23:32.079Z"
   },
   {
    "duration": 16,
    "start_time": "2022-04-06T04:23:42.657Z"
   },
   {
    "duration": 8,
    "start_time": "2022-04-06T04:23:51.871Z"
   },
   {
    "duration": 21,
    "start_time": "2022-04-06T04:23:53.505Z"
   },
   {
    "duration": 5,
    "start_time": "2022-04-06T04:49:23.212Z"
   },
   {
    "duration": 5,
    "start_time": "2022-04-06T04:49:32.381Z"
   },
   {
    "duration": 9,
    "start_time": "2022-04-06T04:50:53.149Z"
   }
  ],
  "kernelspec": {
   "display_name": "Python 3 (ipykernel)",
   "language": "python",
   "name": "python3"
  },
  "language_info": {
   "codemirror_mode": {
    "name": "ipython",
    "version": 3
   },
   "file_extension": ".py",
   "mimetype": "text/x-python",
   "name": "python",
   "nbconvert_exporter": "python",
   "pygments_lexer": "ipython3",
   "version": "3.9.12"
  },
  "toc": {
   "base_numbering": 1,
   "nav_menu": {},
   "number_sections": true,
   "sideBar": true,
   "skip_h1_title": true,
   "title_cell": "Table of Contents",
   "title_sidebar": "Contents",
   "toc_cell": false,
   "toc_position": {
    "height": "calc(100% - 180px)",
    "left": "10px",
    "top": "150px",
    "width": "341px"
   },
   "toc_section_display": true,
   "toc_window_display": true
  }
 },
 "nbformat": 4,
 "nbformat_minor": 5
}
