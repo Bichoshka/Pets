{
 "cells": [
  {
   "cell_type": "markdown",
   "metadata": {
    "pycharm": {
     "name": "#%% md\n"
    },
    "toc": true
   },
   "source": [
    "<h1>Содержание<span class=\"tocSkip\"></span></h1>\n",
    "<div class=\"toc\"><ul class=\"toc-item\"><li><span><a href=\"#Подготовка-данных\" data-toc-modified-id=\"Подготовка-данных-1\"><span class=\"toc-item-num\">1&nbsp;&nbsp;</span>Подготовка данных</a></span></li><li><span><a href=\"#Исследование-задачи\" data-toc-modified-id=\"Исследование-задачи-2\"><span class=\"toc-item-num\">2&nbsp;&nbsp;</span>Исследование задачи</a></span><ul class=\"toc-item\"><li><span><a href=\"#Работа-с-пропусками\" data-toc-modified-id=\"Работа-с-пропусками-2.1\"><span class=\"toc-item-num\">2.1&nbsp;&nbsp;</span>Работа с пропусками</a></span></li><li><span><a href=\"#Скейлинг\" data-toc-modified-id=\"Скейлинг-2.2\"><span class=\"toc-item-num\">2.2&nbsp;&nbsp;</span>Скейлинг</a></span></li><li><span><a href=\"#Первые-фиты\" data-toc-modified-id=\"Первые-фиты-2.3\"><span class=\"toc-item-num\">2.3&nbsp;&nbsp;</span>Первые фиты</a></span></li></ul></li><li><span><a href=\"#Борьба-с-дисбалансом\" data-toc-modified-id=\"Борьба-с-дисбалансом-3\"><span class=\"toc-item-num\">3&nbsp;&nbsp;</span>Борьба с дисбалансом</a></span><ul class=\"toc-item\"><li><span><a href=\"#Апсемплинг\" data-toc-modified-id=\"Апсемплинг-3.1\"><span class=\"toc-item-num\">3.1&nbsp;&nbsp;</span>Апсемплинг</a></span></li></ul></li><li><span><a href=\"#Тестирование-модели\" data-toc-modified-id=\"Тестирование-модели-4\"><span class=\"toc-item-num\">4&nbsp;&nbsp;</span>Тестирование модели</a></span></li></ul></div>"
   ]
  },
  {
   "cell_type": "markdown",
   "metadata": {
    "pycharm": {
     "name": "#%% md\n"
    }
   },
   "source": [
    "<h1>Содержание<span class=\"tocSkip\"></span></h1>\n",
    "<div class=\"toc\"><ul class=\"toc-item\"><li><span><a href=\"#Подготовка-данных\" data-toc-modified-id=\"Подготовка-данных-1\"><span class=\"toc-item-num\">1&nbsp;&nbsp;</span>Подготовка данных</a></span></li><li><span><a href=\"#Исследование-задачи\" data-toc-modified-id=\"Исследование-задачи-2\"><span class=\"toc-item-num\">2&nbsp;&nbsp;</span>Исследование задачи</a></span></li><li><span><a href=\"#Борьба-с-дисбалансом\" data-toc-modified-id=\"Борьба-с-дисбалансом-3\"><span class=\"toc-item-num\">3&nbsp;&nbsp;</span>Борьба с дисбалансом</a></span></li><li><span><a href=\"#Тестирование-модели\" data-toc-modified-id=\"Тестирование-модели-4\"><span class=\"toc-item-num\">4&nbsp;&nbsp;</span>Тестирование модели</a></span></li><li><span><a href=\"#Чек-лист-готовности-проекта\" data-toc-modified-id=\"Чек-лист-готовности-проекта-5\"><span class=\"toc-item-num\">5&nbsp;&nbsp;</span>Чек-лист готовности проекта</a></span></li></ul></div>"
   ]
  },
  {
   "cell_type": "markdown",
   "metadata": {
    "pycharm": {
     "name": "#%% md\n"
    }
   },
   "source": [
    "# Отток клиентов"
   ]
  },
  {
   "cell_type": "markdown",
   "metadata": {
    "pycharm": {
     "name": "#%% md\n"
    }
   },
   "source": [
    "Из «Бета-Банка» стали уходить клиенты. Каждый месяц. Немного, но заметно. Банковские маркетологи посчитали: сохранять текущих клиентов дешевле, чем привлекать новых.\n",
    "\n",
    "Нужно спрогнозировать, уйдёт клиент из банка в ближайшее время или нет. Вам предоставлены исторические данные о поведении клиентов и расторжении договоров с банком. \n",
    "\n",
    "Постройте модель с предельно большим значением *F1*-меры. Чтобы сдать проект успешно, нужно довести метрику до 0.59. Проверьте *F1*-меру на тестовой выборке самостоятельно.\n",
    "\n",
    "Дополнительно измеряйте *AUC-ROC*, сравнивайте её значение с *F1*-мерой.\n",
    "\n",
    "Источник данных: [https://www.kaggle.com/barelydedicated/bank-customer-churn-modeling](https://www.kaggle.com/barelydedicated/bank-customer-churn-modeling)"
   ]
  },
  {
   "cell_type": "markdown",
   "metadata": {
    "pycharm": {
     "name": "#%% md\n"
    }
   },
   "source": [
    "Признаки\n",
    "\n",
    "- RowNumber — индекс строки в данных\n",
    "- CustomerId — уникальный идентификатор клиента\n",
    "- Surname — фамилия\n",
    "- CreditScore — кредитный рейтинг\n",
    "- Geography — страна проживания\n",
    "- Gender — пол\n",
    "- Age — возраст\n",
    "- Tenure — сколько лет человек является клиентом банка\n",
    "- Balance — баланс на счёте\n",
    "- NumOfProducts — количество продуктов банка, используемых клиентом\n",
    "- HasCrCard — наличие кредитной карты\n",
    "- IsActiveMember — активность клиента\n",
    "- EstimatedSalary — предполагаемая зарплата\n",
    "\n",
    "Целевой признак\n",
    "\n",
    "- Exited — факт ухода клиента"
   ]
  },
  {
   "cell_type": "markdown",
   "metadata": {
    "pycharm": {
     "name": "#%% md\n"
    }
   },
   "source": [
    "## Подготовка данных"
   ]
  },
  {
   "cell_type": "code",
   "execution_count": 1,
   "metadata": {
    "pycharm": {
     "name": "#%%\n"
    }
   },
   "outputs": [],
   "source": [
    "#!pip install scikit-learn --user --upgrade"
   ]
  },
  {
   "cell_type": "code",
   "execution_count": 2,
   "metadata": {
    "pycharm": {
     "name": "#%%\n"
    }
   },
   "outputs": [],
   "source": [
    "import pandas as pd\n",
    "import matplotlib.pyplot as plt\n",
    "import numpy as np\n",
    "import seaborn as sns\n",
    "\n",
    "from sklearn.svm import SVC\n",
    "from sklearn.impute import KNNImputer\n",
    "from sklearn.utils import shuffle, resample\n",
    "from sklearn.metrics import f1_score, roc_auc_score, RocCurveDisplay\n",
    "from sklearn.ensemble import RandomForestClassifier, BaggingClassifier\n",
    "from sklearn.model_selection import train_test_split, RepeatedStratifiedKFold, RandomizedSearchCV, learning_curve\n",
    "from sklearn.preprocessing import StandardScaler\n",
    "from sklearn.tree import plot_tree, ExtraTreeClassifier\n",
    "from sklearn.linear_model import LogisticRegression\n",
    "from sklearn.model_selection import validation_curve\n",
    "\n",
    "RS = 451\n",
    "import warnings\n",
    "warnings.filterwarnings('ignore')"
   ]
  },
  {
   "cell_type": "code",
   "execution_count": 3,
   "metadata": {
    "pycharm": {
     "name": "#%%\n"
    }
   },
   "outputs": [
    {
     "data": {
      "text/html": [
       "<div>\n",
       "<style scoped>\n",
       "    .dataframe tbody tr th:only-of-type {\n",
       "        vertical-align: middle;\n",
       "    }\n",
       "\n",
       "    .dataframe tbody tr th {\n",
       "        vertical-align: top;\n",
       "    }\n",
       "\n",
       "    .dataframe thead th {\n",
       "        text-align: right;\n",
       "    }\n",
       "</style>\n",
       "<table border=\"1\" class=\"dataframe\">\n",
       "  <thead>\n",
       "    <tr style=\"text-align: right;\">\n",
       "      <th></th>\n",
       "      <th>RowNumber</th>\n",
       "      <th>CustomerId</th>\n",
       "      <th>Surname</th>\n",
       "      <th>CreditScore</th>\n",
       "      <th>Geography</th>\n",
       "      <th>Gender</th>\n",
       "      <th>Age</th>\n",
       "      <th>Tenure</th>\n",
       "      <th>Balance</th>\n",
       "      <th>NumOfProducts</th>\n",
       "      <th>HasCrCard</th>\n",
       "      <th>IsActiveMember</th>\n",
       "      <th>EstimatedSalary</th>\n",
       "      <th>Exited</th>\n",
       "    </tr>\n",
       "  </thead>\n",
       "  <tbody>\n",
       "    <tr>\n",
       "      <th>0</th>\n",
       "      <td>1</td>\n",
       "      <td>15634602</td>\n",
       "      <td>Hargrave</td>\n",
       "      <td>619</td>\n",
       "      <td>France</td>\n",
       "      <td>Female</td>\n",
       "      <td>42</td>\n",
       "      <td>2.0</td>\n",
       "      <td>0.00</td>\n",
       "      <td>1</td>\n",
       "      <td>1</td>\n",
       "      <td>1</td>\n",
       "      <td>101348.88</td>\n",
       "      <td>1</td>\n",
       "    </tr>\n",
       "    <tr>\n",
       "      <th>1</th>\n",
       "      <td>2</td>\n",
       "      <td>15647311</td>\n",
       "      <td>Hill</td>\n",
       "      <td>608</td>\n",
       "      <td>Spain</td>\n",
       "      <td>Female</td>\n",
       "      <td>41</td>\n",
       "      <td>1.0</td>\n",
       "      <td>83807.86</td>\n",
       "      <td>1</td>\n",
       "      <td>0</td>\n",
       "      <td>1</td>\n",
       "      <td>112542.58</td>\n",
       "      <td>0</td>\n",
       "    </tr>\n",
       "    <tr>\n",
       "      <th>2</th>\n",
       "      <td>3</td>\n",
       "      <td>15619304</td>\n",
       "      <td>Onio</td>\n",
       "      <td>502</td>\n",
       "      <td>France</td>\n",
       "      <td>Female</td>\n",
       "      <td>42</td>\n",
       "      <td>8.0</td>\n",
       "      <td>159660.80</td>\n",
       "      <td>3</td>\n",
       "      <td>1</td>\n",
       "      <td>0</td>\n",
       "      <td>113931.57</td>\n",
       "      <td>1</td>\n",
       "    </tr>\n",
       "  </tbody>\n",
       "</table>\n",
       "</div>"
      ],
      "text/plain": [
       "   RowNumber  CustomerId   Surname  CreditScore Geography  Gender  Age  \\\n",
       "0          1    15634602  Hargrave          619    France  Female   42   \n",
       "1          2    15647311      Hill          608     Spain  Female   41   \n",
       "2          3    15619304      Onio          502    France  Female   42   \n",
       "\n",
       "   Tenure    Balance  NumOfProducts  HasCrCard  IsActiveMember  \\\n",
       "0     2.0       0.00              1          1               1   \n",
       "1     1.0   83807.86              1          0               1   \n",
       "2     8.0  159660.80              3          1               0   \n",
       "\n",
       "   EstimatedSalary  Exited  \n",
       "0        101348.88       1  \n",
       "1        112542.58       0  \n",
       "2        113931.57       1  "
      ]
     },
     "execution_count": 3,
     "metadata": {},
     "output_type": "execute_result"
    }
   ],
   "source": [
    "try:\n",
    "    df = pd.read_csv('/datasets/Churn.csv')\n",
    "except:\n",
    "    df = pd.read_csv('datasets/Churn.csv')\n",
    "df.head(3)"
   ]
  },
  {
   "cell_type": "code",
   "execution_count": 4,
   "metadata": {
    "pycharm": {
     "name": "#%%\n"
    }
   },
   "outputs": [
    {
     "name": "stdout",
     "output_type": "stream",
     "text": [
      "<class 'pandas.core.frame.DataFrame'>\n",
      "RangeIndex: 10000 entries, 0 to 9999\n",
      "Data columns (total 13 columns):\n",
      " #   Column           Non-Null Count  Dtype  \n",
      "---  ------           --------------  -----  \n",
      " 0   CustomerId       10000 non-null  int64  \n",
      " 1   Surname          10000 non-null  object \n",
      " 2   CreditScore      10000 non-null  int64  \n",
      " 3   Geography        10000 non-null  object \n",
      " 4   Gender           10000 non-null  object \n",
      " 5   Age              10000 non-null  int64  \n",
      " 6   Tenure           9091 non-null   float64\n",
      " 7   Balance          10000 non-null  float64\n",
      " 8   NumOfProducts    10000 non-null  int64  \n",
      " 9   HasCrCard        10000 non-null  int64  \n",
      " 10  IsActiveMember   10000 non-null  int64  \n",
      " 11  EstimatedSalary  10000 non-null  float64\n",
      " 12  Exited           10000 non-null  int64  \n",
      "dtypes: float64(3), int64(7), object(3)\n",
      "memory usage: 1015.8+ KB\n"
     ]
    }
   ],
   "source": [
    "df = df.drop(labels='RowNumber', axis=1)\n",
    "df.info();"
   ]
  },
  {
   "cell_type": "markdown",
   "metadata": {
    "pycharm": {
     "name": "#%% md\n"
    }
   },
   "source": [
    "Имеется некоторое количество пропусков в столбце Tenure, попробуем посмотреть, как они выглядят, чтобы выработать стратегию обработки. Заодно перемапим пол в удобные формат.\n",
    "Кажется, нам вряд ли пригодятся имена и айди, но разберёмся с ними чуть позже."
   ]
  },
  {
   "cell_type": "code",
   "execution_count": 5,
   "metadata": {
    "pycharm": {
     "name": "#%%\n"
    }
   },
   "outputs": [],
   "source": [
    "df.Gender = df.Gender.map({'Female':0, 'Male':1})"
   ]
  },
  {
   "cell_type": "code",
   "execution_count": 6,
   "metadata": {
    "pycharm": {
     "name": "#%%\n"
    }
   },
   "outputs": [
    {
     "data": {
      "text/html": [
       "<div>\n",
       "<style scoped>\n",
       "    .dataframe tbody tr th:only-of-type {\n",
       "        vertical-align: middle;\n",
       "    }\n",
       "\n",
       "    .dataframe tbody tr th {\n",
       "        vertical-align: top;\n",
       "    }\n",
       "\n",
       "    .dataframe thead th {\n",
       "        text-align: right;\n",
       "    }\n",
       "</style>\n",
       "<table border=\"1\" class=\"dataframe\">\n",
       "  <thead>\n",
       "    <tr style=\"text-align: right;\">\n",
       "      <th></th>\n",
       "      <th>CustomerId</th>\n",
       "      <th>Surname</th>\n",
       "      <th>CreditScore</th>\n",
       "      <th>Geography</th>\n",
       "      <th>Gender</th>\n",
       "      <th>Age</th>\n",
       "      <th>Tenure</th>\n",
       "      <th>Balance</th>\n",
       "      <th>NumOfProducts</th>\n",
       "      <th>HasCrCard</th>\n",
       "      <th>IsActiveMember</th>\n",
       "      <th>EstimatedSalary</th>\n",
       "      <th>Exited</th>\n",
       "    </tr>\n",
       "  </thead>\n",
       "  <tbody>\n",
       "    <tr>\n",
       "      <th>30</th>\n",
       "      <td>15589475</td>\n",
       "      <td>Azikiwe</td>\n",
       "      <td>591</td>\n",
       "      <td>Spain</td>\n",
       "      <td>0</td>\n",
       "      <td>39</td>\n",
       "      <td>NaN</td>\n",
       "      <td>0.00</td>\n",
       "      <td>3</td>\n",
       "      <td>1</td>\n",
       "      <td>0</td>\n",
       "      <td>140469.38</td>\n",
       "      <td>1</td>\n",
       "    </tr>\n",
       "    <tr>\n",
       "      <th>48</th>\n",
       "      <td>15766205</td>\n",
       "      <td>Yin</td>\n",
       "      <td>550</td>\n",
       "      <td>Germany</td>\n",
       "      <td>1</td>\n",
       "      <td>38</td>\n",
       "      <td>NaN</td>\n",
       "      <td>103391.38</td>\n",
       "      <td>1</td>\n",
       "      <td>0</td>\n",
       "      <td>1</td>\n",
       "      <td>90878.13</td>\n",
       "      <td>0</td>\n",
       "    </tr>\n",
       "    <tr>\n",
       "      <th>51</th>\n",
       "      <td>15768193</td>\n",
       "      <td>Trevisani</td>\n",
       "      <td>585</td>\n",
       "      <td>Germany</td>\n",
       "      <td>1</td>\n",
       "      <td>36</td>\n",
       "      <td>NaN</td>\n",
       "      <td>146050.97</td>\n",
       "      <td>2</td>\n",
       "      <td>0</td>\n",
       "      <td>0</td>\n",
       "      <td>86424.57</td>\n",
       "      <td>0</td>\n",
       "    </tr>\n",
       "    <tr>\n",
       "      <th>53</th>\n",
       "      <td>15702298</td>\n",
       "      <td>Parkhill</td>\n",
       "      <td>655</td>\n",
       "      <td>Germany</td>\n",
       "      <td>1</td>\n",
       "      <td>41</td>\n",
       "      <td>NaN</td>\n",
       "      <td>125561.97</td>\n",
       "      <td>1</td>\n",
       "      <td>0</td>\n",
       "      <td>0</td>\n",
       "      <td>164040.94</td>\n",
       "      <td>1</td>\n",
       "    </tr>\n",
       "    <tr>\n",
       "      <th>60</th>\n",
       "      <td>15651280</td>\n",
       "      <td>Hunter</td>\n",
       "      <td>742</td>\n",
       "      <td>Germany</td>\n",
       "      <td>1</td>\n",
       "      <td>35</td>\n",
       "      <td>NaN</td>\n",
       "      <td>136857.00</td>\n",
       "      <td>1</td>\n",
       "      <td>0</td>\n",
       "      <td>0</td>\n",
       "      <td>84509.57</td>\n",
       "      <td>0</td>\n",
       "    </tr>\n",
       "  </tbody>\n",
       "</table>\n",
       "</div>"
      ],
      "text/plain": [
       "    CustomerId    Surname  CreditScore Geography  Gender  Age  Tenure  \\\n",
       "30    15589475    Azikiwe          591     Spain       0   39     NaN   \n",
       "48    15766205        Yin          550   Germany       1   38     NaN   \n",
       "51    15768193  Trevisani          585   Germany       1   36     NaN   \n",
       "53    15702298   Parkhill          655   Germany       1   41     NaN   \n",
       "60    15651280     Hunter          742   Germany       1   35     NaN   \n",
       "\n",
       "      Balance  NumOfProducts  HasCrCard  IsActiveMember  EstimatedSalary  \\\n",
       "30       0.00              3          1               0        140469.38   \n",
       "48  103391.38              1          0               1         90878.13   \n",
       "51  146050.97              2          0               0         86424.57   \n",
       "53  125561.97              1          0               0        164040.94   \n",
       "60  136857.00              1          0               0         84509.57   \n",
       "\n",
       "    Exited  \n",
       "30       1  \n",
       "48       0  \n",
       "51       0  \n",
       "53       1  \n",
       "60       0  "
      ]
     },
     "execution_count": 6,
     "metadata": {},
     "output_type": "execute_result"
    }
   ],
   "source": [
    "df[df.Tenure.isna()].head()"
   ]
  },
  {
   "cell_type": "markdown",
   "metadata": {
    "pycharm": {
     "name": "#%% md\n"
    }
   },
   "source": [
    "## Исследование задачи"
   ]
  },
  {
   "cell_type": "code",
   "execution_count": 7,
   "metadata": {
    "pycharm": {
     "name": "#%%\n"
    }
   },
   "outputs": [],
   "source": [
    "df = df.drop(labels=['CustomerId', 'Surname'], axis=1)"
   ]
  },
  {
   "cell_type": "code",
   "execution_count": 8,
   "metadata": {
    "pycharm": {
     "name": "#%%\n"
    }
   },
   "outputs": [
    {
     "data": {
      "text/plain": [
       "0.0     382\n",
       "1.0     952\n",
       "2.0     950\n",
       "3.0     928\n",
       "4.0     885\n",
       "5.0     927\n",
       "6.0     881\n",
       "7.0     925\n",
       "8.0     933\n",
       "9.0     882\n",
       "10.0    446\n",
       "Name: Tenure, dtype: int64"
      ]
     },
     "execution_count": 8,
     "metadata": {},
     "output_type": "execute_result"
    }
   ],
   "source": [
    "df.Tenure.value_counts().sort_index()"
   ]
  },
  {
   "cell_type": "code",
   "execution_count": 9,
   "metadata": {
    "pycharm": {
     "name": "#%%\n"
    }
   },
   "outputs": [],
   "source": [
    "assert df.duplicated().sum() == 0"
   ]
  },
  {
   "cell_type": "markdown",
   "metadata": {
    "pycharm": {
     "name": "#%% md\n"
    }
   },
   "source": [
    "### Работа с пропусками"
   ]
  },
  {
   "cell_type": "code",
   "execution_count": 10,
   "metadata": {
    "pycharm": {
     "name": "#%%\n"
    }
   },
   "outputs": [],
   "source": [
    "df_drop = df.dropna()"
   ]
  },
  {
   "cell_type": "markdown",
   "metadata": {
    "pycharm": {
     "name": "#%% md\n"
    }
   },
   "source": [
    "Думаю, проще всего удалить пропуски на данном этапе. Беглый осмотр показал, что значения *Tenure* распределены от 0 до 10 и указаны в годах. Вполне вероятно, что пропущенные значения принадлежат тем клиентам, кто пользуется услугами банка больше 11 лет. "
   ]
  },
  {
   "cell_type": "code",
   "execution_count": 11,
   "metadata": {
    "pycharm": {
     "name": "#%%\n"
    }
   },
   "outputs": [],
   "source": [
    "df_filled = df.copy()"
   ]
  },
  {
   "cell_type": "code",
   "execution_count": 12,
   "metadata": {
    "pycharm": {
     "name": "#%%\n"
    }
   },
   "outputs": [
    {
     "data": {
      "text/html": [
       "<div>\n",
       "<style scoped>\n",
       "    .dataframe tbody tr th:only-of-type {\n",
       "        vertical-align: middle;\n",
       "    }\n",
       "\n",
       "    .dataframe tbody tr th {\n",
       "        vertical-align: top;\n",
       "    }\n",
       "\n",
       "    .dataframe thead th {\n",
       "        text-align: right;\n",
       "    }\n",
       "</style>\n",
       "<table border=\"1\" class=\"dataframe\">\n",
       "  <thead>\n",
       "    <tr style=\"text-align: right;\">\n",
       "      <th></th>\n",
       "      <th>CreditScore</th>\n",
       "      <th>Geography</th>\n",
       "      <th>Gender</th>\n",
       "      <th>Tenure</th>\n",
       "      <th>Balance</th>\n",
       "      <th>NumOfProducts</th>\n",
       "      <th>HasCrCard</th>\n",
       "      <th>IsActiveMember</th>\n",
       "      <th>EstimatedSalary</th>\n",
       "      <th>Exited</th>\n",
       "    </tr>\n",
       "    <tr>\n",
       "      <th>Age</th>\n",
       "      <th></th>\n",
       "      <th></th>\n",
       "      <th></th>\n",
       "      <th></th>\n",
       "      <th></th>\n",
       "      <th></th>\n",
       "      <th></th>\n",
       "      <th></th>\n",
       "      <th></th>\n",
       "      <th></th>\n",
       "    </tr>\n",
       "  </thead>\n",
       "  <tbody>\n",
       "    <tr>\n",
       "      <th>18</th>\n",
       "      <td>2</td>\n",
       "      <td>2</td>\n",
       "      <td>2</td>\n",
       "      <td>0</td>\n",
       "      <td>2</td>\n",
       "      <td>2</td>\n",
       "      <td>2</td>\n",
       "      <td>2</td>\n",
       "      <td>2</td>\n",
       "      <td>2</td>\n",
       "    </tr>\n",
       "    <tr>\n",
       "      <th>19</th>\n",
       "      <td>1</td>\n",
       "      <td>1</td>\n",
       "      <td>1</td>\n",
       "      <td>0</td>\n",
       "      <td>1</td>\n",
       "      <td>1</td>\n",
       "      <td>1</td>\n",
       "      <td>1</td>\n",
       "      <td>1</td>\n",
       "      <td>1</td>\n",
       "    </tr>\n",
       "    <tr>\n",
       "      <th>20</th>\n",
       "      <td>3</td>\n",
       "      <td>3</td>\n",
       "      <td>3</td>\n",
       "      <td>0</td>\n",
       "      <td>3</td>\n",
       "      <td>3</td>\n",
       "      <td>3</td>\n",
       "      <td>3</td>\n",
       "      <td>3</td>\n",
       "      <td>3</td>\n",
       "    </tr>\n",
       "    <tr>\n",
       "      <th>21</th>\n",
       "      <td>5</td>\n",
       "      <td>5</td>\n",
       "      <td>5</td>\n",
       "      <td>0</td>\n",
       "      <td>5</td>\n",
       "      <td>5</td>\n",
       "      <td>5</td>\n",
       "      <td>5</td>\n",
       "      <td>5</td>\n",
       "      <td>5</td>\n",
       "    </tr>\n",
       "    <tr>\n",
       "      <th>22</th>\n",
       "      <td>4</td>\n",
       "      <td>4</td>\n",
       "      <td>4</td>\n",
       "      <td>0</td>\n",
       "      <td>4</td>\n",
       "      <td>4</td>\n",
       "      <td>4</td>\n",
       "      <td>4</td>\n",
       "      <td>4</td>\n",
       "      <td>4</td>\n",
       "    </tr>\n",
       "  </tbody>\n",
       "</table>\n",
       "</div>"
      ],
      "text/plain": [
       "     CreditScore  Geography  Gender  Tenure  Balance  NumOfProducts  \\\n",
       "Age                                                                   \n",
       "18             2          2       2       0        2              2   \n",
       "19             1          1       1       0        1              1   \n",
       "20             3          3       3       0        3              3   \n",
       "21             5          5       5       0        5              5   \n",
       "22             4          4       4       0        4              4   \n",
       "\n",
       "     HasCrCard  IsActiveMember  EstimatedSalary  Exited  \n",
       "Age                                                      \n",
       "18           2               2                2       2  \n",
       "19           1               1                1       1  \n",
       "20           3               3                3       3  \n",
       "21           5               5                5       5  \n",
       "22           4               4                4       4  "
      ]
     },
     "execution_count": 12,
     "metadata": {},
     "output_type": "execute_result"
    }
   ],
   "source": [
    "df[df.Tenure.isna()].groupby('Age').count().head(5)"
   ]
  },
  {
   "cell_type": "code",
   "execution_count": 13,
   "metadata": {
    "pycharm": {
     "name": "#%%\n"
    }
   },
   "outputs": [],
   "source": [
    "df_drop = df_drop.join(pd.get_dummies(df_drop.Geography, drop_first=True))\n",
    "df_filled = df_filled.join(pd.get_dummies(df_filled.Geography, drop_first=True))"
   ]
  },
  {
   "cell_type": "code",
   "execution_count": 14,
   "metadata": {
    "pycharm": {
     "name": "#%%\n"
    }
   },
   "outputs": [],
   "source": [
    "df_drop = df_drop.drop(labels='Geography', axis=1)\n",
    "df_filled = df_filled.drop(labels='Geography', axis=1)"
   ]
  },
  {
   "cell_type": "markdown",
   "metadata": {
    "pycharm": {
     "name": "#%% md\n"
    }
   },
   "source": [
    "Страна заменена дамми-переменными с удалением оригинала и одного из дамми столбцов."
   ]
  },
  {
   "cell_type": "code",
   "execution_count": 15,
   "metadata": {
    "pycharm": {
     "name": "#%%\n"
    }
   },
   "outputs": [],
   "source": [
    "imp = KNNImputer(missing_values=np.nan)\n",
    "df_filled = imp.fit_transform(df_filled)"
   ]
  },
  {
   "cell_type": "code",
   "execution_count": 16,
   "metadata": {
    "pycharm": {
     "name": "#%%\n"
    }
   },
   "outputs": [],
   "source": [
    "df_filled = pd.DataFrame(df_filled)\n",
    "df_filled.columns = df_drop.columns"
   ]
  },
  {
   "cell_type": "markdown",
   "metadata": {
    "pycharm": {
     "name": "#%% md\n"
    }
   },
   "source": [
    "### Скейлинг"
   ]
  },
  {
   "cell_type": "markdown",
   "metadata": {
    "pycharm": {
     "name": "#%% md\n"
    }
   },
   "source": [
    " Взглянем на общую статистику по данным. Это поможет выбрать нужный скейлер:"
   ]
  },
  {
   "cell_type": "code",
   "execution_count": 17,
   "metadata": {
    "pycharm": {
     "name": "#%%\n"
    }
   },
   "outputs": [
    {
     "data": {
      "text/html": [
       "<style type=\"text/css\">\n",
       "#T_b9d19_row0_col0, #T_b9d19_row0_col4, #T_b9d19_row0_col5 {\n",
       "  background-color: #fef6fb;\n",
       "  color: #000000;\n",
       "}\n",
       "#T_b9d19_row0_col1, #T_b9d19_row0_col6, #T_b9d19_row1_col0, #T_b9d19_row1_col1, #T_b9d19_row1_col2, #T_b9d19_row1_col3, #T_b9d19_row1_col4, #T_b9d19_row1_col5, #T_b9d19_row1_col6, #T_b9d19_row2_col0, #T_b9d19_row2_col1, #T_b9d19_row2_col3, #T_b9d19_row2_col4, #T_b9d19_row2_col5, #T_b9d19_row2_col6, #T_b9d19_row3_col0, #T_b9d19_row3_col1, #T_b9d19_row3_col2, #T_b9d19_row3_col3, #T_b9d19_row3_col4, #T_b9d19_row3_col5, #T_b9d19_row3_col6, #T_b9d19_row4_col2, #T_b9d19_row4_col3, #T_b9d19_row5_col0, #T_b9d19_row5_col1, #T_b9d19_row5_col2, #T_b9d19_row5_col3, #T_b9d19_row5_col4, #T_b9d19_row5_col5, #T_b9d19_row5_col6, #T_b9d19_row6_col0, #T_b9d19_row6_col1, #T_b9d19_row6_col2, #T_b9d19_row6_col3, #T_b9d19_row6_col4, #T_b9d19_row6_col5, #T_b9d19_row6_col6, #T_b9d19_row7_col0, #T_b9d19_row7_col1, #T_b9d19_row7_col2, #T_b9d19_row7_col3, #T_b9d19_row7_col4, #T_b9d19_row7_col5, #T_b9d19_row7_col6, #T_b9d19_row9_col0, #T_b9d19_row9_col1, #T_b9d19_row9_col2, #T_b9d19_row9_col3, #T_b9d19_row9_col4, #T_b9d19_row9_col5, #T_b9d19_row9_col6 {\n",
       "  background-color: #fff7fb;\n",
       "  color: #000000;\n",
       "}\n",
       "#T_b9d19_row0_col2, #T_b9d19_row4_col1, #T_b9d19_row4_col6, #T_b9d19_row8_col0, #T_b9d19_row8_col3, #T_b9d19_row8_col4, #T_b9d19_row8_col5 {\n",
       "  background-color: #023858;\n",
       "  color: #f1f1f1;\n",
       "}\n",
       "#T_b9d19_row0_col3 {\n",
       "  background-color: #fef6fa;\n",
       "  color: #000000;\n",
       "}\n",
       "#T_b9d19_row2_col2 {\n",
       "  background-color: #f7f0f7;\n",
       "  color: #000000;\n",
       "}\n",
       "#T_b9d19_row4_col0 {\n",
       "  background-color: #056dac;\n",
       "  color: #f1f1f1;\n",
       "}\n",
       "#T_b9d19_row4_col4 {\n",
       "  background-color: #023f64;\n",
       "  color: #f1f1f1;\n",
       "}\n",
       "#T_b9d19_row4_col5 {\n",
       "  background-color: #045e93;\n",
       "  color: #f1f1f1;\n",
       "}\n",
       "#T_b9d19_row8_col1 {\n",
       "  background-color: #034d79;\n",
       "  color: #f1f1f1;\n",
       "}\n",
       "#T_b9d19_row8_col2 {\n",
       "  background-color: #faf3f9;\n",
       "  color: #000000;\n",
       "}\n",
       "#T_b9d19_row8_col6 {\n",
       "  background-color: #0567a2;\n",
       "  color: #f1f1f1;\n",
       "}\n",
       "</style>\n",
       "<table id=\"T_b9d19\">\n",
       "  <thead>\n",
       "    <tr>\n",
       "      <th class=\"blank level0\" >&nbsp;</th>\n",
       "      <th id=\"T_b9d19_level0_col0\" class=\"col_heading level0 col0\" >mean</th>\n",
       "      <th id=\"T_b9d19_level0_col1\" class=\"col_heading level0 col1\" >std</th>\n",
       "      <th id=\"T_b9d19_level0_col2\" class=\"col_heading level0 col2\" >min</th>\n",
       "      <th id=\"T_b9d19_level0_col3\" class=\"col_heading level0 col3\" >25%</th>\n",
       "      <th id=\"T_b9d19_level0_col4\" class=\"col_heading level0 col4\" >50%</th>\n",
       "      <th id=\"T_b9d19_level0_col5\" class=\"col_heading level0 col5\" >75%</th>\n",
       "      <th id=\"T_b9d19_level0_col6\" class=\"col_heading level0 col6\" >max</th>\n",
       "    </tr>\n",
       "  </thead>\n",
       "  <tbody>\n",
       "    <tr>\n",
       "      <th id=\"T_b9d19_level0_row0\" class=\"row_heading level0 row0\" >CreditScore</th>\n",
       "      <td id=\"T_b9d19_row0_col0\" class=\"data row0 col0\" >650.528800</td>\n",
       "      <td id=\"T_b9d19_row0_col1\" class=\"data row0 col1\" >96.653299</td>\n",
       "      <td id=\"T_b9d19_row0_col2\" class=\"data row0 col2\" >350.000000</td>\n",
       "      <td id=\"T_b9d19_row0_col3\" class=\"data row0 col3\" >584.000000</td>\n",
       "      <td id=\"T_b9d19_row0_col4\" class=\"data row0 col4\" >652.000000</td>\n",
       "      <td id=\"T_b9d19_row0_col5\" class=\"data row0 col5\" >718.000000</td>\n",
       "      <td id=\"T_b9d19_row0_col6\" class=\"data row0 col6\" >850.000000</td>\n",
       "    </tr>\n",
       "    <tr>\n",
       "      <th id=\"T_b9d19_level0_row1\" class=\"row_heading level0 row1\" >Gender</th>\n",
       "      <td id=\"T_b9d19_row1_col0\" class=\"data row1 col0\" >0.545700</td>\n",
       "      <td id=\"T_b9d19_row1_col1\" class=\"data row1 col1\" >0.497932</td>\n",
       "      <td id=\"T_b9d19_row1_col2\" class=\"data row1 col2\" >0.000000</td>\n",
       "      <td id=\"T_b9d19_row1_col3\" class=\"data row1 col3\" >0.000000</td>\n",
       "      <td id=\"T_b9d19_row1_col4\" class=\"data row1 col4\" >1.000000</td>\n",
       "      <td id=\"T_b9d19_row1_col5\" class=\"data row1 col5\" >1.000000</td>\n",
       "      <td id=\"T_b9d19_row1_col6\" class=\"data row1 col6\" >1.000000</td>\n",
       "    </tr>\n",
       "    <tr>\n",
       "      <th id=\"T_b9d19_level0_row2\" class=\"row_heading level0 row2\" >Age</th>\n",
       "      <td id=\"T_b9d19_row2_col0\" class=\"data row2 col0\" >38.921800</td>\n",
       "      <td id=\"T_b9d19_row2_col1\" class=\"data row2 col1\" >10.487806</td>\n",
       "      <td id=\"T_b9d19_row2_col2\" class=\"data row2 col2\" >18.000000</td>\n",
       "      <td id=\"T_b9d19_row2_col3\" class=\"data row2 col3\" >32.000000</td>\n",
       "      <td id=\"T_b9d19_row2_col4\" class=\"data row2 col4\" >37.000000</td>\n",
       "      <td id=\"T_b9d19_row2_col5\" class=\"data row2 col5\" >44.000000</td>\n",
       "      <td id=\"T_b9d19_row2_col6\" class=\"data row2 col6\" >92.000000</td>\n",
       "    </tr>\n",
       "    <tr>\n",
       "      <th id=\"T_b9d19_level0_row3\" class=\"row_heading level0 row3\" >Tenure</th>\n",
       "      <td id=\"T_b9d19_row3_col0\" class=\"data row3 col0\" >4.998900</td>\n",
       "      <td id=\"T_b9d19_row3_col1\" class=\"data row3 col1\" >2.784982</td>\n",
       "      <td id=\"T_b9d19_row3_col2\" class=\"data row3 col2\" >0.000000</td>\n",
       "      <td id=\"T_b9d19_row3_col3\" class=\"data row3 col3\" >3.000000</td>\n",
       "      <td id=\"T_b9d19_row3_col4\" class=\"data row3 col4\" >5.000000</td>\n",
       "      <td id=\"T_b9d19_row3_col5\" class=\"data row3 col5\" >7.000000</td>\n",
       "      <td id=\"T_b9d19_row3_col6\" class=\"data row3 col6\" >10.000000</td>\n",
       "    </tr>\n",
       "    <tr>\n",
       "      <th id=\"T_b9d19_level0_row4\" class=\"row_heading level0 row4\" >Balance</th>\n",
       "      <td id=\"T_b9d19_row4_col0\" class=\"data row4 col0\" >76485.889288</td>\n",
       "      <td id=\"T_b9d19_row4_col1\" class=\"data row4 col1\" >62397.405202</td>\n",
       "      <td id=\"T_b9d19_row4_col2\" class=\"data row4 col2\" >0.000000</td>\n",
       "      <td id=\"T_b9d19_row4_col3\" class=\"data row4 col3\" >0.000000</td>\n",
       "      <td id=\"T_b9d19_row4_col4\" class=\"data row4 col4\" >97198.540000</td>\n",
       "      <td id=\"T_b9d19_row4_col5\" class=\"data row4 col5\" >127644.240000</td>\n",
       "      <td id=\"T_b9d19_row4_col6\" class=\"data row4 col6\" >250898.090000</td>\n",
       "    </tr>\n",
       "    <tr>\n",
       "      <th id=\"T_b9d19_level0_row5\" class=\"row_heading level0 row5\" >NumOfProducts</th>\n",
       "      <td id=\"T_b9d19_row5_col0\" class=\"data row5 col0\" >1.530200</td>\n",
       "      <td id=\"T_b9d19_row5_col1\" class=\"data row5 col1\" >0.581654</td>\n",
       "      <td id=\"T_b9d19_row5_col2\" class=\"data row5 col2\" >1.000000</td>\n",
       "      <td id=\"T_b9d19_row5_col3\" class=\"data row5 col3\" >1.000000</td>\n",
       "      <td id=\"T_b9d19_row5_col4\" class=\"data row5 col4\" >1.000000</td>\n",
       "      <td id=\"T_b9d19_row5_col5\" class=\"data row5 col5\" >2.000000</td>\n",
       "      <td id=\"T_b9d19_row5_col6\" class=\"data row5 col6\" >4.000000</td>\n",
       "    </tr>\n",
       "    <tr>\n",
       "      <th id=\"T_b9d19_level0_row6\" class=\"row_heading level0 row6\" >HasCrCard</th>\n",
       "      <td id=\"T_b9d19_row6_col0\" class=\"data row6 col0\" >0.705500</td>\n",
       "      <td id=\"T_b9d19_row6_col1\" class=\"data row6 col1\" >0.455840</td>\n",
       "      <td id=\"T_b9d19_row6_col2\" class=\"data row6 col2\" >0.000000</td>\n",
       "      <td id=\"T_b9d19_row6_col3\" class=\"data row6 col3\" >0.000000</td>\n",
       "      <td id=\"T_b9d19_row6_col4\" class=\"data row6 col4\" >1.000000</td>\n",
       "      <td id=\"T_b9d19_row6_col5\" class=\"data row6 col5\" >1.000000</td>\n",
       "      <td id=\"T_b9d19_row6_col6\" class=\"data row6 col6\" >1.000000</td>\n",
       "    </tr>\n",
       "    <tr>\n",
       "      <th id=\"T_b9d19_level0_row7\" class=\"row_heading level0 row7\" >IsActiveMember</th>\n",
       "      <td id=\"T_b9d19_row7_col0\" class=\"data row7 col0\" >0.515100</td>\n",
       "      <td id=\"T_b9d19_row7_col1\" class=\"data row7 col1\" >0.499797</td>\n",
       "      <td id=\"T_b9d19_row7_col2\" class=\"data row7 col2\" >0.000000</td>\n",
       "      <td id=\"T_b9d19_row7_col3\" class=\"data row7 col3\" >0.000000</td>\n",
       "      <td id=\"T_b9d19_row7_col4\" class=\"data row7 col4\" >1.000000</td>\n",
       "      <td id=\"T_b9d19_row7_col5\" class=\"data row7 col5\" >1.000000</td>\n",
       "      <td id=\"T_b9d19_row7_col6\" class=\"data row7 col6\" >1.000000</td>\n",
       "    </tr>\n",
       "    <tr>\n",
       "      <th id=\"T_b9d19_level0_row8\" class=\"row_heading level0 row8\" >EstimatedSalary</th>\n",
       "      <td id=\"T_b9d19_row8_col0\" class=\"data row8 col0\" >100090.239881</td>\n",
       "      <td id=\"T_b9d19_row8_col1\" class=\"data row8 col1\" >57510.492818</td>\n",
       "      <td id=\"T_b9d19_row8_col2\" class=\"data row8 col2\" >11.580000</td>\n",
       "      <td id=\"T_b9d19_row8_col3\" class=\"data row8 col3\" >51002.110000</td>\n",
       "      <td id=\"T_b9d19_row8_col4\" class=\"data row8 col4\" >100193.915000</td>\n",
       "      <td id=\"T_b9d19_row8_col5\" class=\"data row8 col5\" >149388.247500</td>\n",
       "      <td id=\"T_b9d19_row8_col6\" class=\"data row8 col6\" >199992.480000</td>\n",
       "    </tr>\n",
       "    <tr>\n",
       "      <th id=\"T_b9d19_level0_row9\" class=\"row_heading level0 row9\" >Exited</th>\n",
       "      <td id=\"T_b9d19_row9_col0\" class=\"data row9 col0\" >0.203700</td>\n",
       "      <td id=\"T_b9d19_row9_col1\" class=\"data row9 col1\" >0.402769</td>\n",
       "      <td id=\"T_b9d19_row9_col2\" class=\"data row9 col2\" >0.000000</td>\n",
       "      <td id=\"T_b9d19_row9_col3\" class=\"data row9 col3\" >0.000000</td>\n",
       "      <td id=\"T_b9d19_row9_col4\" class=\"data row9 col4\" >0.000000</td>\n",
       "      <td id=\"T_b9d19_row9_col5\" class=\"data row9 col5\" >0.000000</td>\n",
       "      <td id=\"T_b9d19_row9_col6\" class=\"data row9 col6\" >1.000000</td>\n",
       "    </tr>\n",
       "  </tbody>\n",
       "</table>\n"
      ],
      "text/plain": [
       "<pandas.io.formats.style.Styler at 0x1cdd87531f0>"
      ]
     },
     "execution_count": 17,
     "metadata": {},
     "output_type": "execute_result"
    }
   ],
   "source": [
    "df_filled.describe().drop(labels=['Germany', 'Spain'],\n",
    "                          axis=1).T.drop('count', axis=1).style.background_gradient(cmap='PuBu')"
   ]
  },
  {
   "cell_type": "markdown",
   "metadata": {
    "pycharm": {
     "name": "#%% md\n"
    }
   },
   "source": [
    "Вполне подходит для стандартного. Да, баланс как будто бы немного в аутлаерах, но всё остальное - окей. Уже здесь по среднему Exited 0.20 виден перекос классов. "
   ]
  },
  {
   "cell_type": "code",
   "execution_count": 18,
   "metadata": {
    "pycharm": {
     "name": "#%%\n"
    }
   },
   "outputs": [],
   "source": [
    "features = df_filled.drop(labels='Exited', axis=1)\n",
    "target = df_filled.Exited"
   ]
  },
  {
   "cell_type": "code",
   "execution_count": 19,
   "metadata": {
    "pycharm": {
     "name": "#%%\n"
    }
   },
   "outputs": [],
   "source": [
    "x_train, x_test, y_train, y_test = train_test_split(features, target, test_size=.2, random_state=RS, stratify=target)\n",
    "x_train1, x_val, y_train1, y_val = train_test_split(x_train, y_train, test_size=.25, random_state=RS, stratify=y_train)"
   ]
  },
  {
   "cell_type": "code",
   "execution_count": 20,
   "metadata": {
    "pycharm": {
     "name": "#%%\n"
    }
   },
   "outputs": [],
   "source": [
    "col_names = ['CreditScore', 'Age', 'Balance', 'EstimatedSalary', 'Tenure', 'NumOfProducts']\n",
    "first, second, third, forth = x_train1[col_names], x_val[col_names], x_test[col_names], x_train[col_names]\n",
    "sc = StandardScaler().fit(first.values)\n",
    "first = sc.transform(first.values)\n",
    "second = sc.transform(second.values)\n",
    "third = sc.transform(third.values)\n",
    "forth = sc.transform(forth.values)\n",
    "x_train1[col_names], x_val[col_names], x_test[col_names], x_train[col_names] = first, second, third, forth"
   ]
  },
  {
   "cell_type": "markdown",
   "metadata": {
    "pycharm": {
     "name": "#%% md\n"
    }
   },
   "source": [
    "Данные разбиты на фолды, попробуем применить случайный лес:"
   ]
  },
  {
   "cell_type": "markdown",
   "metadata": {
    "pycharm": {
     "name": "#%% md\n"
    }
   },
   "source": [
    "Добавим серьёзного подхода к подбору параметров. Думаю, регуляризация в виде альфы тут не особо нужна, равно как и запары с количеством фичей.\n",
    "Эмпирически: серьёзной разницы между энтропи гейном и джини гейном почти нет. Сосредоточимся на количестве древ и глубине.\n",
    "Естественно, стохастическая природа алгоритмов может выдать отличающийся вариант. Я даже догадываюсь, как это исправить, вроде как раз у Дьяконова видел, либо где-то на хабре.\n",
    "Нам бы график с результатами (желательно грида, а не рандома), на котором мы сможем увидеть тенденции и распределение результата по разным гиперпарамам. Это позволит выйти на действительный оптимум, а не поймать локальный экстремум. Вокруг действительного оптимума даже можно взять несколько моделей, которые потом состакать. Ансамбли, вот это вот всё. =)"
   ]
  },
  {
   "cell_type": "markdown",
   "metadata": {
    "pycharm": {
     "name": "#%% md\n"
    }
   },
   "source": [
    "### Первые фиты"
   ]
  },
  {
   "cell_type": "markdown",
   "metadata": {
    "pycharm": {
     "name": "#%% md\n"
    }
   },
   "source": [
    "Здесь стратифицированная К-фолдовая классически бьёт на 5 фолдов, всё это не слишком долго пробегается сотней итераций, причём применяем мы это в первому трейну, который без теста, но с валидом вместе. У нас же кросс-валид."
   ]
  },
  {
   "cell_type": "code",
   "execution_count": 21,
   "metadata": {
    "pycharm": {
     "name": "#%%\n"
    }
   },
   "outputs": [
    {
     "name": "stdout",
     "output_type": "stream",
     "text": [
      "Best Score: 0.6158532949092498\n",
      "Best Hyperparameters: {'n_estimators': 170, 'max_depth': 10}\n"
     ]
    }
   ],
   "source": [
    "cv = RepeatedStratifiedKFold(n_splits=5, n_repeats=5, random_state=RS)\n",
    "model = RandomForestClassifier(n_jobs=-1, class_weight='balanced')\n",
    "space = dict()\n",
    "space['n_estimators'] = range(50, 200, 5)\n",
    "space['max_depth'] = range(5,33)\n",
    "\n",
    "search = RandomizedSearchCV(model, space, n_iter=100, scoring='f1', n_jobs=-1, cv=cv, random_state=RS)\n",
    "result = search.fit(x_train, y_train)\n",
    "rf_score = result.best_score_\n",
    "rf_params = result.best_params_\n",
    "print('Best Score: %s' % result.best_score_)\n",
    "print('Best Hyperparameters: %s' % result.best_params_)"
   ]
  },
  {
   "cell_type": "code",
   "execution_count": 22,
   "metadata": {
    "pycharm": {
     "name": "#%%\n"
    }
   },
   "outputs": [],
   "source": [
    "model = RandomForestClassifier(n_jobs=-1, class_weight='balanced')"
   ]
  },
  {
   "cell_type": "code",
   "execution_count": 23,
   "metadata": {
    "pycharm": {
     "name": "#%%\n"
    }
   },
   "outputs": [
    {
     "data": {
      "image/png": "[encoded data removed]",
      "text/plain": [
       "<Figure size 576x576 with 1 Axes>"
      ]
     },
     "metadata": {
      "needs_background": "light"
     },
     "output_type": "display_data"
    }
   ],
   "source": [
    "param_range = range(5, 200, 5)\n",
    "train_scores, test_scores = validation_curve(model,\n",
    "                                             x_train, y_train,\n",
    "                                             scoring='f1', param_name='n_estimators', \n",
    "                                             param_range=param_range, n_jobs=-1)\n",
    "train_mean = np.mean(train_scores, axis=1)\n",
    "train_std = np.std(train_scores, axis=1)\n",
    "test_mean = np.mean(test_scores, axis=1)\n",
    "test_std = np.std(test_scores, axis=1)\n",
    "\n",
    "plt.subplots(1, figsize=(8,8))\n",
    "plt.plot(param_range, train_mean, label=\"Training score\", color=\"black\")\n",
    "plt.plot(param_range, test_mean, label=\"Cross-validation score\", color=\"dimgrey\")\n",
    "\n",
    "plt.fill_between(param_range, train_mean - train_std, train_mean + train_std, color=\"gray\")\n",
    "plt.fill_between(param_range, test_mean - test_std, test_mean + test_std, color=\"gainsboro\")\n",
    " \n",
    "plt.title(\"Validation Curve With Random Forest\")\n",
    "plt.xlabel(\"Num'o'Trees\")\n",
    "plt.ylabel(\"F1 Score\")\n",
    "plt.tight_layout()\n",
    "plt.legend(loc=\"best\")\n",
    "plt.axvline(param_range[np.argmax(test_mean)], color='C1', lw=10, alpha=0.2)\n",
    "plt.show()"
   ]
  },
  {
   "cell_type": "code",
   "execution_count": 24,
   "metadata": {
    "pycharm": {
     "name": "#%%\n"
    }
   },
   "outputs": [
    {
     "data": {
      "image/png": "[encoded data removed]",
      "text/plain": [
       "<Figure size 576x576 with 1 Axes>"
      ]
     },
     "metadata": {
      "needs_background": "light"
     },
     "output_type": "display_data"
    }
   ],
   "source": [
    "param_range = range(1, 45)\n",
    "train_scores, test_scores = validation_curve(model,\n",
    "                                             x_train, y_train,\n",
    "                                             scoring='f1', param_name='max_depth', \n",
    "                                             param_range=param_range, n_jobs=-1)\n",
    "train_mean = np.mean(train_scores, axis=1)\n",
    "train_std = np.std(train_scores, axis=1)\n",
    "test_mean = np.mean(test_scores, axis=1)\n",
    "test_std = np.std(test_scores, axis=1)\n",
    "\n",
    "plt.subplots(1, figsize=(8,8))\n",
    "plt.plot(param_range, train_mean, label=\"Training score\", color=\"black\")\n",
    "plt.plot(param_range, test_mean, label=\"Cross-validation score\", color=\"dimgrey\")\n",
    "\n",
    "plt.fill_between(param_range, train_mean - train_std, train_mean + train_std, color=\"gray\")\n",
    "plt.fill_between(param_range, test_mean - test_std, test_mean + test_std, color=\"gainsboro\")\n",
    " \n",
    "plt.title(\"Validation Curve With Random Forest\")\n",
    "plt.xlabel(\"Depth\")\n",
    "plt.ylabel(\"F1 Score\")\n",
    "plt.tight_layout()\n",
    "plt.legend(loc=\"best\")\n",
    "plt.axvline(param_range[np.argmax(test_mean)], color='C1', lw=10, alpha=0.2)\n",
    "plt.show()"
   ]
  },
  {
   "cell_type": "markdown",
   "metadata": {
    "pycharm": {
     "name": "#%% md\n"
    }
   },
   "source": [
    "Для удобства создана функция фита на трейн с рассчётом целевой метрики и ROC кривой. Все модели уже на этом этапе \n",
    "учитывают дисбаланс, который мы обнаружили выше. Посмотрим, как они себя ведут"
   ]
  },
  {
   "cell_type": "code",
   "execution_count": 25,
   "metadata": {
    "pycharm": {
     "name": "#%%\n"
    }
   },
   "outputs": [],
   "source": [
    "final = []\n",
    "def fitting(model, x_train=x_train1, y_train=y_train1, x_val=x_val, y_val=y_val):\n",
    "    model.fit(x_train, y_train)\n",
    "    pred = model.predict(x_val)\n",
    "    print('F1 score test:', f1_score(y_val, pred))\n",
    "    print('ROC AUC test:', roc_auc_score(y_val, model.predict_proba(x_val)[:, 1]))\n",
    "    RocCurveDisplay.from_estimator(model.fit(x_train, y_train), x_val, y_val)\n",
    "    final.append([str(model), round(f1_score(y_val, pred)*100,2), \n",
    "                round(roc_auc_score(y_val, model.predict_proba(x_val)[:, 1])*100,2)])"
   ]
  },
  {
   "cell_type": "code",
   "execution_count": 26,
   "metadata": {
    "pycharm": {
     "name": "#%%\n"
    }
   },
   "outputs": [
    {
     "name": "stdout",
     "output_type": "stream",
     "text": [
      "F1 score test: 0.5796737766624843\n",
      "ROC AUC test: 0.8527579687653957\n"
     ]
    },
    {
     "data": {
      "image/png": "[encoded data removed]",
      "text/plain": [
       "<Figure size 432x288 with 1 Axes>"
      ]
     },
     "metadata": {
      "needs_background": "light"
     },
     "output_type": "display_data"
    }
   ],
   "source": [
    "model = RandomForestClassifier(random_state=RS, n_estimators=81, max_depth=10, class_weight='balanced')\n",
    "fitting(model)"
   ]
  },
  {
   "cell_type": "markdown",
   "metadata": {
    "pycharm": {
     "name": "#%% md\n"
    }
   },
   "source": [
    "Даже без любой игры с дисбалансом имеем 58% Ф1 скор, что вполне окей. На более крупной обучающей выборке результат был получше, после изменения разбиения точно стоит смотреть в сторону балансировки классов =)"
   ]
  },
  {
   "cell_type": "code",
   "execution_count": 27,
   "metadata": {
    "pycharm": {
     "name": "#%%\n"
    }
   },
   "outputs": [
    {
     "name": "stdout",
     "output_type": "stream",
     "text": [
      "F1 score test: 0.48823016564952054\n",
      "ROC AUC test: 0.7605644644792591\n"
     ]
    },
    {
     "data": {
      "image/png": "[encoded data removed]",
      "text/plain": [
       "<Figure size 432x288 with 1 Axes>"
      ]
     },
     "metadata": {
      "needs_background": "light"
     },
     "output_type": "display_data"
    }
   ],
   "source": [
    "fitting(LogisticRegression(class_weight='balanced'))"
   ]
  },
  {
   "cell_type": "code",
   "execution_count": 28,
   "metadata": {
    "pycharm": {
     "name": "#%%\n"
    },
    "scrolled": true
   },
   "outputs": [
    {
     "name": "stdout",
     "output_type": "stream",
     "text": [
      "F1 score test: 0.5086887835703002\n",
      "ROC AUC test: 0.8262328800867081\n"
     ]
    },
    {
     "data": {
      "image/png": "[encoded data removed]",
      "text/plain": [
       "<Figure size 432x288 with 1 Axes>"
      ]
     },
     "metadata": {
      "needs_background": "light"
     },
     "output_type": "display_data"
    }
   ],
   "source": [
    "fitting(BaggingClassifier(base_estimator=ExtraTreeClassifier(class_weight='balanced'), n_estimators=25, random_state=RS))"
   ]
  },
  {
   "cell_type": "code",
   "execution_count": 29,
   "metadata": {
    "pycharm": {
     "name": "#%%\n"
    }
   },
   "outputs": [
    {
     "name": "stdout",
     "output_type": "stream",
     "text": [
      "F1 score test: 0.5812310797174571\n",
      "ROC AUC test: 0.8393560941964724\n"
     ]
    },
    {
     "data": {
      "image/png": "[encoded data removed]",
      "text/plain": [
       "<Figure size 432x288 with 1 Axes>"
      ]
     },
     "metadata": {
      "needs_background": "light"
     },
     "output_type": "display_data"
    }
   ],
   "source": [
    "fitting(SVC(class_weight='balanced', probability=True))"
   ]
  },
  {
   "cell_type": "markdown",
   "metadata": {
    "pycharm": {
     "name": "#%% md\n"
    }
   },
   "source": [
    "Пока что самым приятным выглядит саппорт вектор, однако, после перебалансировки классов всё может измениться. К тому же, лес идёт прямо за ним."
   ]
  },
  {
   "cell_type": "markdown",
   "metadata": {
    "pycharm": {
     "name": "#%% md\n"
    }
   },
   "source": [
    "## Борьба с дисбалансом"
   ]
  },
  {
   "cell_type": "code",
   "execution_count": 30,
   "metadata": {
    "pycharm": {
     "name": "#%%\n"
    }
   },
   "outputs": [
    {
     "data": {
      "image/png": "[encoded data removed]",
      "text/plain": [
       "<Figure size 432x288 with 1 Axes>"
      ]
     },
     "metadata": {},
     "output_type": "display_data"
    }
   ],
   "source": [
    "df_drop.groupby('Exited').size().plot(kind='pie',\n",
    "                                       y = \"Exited\",\n",
    "                                       label = \"Class\",\n",
    "                                       autopct='%1.1f%%');"
   ]
  },
  {
   "cell_type": "markdown",
   "metadata": {
    "pycharm": {
     "name": "#%% md\n"
    }
   },
   "source": [
    "Действительно, наблюдаемый дисбаланс стоит попробовать исправить апсемплом ака бутстрапом:"
   ]
  },
  {
   "cell_type": "markdown",
   "metadata": {
    "pycharm": {
     "name": "#%% md\n"
    }
   },
   "source": [
    "### Апсемплинг"
   ]
  },
  {
   "cell_type": "markdown",
   "metadata": {
    "pycharm": {
     "name": "#%% md\n"
    }
   },
   "source": [
    "Данные отсемплированы с увеличением меньшего класса, объединены и перемешаны. "
   ]
  },
  {
   "cell_type": "code",
   "execution_count": 31,
   "metadata": {
    "pycharm": {
     "name": "#%%\n"
    }
   },
   "outputs": [],
   "source": [
    "full_train = x_train1.join(y_train1)"
   ]
  },
  {
   "cell_type": "code",
   "execution_count": 32,
   "metadata": {
    "pycharm": {
     "name": "#%%\n"
    }
   },
   "outputs": [],
   "source": [
    "upsampled = resample(full_train[full_train.Exited == 1],  \n",
    "                     n_samples=len(full_train[full_train.Exited == 0]), random_state=RS)"
   ]
  },
  {
   "cell_type": "code",
   "execution_count": 33,
   "metadata": {
    "pycharm": {
     "name": "#%%\n"
    }
   },
   "outputs": [],
   "source": [
    "full_train = pd.concat([full_train[full_train.Exited == 0], upsampled])\n",
    "full_train = full_train.sample(frac=1)"
   ]
  },
  {
   "cell_type": "code",
   "execution_count": 34,
   "metadata": {
    "pycharm": {
     "name": "#%%\n"
    }
   },
   "outputs": [],
   "source": [
    "x_train1 = full_train.drop('Exited', axis=1)\n",
    "y_train1 = full_train.Exited"
   ]
  },
  {
   "cell_type": "code",
   "execution_count": 35,
   "metadata": {
    "pycharm": {
     "name": "#%%\n"
    }
   },
   "outputs": [
    {
     "name": "stdout",
     "output_type": "stream",
     "text": [
      "F1 score test: 0.5164473684210527\n",
      "ROC AUC test: 0.8446521824810326\n"
     ]
    },
    {
     "data": {
      "image/png": "[encoded data removed]",
      "text/plain": [
       "<Figure size 432x288 with 1 Axes>"
      ]
     },
     "metadata": {
      "needs_background": "light"
     },
     "output_type": "display_data"
    }
   ],
   "source": [
    "model = RandomForestClassifier(random_state=RS, n_estimators=82, max_depth=10)\n",
    "fitting(model)"
   ]
  },
  {
   "cell_type": "markdown",
   "metadata": {
    "pycharm": {
     "name": "#%% md\n"
    }
   },
   "source": [
    "Для леса изменения несущественны"
   ]
  },
  {
   "cell_type": "code",
   "execution_count": 36,
   "metadata": {
    "pycharm": {
     "name": "#%%\n"
    }
   },
   "outputs": [
    {
     "name": "stdout",
     "output_type": "stream",
     "text": [
      "F1 score test: 0.2872727272727273\n",
      "ROC AUC test: 0.7569003103754064\n"
     ]
    },
    {
     "data": {
      "image/png": "[encoded data removed]",
      "text/plain": [
       "<Figure size 432x288 with 1 Axes>"
      ]
     },
     "metadata": {
      "needs_background": "light"
     },
     "output_type": "display_data"
    }
   ],
   "source": [
    "fitting(LogisticRegression())"
   ]
  },
  {
   "cell_type": "code",
   "execution_count": 37,
   "metadata": {
    "pycharm": {
     "name": "#%%\n"
    }
   },
   "outputs": [
    {
     "name": "stdout",
     "output_type": "stream",
     "text": [
      "F1 score test: 0.49762282091917603\n",
      "ROC AUC test: 0.8068043957532762\n"
     ]
    },
    {
     "data": {
      "image/png": "[encoded data removed]",
      "text/plain": [
       "<Figure size 432x288 with 1 Axes>"
      ]
     },
     "metadata": {
      "needs_background": "light"
     },
     "output_type": "display_data"
    }
   ],
   "source": [
    "fitting(BaggingClassifier(base_estimator=ExtraTreeClassifier(), n_estimators=25, random_state=RS))"
   ]
  },
  {
   "cell_type": "code",
   "execution_count": 38,
   "metadata": {
    "pycharm": {
     "name": "#%%\n"
    }
   },
   "outputs": [
    {
     "name": "stdout",
     "output_type": "stream",
     "text": [
      "F1 score test: 0.4727891156462586\n",
      "ROC AUC test: 0.8117663993989557\n"
     ]
    },
    {
     "data": {
      "image/png": "[encoded data removed]",
      "text/plain": [
       "<Figure size 432x288 with 1 Axes>"
      ]
     },
     "metadata": {
      "needs_background": "light"
     },
     "output_type": "display_data"
    }
   ],
   "source": [
    "fitting(SVC(probability=True, gamma='auto'))"
   ]
  },
  {
   "cell_type": "markdown",
   "metadata": {
    "pycharm": {
     "name": "#%% md\n"
    }
   },
   "source": [
    "## Тестирование модели"
   ]
  },
  {
   "cell_type": "code",
   "execution_count": 39,
   "metadata": {
    "pycharm": {
     "name": "#%%\n"
    }
   },
   "outputs": [],
   "source": [
    "final = pd.DataFrame(final).sort_values(by=1, ascending=False)\n",
    "columns = ['model', 'f1', 'roc_auc']\n",
    "final.columns = columns"
   ]
  },
  {
   "cell_type": "code",
   "execution_count": 40,
   "metadata": {
    "pycharm": {
     "name": "#%%\n"
    }
   },
   "outputs": [
    {
     "data": {
      "text/html": [
       "<div>\n",
       "<style scoped>\n",
       "    .dataframe tbody tr th:only-of-type {\n",
       "        vertical-align: middle;\n",
       "    }\n",
       "\n",
       "    .dataframe tbody tr th {\n",
       "        vertical-align: top;\n",
       "    }\n",
       "\n",
       "    .dataframe thead th {\n",
       "        text-align: right;\n",
       "    }\n",
       "</style>\n",
       "<table border=\"1\" class=\"dataframe\">\n",
       "  <thead>\n",
       "    <tr style=\"text-align: right;\">\n",
       "      <th></th>\n",
       "      <th>model</th>\n",
       "      <th>f1</th>\n",
       "      <th>roc_auc</th>\n",
       "    </tr>\n",
       "  </thead>\n",
       "  <tbody>\n",
       "    <tr>\n",
       "      <th>3</th>\n",
       "      <td>SVC(class_weight='balanced', probability=True)</td>\n",
       "      <td>58.12</td>\n",
       "      <td>83.92</td>\n",
       "    </tr>\n",
       "    <tr>\n",
       "      <th>0</th>\n",
       "      <td>RandomForestClassifier(class_weight='balanced', max_depth=10, n_estimators=82,\\n                       random_state=451)</td>\n",
       "      <td>57.97</td>\n",
       "      <td>85.28</td>\n",
       "    </tr>\n",
       "    <tr>\n",
       "      <th>4</th>\n",
       "      <td>RandomForestClassifier(max_depth=10, n_estimators=82, random_state=451)</td>\n",
       "      <td>51.64</td>\n",
       "      <td>84.47</td>\n",
       "    </tr>\n",
       "    <tr>\n",
       "      <th>2</th>\n",
       "      <td>BaggingClassifier(base_estimator=ExtraTreeClassifier(class_weight='balanced'),\\n                  n_estimators=25, random_state=451)</td>\n",
       "      <td>50.87</td>\n",
       "      <td>82.62</td>\n",
       "    </tr>\n",
       "    <tr>\n",
       "      <th>6</th>\n",
       "      <td>BaggingClassifier(base_estimator=ExtraTreeClassifier(), n_estimators=25,\\n                  random_state=451)</td>\n",
       "      <td>49.76</td>\n",
       "      <td>80.68</td>\n",
       "    </tr>\n",
       "    <tr>\n",
       "      <th>1</th>\n",
       "      <td>LogisticRegression(class_weight='balanced')</td>\n",
       "      <td>48.82</td>\n",
       "      <td>76.06</td>\n",
       "    </tr>\n",
       "    <tr>\n",
       "      <th>7</th>\n",
       "      <td>SVC(gamma='auto', probability=True)</td>\n",
       "      <td>47.28</td>\n",
       "      <td>81.17</td>\n",
       "    </tr>\n",
       "    <tr>\n",
       "      <th>5</th>\n",
       "      <td>LogisticRegression()</td>\n",
       "      <td>28.73</td>\n",
       "      <td>75.69</td>\n",
       "    </tr>\n",
       "  </tbody>\n",
       "</table>\n",
       "</div>"
      ],
      "text/plain": [
       "                                                                                                                                  model  \\\n",
       "3                                                                                        SVC(class_weight='balanced', probability=True)   \n",
       "0              RandomForestClassifier(class_weight='balanced', max_depth=10, n_estimators=82,\\n                       random_state=451)   \n",
       "4                                                               RandomForestClassifier(max_depth=10, n_estimators=82, random_state=451)   \n",
       "2  BaggingClassifier(base_estimator=ExtraTreeClassifier(class_weight='balanced'),\\n                  n_estimators=25, random_state=451)   \n",
       "6                         BaggingClassifier(base_estimator=ExtraTreeClassifier(), n_estimators=25,\\n                  random_state=451)   \n",
       "1                                                                                           LogisticRegression(class_weight='balanced')   \n",
       "7                                                                                                   SVC(gamma='auto', probability=True)   \n",
       "5                                                                                                                  LogisticRegression()   \n",
       "\n",
       "      f1  roc_auc  \n",
       "3  58.12    83.92  \n",
       "0  57.97    85.28  \n",
       "4  51.64    84.47  \n",
       "2  50.87    82.62  \n",
       "6  49.76    80.68  \n",
       "1  48.82    76.06  \n",
       "7  47.28    81.17  \n",
       "5  28.73    75.69  "
      ]
     },
     "execution_count": 40,
     "metadata": {},
     "output_type": "execute_result"
    }
   ],
   "source": [
    "pd.set_option('display.max_colwidth', None)\n",
    "final"
   ]
  },
  {
   "cell_type": "code",
   "execution_count": 41,
   "metadata": {
    "pycharm": {
     "name": "#%%\n"
    }
   },
   "outputs": [
    {
     "name": "stdout",
     "output_type": "stream",
     "text": [
      "F1 score test: 0.6304604486422668\n",
      "ROC AUC test: 0.8607960811350642\n"
     ]
    },
    {
     "data": {
      "image/png": "[encoded data removed]",
      "text/plain": [
       "<Figure size 432x288 with 1 Axes>"
      ]
     },
     "metadata": {
      "needs_background": "light"
     },
     "output_type": "display_data"
    }
   ],
   "source": [
    "model = RandomForestClassifier(max_depth=10, n_estimators=82, random_state=RS, class_weight='balanced')\n",
    "fitting(model, x_train, y_train, x_test, y_test)"
   ]
  },
  {
   "cell_type": "code",
   "execution_count": 42,
   "metadata": {
    "pycharm": {
     "name": "#%%\n"
    }
   },
   "outputs": [
    {
     "name": "stdout",
     "output_type": "stream",
     "text": [
      "F1 score test: 0.585603112840467\n",
      "ROC AUC test: 0.8514801396157328\n"
     ]
    },
    {
     "data": {
      "image/png": "[encoded data removed]",
      "text/plain": [
       "<Figure size 432x288 with 1 Axes>"
      ]
     },
     "metadata": {
      "needs_background": "light"
     },
     "output_type": "display_data"
    }
   ],
   "source": [
    "fitting(SVC(probability=True, class_weight='balanced'),\n",
    "       x_train, y_train, x_test, y_test)"
   ]
  },
  {
   "cell_type": "markdown",
   "metadata": {
    "pycharm": {
     "name": "#%% md\n"
    }
   },
   "source": [
    "Учитывая, что параметры саппорт вектора вообще не тюнились, его всё ещё можно рассматривать как неплохого кандидата. "
   ]
  },
  {
   "cell_type": "code",
   "execution_count": 43,
   "metadata": {
    "pycharm": {
     "name": "#%%\n"
    }
   },
   "outputs": [
    {
     "data": {
      "image/png": "[encoded data removed]",
      "text/plain": [
       "<Figure size 1296x1008 with 1 Axes>"
      ]
     },
     "metadata": {
      "needs_background": "light"
     },
     "output_type": "display_data"
    }
   ],
   "source": [
    "plt.figure(figsize=(18,14))\n",
    "plot_tree(model.estimators_[0], fontsize=12, feature_names=features.columns, max_depth=3, label='all', filled=True, \n",
    "         impurity=False, precision=1, class_names=True);"
   ]
  },
  {
   "cell_type": "markdown",
   "metadata": {
    "pycharm": {
     "name": "#%% md\n"
    }
   },
   "source": [
    "Итого: данные об абонентах были обработаны, категориальные фичи заполнены дамми-переменными, бесполезные, к примеру, имена, были отброшены, а пропуски заполнены по методу ближейших соседей.  \n",
    "Далее всё приведено к одному масштабу путём применения стандарт скейлера (всё же в робасте здесь не было надобности — выбросов мало).  \n",
    "Оттюнена и визуализирована в процессе модель случайного леса. Правда, на финальном плоте интерпретируемость довольно низкая: многие переменные уже после скейлинга. Первый же шаг \"Balance <= 0.4\". Сколько это в реальных деньгах? Сложно сказать, не распаковывая всё ревёрс инжинирингом.  \n",
    "Путём несложных манипуляций с гиперпараметрами получен скор 63% на валидации. Разумеется, можно ещё многое предпринять в рамках экспериментов и кагл-стайл борьбы за тысячные доли. Как минимум даже в рамках хобби не были осмотрены матрицы корреляций или ковариаций. С их помощью можно было выйти на фичаинжиниринг, удаляя или создавая новые.  \n",
    "Впрочем, сутками считать полиномы 15 степени не особо хочется  \n",
    "утрирую, конечно. кому они нужны в таком количестве, потом ещё через лассо их в 0 обратно сводить как неважные.  \n",
    "\n",
    "ну или <a href=\"https://towardsdatascience.com/boruta-explained-the-way-i-wish-someone-explained-it-to-me-4489d70e154a\">борутой</a> искать)\n",
    "\n",
    "\n",
    "Вопросов почти не осталось, некоторые моменты ещё выносим на обсуждение в слаке. Спасибо за хорошие ссылки! Всё сразу не укладывается, конечно, но впереди ещё выходные. Почти ничего не прочитал про learning curve, так как сразу понял, что мой выбор сегодня — validation :D"
   ]
  }
 ],
 "metadata": {
  "ExecuteTimeLog": [
   {
    "duration": 1766,
    "start_time": "2022-05-16T18:03:46.605Z"
   },
   {
    "duration": 64,
    "start_time": "2022-05-16T18:03:48.375Z"
   },
   {
    "duration": 38,
    "start_time": "2022-05-16T18:03:48.442Z"
   },
   {
    "duration": 8,
    "start_time": "2022-05-16T18:03:48.483Z"
   },
   {
    "duration": 35,
    "start_time": "2022-05-16T18:03:48.494Z"
   },
   {
    "duration": 40,
    "start_time": "2022-05-16T18:03:48.532Z"
   },
   {
    "duration": 22,
    "start_time": "2022-05-16T18:03:48.575Z"
   },
   {
    "duration": 12,
    "start_time": "2022-05-16T18:03:48.600Z"
   },
   {
    "duration": 11,
    "start_time": "2022-05-16T18:03:48.615Z"
   },
   {
    "duration": 14,
    "start_time": "2022-05-16T18:03:48.631Z"
   },
   {
    "duration": 20,
    "start_time": "2022-05-16T18:03:48.662Z"
   },
   {
    "duration": 11,
    "start_time": "2022-05-16T18:03:48.685Z"
   },
   {
    "duration": 1867,
    "start_time": "2022-05-16T18:03:48.698Z"
   },
   {
    "duration": 517,
    "start_time": "2022-05-16T18:03:50.568Z"
   },
   {
    "duration": 9,
    "start_time": "2022-05-16T18:03:51.088Z"
   },
   {
    "duration": 14,
    "start_time": "2022-05-16T18:03:51.099Z"
   },
   {
    "duration": 8,
    "start_time": "2022-05-16T18:03:51.116Z"
   },
   {
    "duration": 53,
    "start_time": "2022-05-16T18:03:51.126Z"
   },
   {
    "duration": 4,
    "start_time": "2022-05-16T18:03:51.181Z"
   },
   {
    "duration": 3477,
    "start_time": "2022-05-16T18:03:51.188Z"
   },
   {
    "duration": 4252,
    "start_time": "2022-05-16T18:03:54.668Z"
   },
   {
    "duration": 1181,
    "start_time": "2022-05-17T18:13:15.559Z"
   },
   {
    "duration": 45,
    "start_time": "2022-05-17T18:13:16.742Z"
   },
   {
    "duration": 14,
    "start_time": "2022-05-17T18:13:16.788Z"
   },
   {
    "duration": 4,
    "start_time": "2022-05-17T18:13:16.803Z"
   },
   {
    "duration": 16,
    "start_time": "2022-05-17T18:13:16.809Z"
   },
   {
    "duration": 3,
    "start_time": "2022-05-17T18:13:16.827Z"
   },
   {
    "duration": 8,
    "start_time": "2022-05-17T18:13:16.832Z"
   },
   {
    "duration": 6,
    "start_time": "2022-05-17T18:13:16.842Z"
   },
   {
    "duration": 6,
    "start_time": "2022-05-17T18:13:16.849Z"
   },
   {
    "duration": 32,
    "start_time": "2022-05-17T18:13:16.856Z"
   },
   {
    "duration": 8,
    "start_time": "2022-05-17T18:13:16.890Z"
   },
   {
    "duration": 4,
    "start_time": "2022-05-17T18:13:16.900Z"
   },
   {
    "duration": 1123,
    "start_time": "2022-05-17T18:13:16.905Z"
   },
   {
    "duration": 523,
    "start_time": "2022-05-17T18:13:18.031Z"
   },
   {
    "duration": 7,
    "start_time": "2022-05-17T18:13:18.556Z"
   },
   {
    "duration": 9,
    "start_time": "2022-05-17T18:13:18.565Z"
   },
   {
    "duration": 18,
    "start_time": "2022-05-17T18:13:18.575Z"
   },
   {
    "duration": 13,
    "start_time": "2022-05-17T18:13:18.594Z"
   },
   {
    "duration": 4,
    "start_time": "2022-05-17T18:13:18.609Z"
   },
   {
    "duration": 1732,
    "start_time": "2022-05-17T18:13:18.614Z"
   },
   {
    "duration": 1892,
    "start_time": "2022-05-17T18:13:20.348Z"
   },
   {
    "duration": 1132,
    "start_time": "2022-05-18T06:48:40.254Z"
   },
   {
    "duration": 105,
    "start_time": "2022-05-18T06:48:41.388Z"
   },
   {
    "duration": 13,
    "start_time": "2022-05-18T06:48:41.494Z"
   },
   {
    "duration": 23,
    "start_time": "2022-05-18T06:48:41.508Z"
   },
   {
    "duration": 19,
    "start_time": "2022-05-18T06:48:41.533Z"
   },
   {
    "duration": 4,
    "start_time": "2022-05-18T06:48:41.554Z"
   },
   {
    "duration": 11,
    "start_time": "2022-05-18T06:48:41.560Z"
   },
   {
    "duration": 12,
    "start_time": "2022-05-18T06:48:41.573Z"
   },
   {
    "duration": 7,
    "start_time": "2022-05-18T06:48:41.587Z"
   },
   {
    "duration": 6,
    "start_time": "2022-05-18T06:48:41.596Z"
   },
   {
    "duration": 37,
    "start_time": "2022-05-18T06:48:41.604Z"
   },
   {
    "duration": 9,
    "start_time": "2022-05-18T06:48:41.643Z"
   },
   {
    "duration": 4,
    "start_time": "2022-05-18T06:48:41.654Z"
   },
   {
    "duration": 8,
    "start_time": "2022-05-18T06:48:41.660Z"
   },
   {
    "duration": 16,
    "start_time": "2022-05-18T06:48:41.669Z"
   },
   {
    "duration": 1853379,
    "start_time": "2022-05-18T06:48:41.687Z"
   },
   {
    "duration": 2,
    "start_time": "2022-05-18T07:19:35.068Z"
   },
   {
    "duration": 503,
    "start_time": "2022-05-18T07:19:35.072Z"
   },
   {
    "duration": 16,
    "start_time": "2022-05-18T07:19:35.577Z"
   },
   {
    "duration": 210,
    "start_time": "2022-05-18T07:19:35.594Z"
   },
   {
    "duration": 2,
    "start_time": "2022-05-18T07:19:35.806Z"
   },
   {
    "duration": 15,
    "start_time": "2022-05-18T07:19:35.809Z"
   },
   {
    "duration": 677,
    "start_time": "2022-05-18T07:19:35.826Z"
   },
   {
    "duration": 686,
    "start_time": "2022-05-18T07:19:36.505Z"
   },
   {
    "duration": 984,
    "start_time": "2022-05-18T07:19:37.193Z"
   },
   {
    "duration": 933,
    "start_time": "2022-05-18T07:19:38.179Z"
   },
   {
    "duration": 1221,
    "start_time": "2022-05-19T10:49:55.401Z"
   },
   {
    "duration": 176,
    "start_time": "2022-05-19T10:49:56.623Z"
   },
   {
    "duration": 13,
    "start_time": "2022-05-19T10:49:56.800Z"
   },
   {
    "duration": 4,
    "start_time": "2022-05-19T10:49:56.815Z"
   },
   {
    "duration": 15,
    "start_time": "2022-05-19T10:49:56.821Z"
   },
   {
    "duration": 3,
    "start_time": "2022-05-19T10:49:56.838Z"
   },
   {
    "duration": 8,
    "start_time": "2022-05-19T10:49:56.842Z"
   },
   {
    "duration": 6,
    "start_time": "2022-05-19T10:49:56.852Z"
   },
   {
    "duration": 6,
    "start_time": "2022-05-19T10:49:56.874Z"
   },
   {
    "duration": 3,
    "start_time": "2022-05-19T10:49:56.882Z"
   },
   {
    "duration": 13,
    "start_time": "2022-05-19T10:49:56.886Z"
   },
   {
    "duration": 9,
    "start_time": "2022-05-19T10:49:56.900Z"
   },
   {
    "duration": 5,
    "start_time": "2022-05-19T10:49:56.910Z"
   },
   {
    "duration": 1161,
    "start_time": "2022-05-19T10:49:56.917Z"
   },
   {
    "duration": 3,
    "start_time": "2022-05-19T10:49:58.080Z"
   },
   {
    "duration": 82,
    "start_time": "2022-05-19T10:49:58.085Z"
   },
   {
    "duration": 3,
    "start_time": "2022-05-19T10:49:58.175Z"
   },
   {
    "duration": 13,
    "start_time": "2022-05-19T10:49:58.180Z"
   },
   {
    "duration": 12,
    "start_time": "2022-05-19T10:49:58.194Z"
   },
   {
    "duration": 1829332,
    "start_time": "2022-05-19T10:49:58.207Z"
   },
   {
    "duration": 4,
    "start_time": "2022-05-19T11:20:27.541Z"
   },
   {
    "duration": 159443,
    "start_time": "2022-05-19T11:20:27.546Z"
   },
   {
    "duration": 165113,
    "start_time": "2022-05-19T11:23:06.991Z"
   },
   {
    "duration": 4,
    "start_time": "2022-05-19T11:25:52.106Z"
   },
   {
    "duration": 620,
    "start_time": "2022-05-19T11:25:52.112Z"
   },
   {
    "duration": 0,
    "start_time": "2022-05-19T11:25:52.735Z"
   },
   {
    "duration": 0,
    "start_time": "2022-05-19T11:25:52.737Z"
   },
   {
    "duration": 0,
    "start_time": "2022-05-19T11:25:52.738Z"
   },
   {
    "duration": 0,
    "start_time": "2022-05-19T11:25:52.740Z"
   },
   {
    "duration": 0,
    "start_time": "2022-05-19T11:25:52.741Z"
   },
   {
    "duration": 0,
    "start_time": "2022-05-19T11:25:52.742Z"
   },
   {
    "duration": 0,
    "start_time": "2022-05-19T11:25:52.744Z"
   },
   {
    "duration": 0,
    "start_time": "2022-05-19T11:25:52.745Z"
   },
   {
    "duration": 0,
    "start_time": "2022-05-19T11:25:52.746Z"
   },
   {
    "duration": 0,
    "start_time": "2022-05-19T11:25:52.747Z"
   },
   {
    "duration": 0,
    "start_time": "2022-05-19T11:25:52.749Z"
   },
   {
    "duration": 0,
    "start_time": "2022-05-19T11:25:52.774Z"
   },
   {
    "duration": 0,
    "start_time": "2022-05-19T11:25:52.775Z"
   },
   {
    "duration": 0,
    "start_time": "2022-05-19T11:25:52.776Z"
   },
   {
    "duration": 0,
    "start_time": "2022-05-19T11:25:52.776Z"
   },
   {
    "duration": 0,
    "start_time": "2022-05-19T11:25:52.778Z"
   },
   {
    "duration": 0,
    "start_time": "2022-05-19T11:25:52.779Z"
   },
   {
    "duration": 4,
    "start_time": "2022-05-19T11:37:25.334Z"
   },
   {
    "duration": 8,
    "start_time": "2022-05-19T11:39:51.575Z"
   },
   {
    "duration": 4,
    "start_time": "2022-05-19T11:40:22.426Z"
   },
   {
    "duration": 4537,
    "start_time": "2022-05-19T11:43:51.039Z"
   },
   {
    "duration": 4629,
    "start_time": "2022-05-19T11:44:08.520Z"
   },
   {
    "duration": 1197,
    "start_time": "2022-05-19T11:44:13.152Z"
   },
   {
    "duration": 53,
    "start_time": "2022-05-19T11:44:14.350Z"
   },
   {
    "duration": 13,
    "start_time": "2022-05-19T11:44:14.405Z"
   },
   {
    "duration": 5,
    "start_time": "2022-05-19T11:44:14.419Z"
   },
   {
    "duration": 14,
    "start_time": "2022-05-19T11:44:14.426Z"
   },
   {
    "duration": 3,
    "start_time": "2022-05-19T11:44:14.441Z"
   },
   {
    "duration": 30,
    "start_time": "2022-05-19T11:44:14.445Z"
   },
   {
    "duration": 8,
    "start_time": "2022-05-19T11:44:14.477Z"
   },
   {
    "duration": 8,
    "start_time": "2022-05-19T11:44:14.487Z"
   },
   {
    "duration": 3,
    "start_time": "2022-05-19T11:44:14.496Z"
   },
   {
    "duration": 13,
    "start_time": "2022-05-19T11:44:14.500Z"
   },
   {
    "duration": 10,
    "start_time": "2022-05-19T11:44:14.514Z"
   },
   {
    "duration": 6,
    "start_time": "2022-05-19T11:44:14.525Z"
   },
   {
    "duration": 1251,
    "start_time": "2022-05-19T11:44:14.532Z"
   },
   {
    "duration": 2,
    "start_time": "2022-05-19T11:44:15.785Z"
   },
   {
    "duration": 88,
    "start_time": "2022-05-19T11:44:15.788Z"
   },
   {
    "duration": 4,
    "start_time": "2022-05-19T11:44:15.877Z"
   },
   {
    "duration": 12,
    "start_time": "2022-05-19T11:44:15.882Z"
   },
   {
    "duration": 10,
    "start_time": "2022-05-19T11:44:15.895Z"
   },
   {
    "duration": 1771159,
    "start_time": "2022-05-19T11:44:15.907Z"
   },
   {
    "duration": 6,
    "start_time": "2022-05-19T12:13:47.069Z"
   },
   {
    "duration": 169786,
    "start_time": "2022-05-19T12:13:47.078Z"
   },
   {
    "duration": 170590,
    "start_time": "2022-05-19T12:16:36.866Z"
   },
   {
    "duration": 6,
    "start_time": "2022-05-19T12:19:27.458Z"
   },
   {
    "duration": 655,
    "start_time": "2022-05-19T12:19:27.475Z"
   },
   {
    "duration": 0,
    "start_time": "2022-05-19T12:19:28.132Z"
   },
   {
    "duration": 0,
    "start_time": "2022-05-19T12:19:28.134Z"
   },
   {
    "duration": 0,
    "start_time": "2022-05-19T12:19:28.136Z"
   },
   {
    "duration": 0,
    "start_time": "2022-05-19T12:19:28.137Z"
   },
   {
    "duration": 0,
    "start_time": "2022-05-19T12:19:28.138Z"
   },
   {
    "duration": 0,
    "start_time": "2022-05-19T12:19:28.139Z"
   },
   {
    "duration": 0,
    "start_time": "2022-05-19T12:19:28.140Z"
   },
   {
    "duration": 0,
    "start_time": "2022-05-19T12:19:28.141Z"
   },
   {
    "duration": 0,
    "start_time": "2022-05-19T12:19:28.142Z"
   },
   {
    "duration": 0,
    "start_time": "2022-05-19T12:19:28.143Z"
   },
   {
    "duration": 0,
    "start_time": "2022-05-19T12:19:28.144Z"
   },
   {
    "duration": 0,
    "start_time": "2022-05-19T12:19:28.145Z"
   },
   {
    "duration": 0,
    "start_time": "2022-05-19T12:19:28.146Z"
   },
   {
    "duration": 0,
    "start_time": "2022-05-19T12:19:28.147Z"
   },
   {
    "duration": 0,
    "start_time": "2022-05-19T12:19:28.175Z"
   },
   {
    "duration": 0,
    "start_time": "2022-05-19T12:19:28.176Z"
   },
   {
    "duration": 0,
    "start_time": "2022-05-19T12:19:28.178Z"
   },
   {
    "duration": 10,
    "start_time": "2022-05-19T12:28:11.771Z"
   },
   {
    "duration": 56,
    "start_time": "2022-05-19T12:28:23.223Z"
   },
   {
    "duration": 1319,
    "start_time": "2022-05-19T12:28:27.904Z"
   },
   {
    "duration": 77,
    "start_time": "2022-05-19T12:28:30.750Z"
   },
   {
    "duration": 3,
    "start_time": "2022-05-19T12:28:38.171Z"
   },
   {
    "duration": 1302,
    "start_time": "2022-05-19T12:28:38.177Z"
   },
   {
    "duration": 55,
    "start_time": "2022-05-19T12:28:39.481Z"
   },
   {
    "duration": 14,
    "start_time": "2022-05-19T12:28:39.538Z"
   },
   {
    "duration": 5,
    "start_time": "2022-05-19T12:28:39.553Z"
   },
   {
    "duration": 17,
    "start_time": "2022-05-19T12:28:39.560Z"
   },
   {
    "duration": 4,
    "start_time": "2022-05-19T12:28:39.579Z"
   },
   {
    "duration": 8,
    "start_time": "2022-05-19T12:28:39.585Z"
   },
   {
    "duration": 8,
    "start_time": "2022-05-19T12:28:39.594Z"
   },
   {
    "duration": 6,
    "start_time": "2022-05-19T12:28:39.605Z"
   },
   {
    "duration": 3,
    "start_time": "2022-05-19T12:28:39.613Z"
   },
   {
    "duration": 19,
    "start_time": "2022-05-19T12:28:39.617Z"
   },
   {
    "duration": 38,
    "start_time": "2022-05-19T12:28:39.637Z"
   },
   {
    "duration": 7,
    "start_time": "2022-05-19T12:28:39.676Z"
   },
   {
    "duration": 1313,
    "start_time": "2022-05-19T12:28:39.685Z"
   },
   {
    "duration": 2,
    "start_time": "2022-05-19T12:28:41.000Z"
   },
   {
    "duration": 102,
    "start_time": "2022-05-19T12:28:41.004Z"
   },
   {
    "duration": 4,
    "start_time": "2022-05-19T12:28:41.107Z"
   },
   {
    "duration": 30,
    "start_time": "2022-05-19T12:28:41.112Z"
   },
   {
    "duration": 23,
    "start_time": "2022-05-19T12:28:41.144Z"
   },
   {
    "duration": 4,
    "start_time": "2022-05-19T13:10:57.009Z"
   },
   {
    "duration": 1300,
    "start_time": "2022-05-19T13:10:57.015Z"
   },
   {
    "duration": 54,
    "start_time": "2022-05-19T13:10:58.316Z"
   },
   {
    "duration": 33,
    "start_time": "2022-05-19T13:10:58.372Z"
   },
   {
    "duration": 16,
    "start_time": "2022-05-19T13:10:58.409Z"
   },
   {
    "duration": 30,
    "start_time": "2022-05-19T13:10:58.426Z"
   },
   {
    "duration": 4,
    "start_time": "2022-05-19T13:10:58.457Z"
   },
   {
    "duration": 46,
    "start_time": "2022-05-19T13:10:58.463Z"
   },
   {
    "duration": 20,
    "start_time": "2022-05-19T13:10:58.510Z"
   },
   {
    "duration": 16,
    "start_time": "2022-05-19T13:10:58.532Z"
   },
   {
    "duration": 37,
    "start_time": "2022-05-19T13:10:58.550Z"
   },
   {
    "duration": 40,
    "start_time": "2022-05-19T13:10:58.588Z"
   },
   {
    "duration": 17,
    "start_time": "2022-05-19T13:10:58.630Z"
   },
   {
    "duration": 13,
    "start_time": "2022-05-19T13:10:58.649Z"
   },
   {
    "duration": 1156,
    "start_time": "2022-05-19T13:10:58.663Z"
   },
   {
    "duration": 3,
    "start_time": "2022-05-19T13:10:59.820Z"
   },
   {
    "duration": 142,
    "start_time": "2022-05-19T13:10:59.825Z"
   },
   {
    "duration": 5,
    "start_time": "2022-05-19T13:10:59.968Z"
   },
   {
    "duration": 55,
    "start_time": "2022-05-19T13:10:59.974Z"
   },
   {
    "duration": 24,
    "start_time": "2022-05-19T13:11:00.031Z"
   }
  ],
  "kernelspec": {
   "display_name": "Python 3 (ipykernel)",
   "language": "python",
   "name": "python3"
  },
  "language_info": {
   "codemirror_mode": {
    "name": "ipython",
    "version": 3
   },
   "file_extension": ".py",
   "mimetype": "text/x-python",
   "name": "python",
   "nbconvert_exporter": "python",
   "pygments_lexer": "ipython3",
   "version": "3.9.12"
  },
  "toc": {
   "base_numbering": 1,
   "nav_menu": {},
   "number_sections": true,
   "sideBar": true,
   "skip_h1_title": true,
   "title_cell": "Содержание",
   "title_sidebar": "Contents",
   "toc_cell": true,
   "toc_position": {
    "height": "calc(100% - 180px)",
    "left": "10px",
    "top": "150px",
    "width": "305.383px"
   },
   "toc_section_display": true,
   "toc_window_display": true
  }
 },
 "nbformat": 4,
 "nbformat_minor": 2
}